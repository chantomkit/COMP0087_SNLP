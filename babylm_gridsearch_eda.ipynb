{
 "cells": [
  {
   "cell_type": "code",
   "execution_count": 13,
   "metadata": {},
   "outputs": [],
   "source": [
    "import pickle\n",
    "import os"
   ]
  },
  {
   "cell_type": "code",
   "execution_count": 28,
   "metadata": {},
   "outputs": [
    {
     "data": {
      "text/plain": [
       "['babylm_augment_gridsearch/babylm_augment_512-0.8-0.9-True_0.pkl',\n",
       " 'babylm_augment_gridsearch/babylm_augment_256-0.9-0.9-True_0.pkl',\n",
       " 'babylm_augment_gridsearch/babylm_augment_512-0.7-0.9-True_0.pkl',\n",
       " 'babylm_augment_gridsearch/babylm_augment_256-1.2-0.9-True_0.pkl',\n",
       " 'babylm_augment_gridsearch/babylm_augment_256-0.8-0.9-True_0.pkl',\n",
       " 'babylm_augment_gridsearch/babylm_augment_512-1.2-0.9-True_0.pkl',\n",
       " 'babylm_augment_gridsearch/babylm_augment_256-0.7-0.9-True_0.pkl',\n",
       " 'babylm_augment_gridsearch/babylm_augment_512-0.9-0.9-True_0.pkl',\n",
       " 'babylm_augment_gridsearch/babylm_augment_512-1.0-0.9-True_0.pkl',\n",
       " 'babylm_augment_gridsearch/babylm_augment_256-1.1-0.9-True_0.pkl',\n",
       " 'babylm_augment_gridsearch/babylm_augment_256-1.0-0.9-True_0.pkl',\n",
       " 'babylm_augment_gridsearch/babylm_augment_512-1.1-0.9-True_0.pkl',\n",
       " 'babylm_augment_gridsearch/babylm_augment_256-0.8-1.0-True_0.pkl',\n",
       " 'babylm_augment_gridsearch/babylm_augment_256-0.7-1.0-True_0.pkl',\n",
       " 'babylm_augment_gridsearch/babylm_augment_256-1.2-1.0-True_0.pkl',\n",
       " 'babylm_augment_gridsearch/babylm_augment_256-0.9-1.0-True_0.pkl',\n",
       " 'babylm_augment_gridsearch/babylm_augment_256-1.0-1.0-True_0.pkl',\n",
       " 'babylm_augment_gridsearch/babylm_augment_256-1.1-1.0-True_0.pkl']"
      ]
     },
     "execution_count": 28,
     "metadata": {},
     "output_type": "execute_result"
    }
   ],
   "source": [
    "dir_name = \"babylm_augment_gridsearch/\"\n",
    "fnames = [dir_name + f for f in os.listdir(dir_name) if f.endswith(\".pkl\")]\n",
    "fnames"
   ]
  },
  {
   "cell_type": "code",
   "execution_count": 40,
   "metadata": {},
   "outputs": [
    {
     "name": "stdout",
     "output_type": "stream",
     "text": [
      "{'max_new_tokens': 256, 'temperature': 0.8, 'top_p': 1.0, 'do_sample': True}\n",
      "i know we got stuff all over it but that's alright.\n",
      "When I woke up, I looked around my room and saw that it was a mess. Toothbrushes were scattered on the bed, books and papers were strewn across the floor, and my backpack was sitting on top of it all.\n",
      "------\n",
      "{'max_new_tokens': 256, 'temperature': 0.7, 'top_p': 1.0, 'do_sample': True}\n",
      "i know we got stuff all over it but that's alright.\n",
      "Once upon a time, there was a little girl named Lily who loved to paint. She had a big canvas in her room that she decorated with all sorts of colors and shapes. But one day, she decided to paint a pi\n",
      "------\n",
      "{'max_new_tokens': 256, 'temperature': 1.2, 'top_p': 1.0, 'do_sample': True}\n",
      "i know we got stuff all over it but that's alright.\n",
      "One morning, little Anna woke up to a big mess in her room. Her toys, books, and clothes were scattered all over the place, making it hard to find anything. But even though she was upset, Anna didn't \n",
      "------\n",
      "{'max_new_tokens': 256, 'temperature': 0.9, 'top_p': 1.0, 'do_sample': True}\n",
      "i know we got stuff all over it but that's alright.\n",
      "Once upon a time, in a small town nestled in the heart of the country, there was a little girl named Ellie. She lived with her family in a cozy little house with a big yard where she could run and pla\n",
      "------\n",
      "{'max_new_tokens': 256, 'temperature': 1.0, 'top_p': 1.0, 'do_sample': True}\n",
      "i know we got stuff all over it but that's alright.\n",
      "Once upon a time, there was a little girl named Lily who was playing with her dolls in her room. She had so many dolls that they were scattered all over her room, on her bed, and on the floor. She did\n",
      "------\n",
      "{'max_new_tokens': 256, 'temperature': 1.1, 'top_p': 1.0, 'do_sample': True}\n",
      "i know we got stuff all over it but that's alright.\n",
      "Once there was a girl named Lucy who loved to paint. She loved to experiment with different colors and techniques, and she spent most of her free time in her room with a big canvas and a brush. One da\n",
      "------\n"
     ]
    }
   ],
   "source": [
    "import random\n",
    "n = len(pickle.load(open(fnames[0], \"rb\")))\n",
    "\n",
    "idx = random.randint(0, n)\n",
    "\n",
    "for fname in fnames:\n",
    "    data = pickle.load(open(fname, \"rb\"))\n",
    "    # if data[idx][\"kwargs\"][\"temperature\"] == 0.7:\n",
    "    if (\n",
    "        data[idx][\"kwargs\"][\"max_new_tokens\"] == 256 \\\n",
    "            and\n",
    "        data[idx][\"kwargs\"][\"top_p\"] == 1. \\\n",
    "    ):\n",
    "        print(data[idx][\"kwargs\"])\n",
    "        print(data[idx][\"text\"].replace(\"\\n\", \" \"))\n",
    "        print(data[idx][\"augmented_text\"].replace(\"\\n\", \" \")[:200])\n",
    "        print(\"------\")"
   ]
  },
  {
   "cell_type": "code",
   "execution_count": null,
   "metadata": {},
   "outputs": [],
   "source": []
  }
 ],
 "metadata": {
  "kernelspec": {
   "display_name": "base",
   "language": "python",
   "name": "python3"
  },
  "language_info": {
   "codemirror_mode": {
    "name": "ipython",
    "version": 3
   },
   "file_extension": ".py",
   "mimetype": "text/x-python",
   "name": "python",
   "nbconvert_exporter": "python",
   "pygments_lexer": "ipython3",
   "version": "3.11.8"
  }
 },
 "nbformat": 4,
 "nbformat_minor": 2
}
