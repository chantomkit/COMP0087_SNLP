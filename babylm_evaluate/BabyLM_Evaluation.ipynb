version https://git-lfs.github.com/spec/v1
oid sha256:8b86be1398783a34abe6fd76bbe5d5aaf51fd1a361d3c4dd28e3e3dabec04a65
size 500663
