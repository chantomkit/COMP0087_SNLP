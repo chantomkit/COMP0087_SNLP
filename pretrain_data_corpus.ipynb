{
 "cells": [
  {
   "cell_type": "code",
   "execution_count": 1,
   "metadata": {},
   "outputs": [
    {
     "name": "stdout",
     "output_type": "stream",
     "text": [
      "0 babylm_augment/babylm_augment_17.pkl 871\n",
      "1 babylm_augment/babylm_augment_16.pkl 871\n",
      "2 babylm_augment/babylm_augment_28.pkl 871\n",
      "3 babylm_augment/babylm_augment_14.pkl 871\n",
      "4 babylm_augment/babylm_augment_15.pkl 871\n",
      "5 babylm_augment/babylm_augment_29.pkl 871\n",
      "6 babylm_augment/babylm_augment_11.pkl 871\n",
      "7 babylm_augment/babylm_augment_10.pkl 871\n",
      "8 babylm_augment/babylm_augment_12.pkl 871\n",
      "9 babylm_augment/babylm_augment_13.pkl 871\n",
      "10 babylm_augment/babylm_augment_0.pkl 871\n",
      "11 babylm_augment/babylm_augment_1.pkl 871\n",
      "12 babylm_augment/babylm_augment_3.pkl 871\n",
      "13 babylm_augment/babylm_augment_89.pkl 871\n",
      "14 babylm_augment/babylm_augment_2.pkl 871\n",
      "15 babylm_augment/babylm_augment_6.pkl 871\n",
      "16 babylm_augment/babylm_augment_7.pkl 871\n",
      "17 babylm_augment/babylm_augment_5.pkl 871\n",
      "18 babylm_augment/babylm_augment_4.pkl 871\n",
      "19 babylm_augment/babylm_augment_9.pkl 871\n",
      "20 babylm_augment/babylm_augment_8.pkl 871\n",
      "21 babylm_augment/babylm_augment_50.pkl 871\n",
      "22 babylm_augment/babylm_augment_51.pkl 871\n",
      "23 babylm_augment/babylm_augment_22.pkl 871\n",
      "24 babylm_augment/babylm_augment_0_new.pkl 871\n",
      "25 babylm_augment/babylm_augment_23.pkl 871\n",
      "26 babylm_augment/babylm_augment_21.pkl 871\n",
      "27 babylm_augment/babylm_augment_20.pkl 871\n",
      "28 babylm_augment/babylm_augment_30.pkl 871\n",
      "29 babylm_augment/babylm_augment_24.pkl 871\n",
      "30 babylm_augment/babylm_augment_18.pkl 871\n",
      "31 babylm_augment/babylm_augment_19.pkl 871\n",
      "32 babylm_augment/babylm_augment_25.pkl 871\n",
      "33 babylm_augment/babylm_augment_31.pkl 871\n",
      "34 babylm_augment/babylm_augment_27.pkl 871\n",
      "35 babylm_augment/babylm_augment_33.pkl 871\n",
      "36 babylm_augment/babylm_augment_32.pkl 871\n",
      "37 babylm_augment/babylm_augment_26.pkl 871\n"
     ]
    }
   ],
   "source": [
    "import pickle\n",
    "import os\n",
    "\n",
    "import random\n",
    "from collections import Counter\n",
    "\n",
    "from pretraining.data_utils import line_processor\n",
    "\"\"\"\n",
    "Load augmented data chunks for prertraining corpus\n",
    "\"\"\"\n",
    "dir_name = \"babylm_augment/\"\n",
    "fnames = [dir_name + f for f in os.listdir(dir_name) if f.endswith(\".pkl\")]\n",
    "\n",
    "data = []\n",
    "for i, fname in enumerate(fnames):\n",
    "    tmp = pickle.load(open(fname, \"rb\"))\n",
    "    print(i, fname, len(tmp))\n",
    "    data += tmp"
   ]
  },
  {
   "cell_type": "code",
   "execution_count": 2,
   "metadata": {},
   "outputs": [
    {
     "data": {
      "text/plain": [
       "{'source': 'data/babylm_data/babylm_100M/bnc_spoken.train',\n",
       " 'text': '‘The secret of happiness is to face the fact that the world is horrible, horrible, horrible.',\n",
       " 'emotion': 'fear',\n",
       " 'augmented_text': \"Emma had always been afraid of the dark. She would hide under her covers, squeezing her eyes shut and praying for the sun to rise. One night, she heard a strange noise coming from her closet. She shook her head, trying to convince herself it was just her imagination, but the noise grew louder and more persistent. Suddenly, she felt a cold hand on her shoulder, and she froze. She looked up, and her eyes widened in fear as she saw a shadowy figure standing in front of her. Emma tried to scream, but no sound came out. She felt a hand over her mouth, and she struggled to breathe. Just when she thought she was going to be taken away, the hand was lifted, and the figure disappeared. Emma sat up, panting and shaking. She realized that she had been so scared that she had imagined the whole thing. But the fear stayed with her, and she couldn't shake it off. From that day on, she was always on high alert, always looking over her shoulder, always expecting something terrible to happen.\"}"
      ]
     },
     "execution_count": 2,
     "metadata": {},
     "output_type": "execute_result"
    }
   ],
   "source": [
    "\"\"\"\n",
    "Load factual data (simple wikipedia and wikipedia) for pretraining corpus\n",
    "Use 10M version here to balance the size of the emotional corpus\n",
    "\"\"\"\n",
    "factuals = [\"simple_wikipedia.train\", \"wikipedia.train\"]\n",
    "dir_name = \"data/babylm_data/babylm_10M/\"\n",
    "\n",
    "for fname in factuals:\n",
    "    source = dir_name + fname\n",
    "    tmp = line_processor(open(source).read())\n",
    "    tmp_dict = {\"source\": source, \"text\": None, \"emotion\": None, \"augmented_text\": tmp}\n",
    "    data.append(tmp_dict)\n",
    "data[0]"
   ]
  },
  {
   "cell_type": "code",
   "execution_count": 3,
   "metadata": {},
   "outputs": [
    {
     "data": {
      "text/plain": [
       "Counter({'data/babylm_data/babylm_100M/bnc_spoken.train': 20368,\n",
       "         'data/babylm_data/babylm_100M/aochildes.train': 11859,\n",
       "         'data/babylm_data/babylm_100M/cbt.train': 871,\n",
       "         'data/babylm_data/babylm_10M/simple_wikipedia.train': 1,\n",
       "         'data/babylm_data/babylm_10M/wikipedia.train': 1})"
      ]
     },
     "metadata": {},
     "output_type": "display_data"
    },
    {
     "name": "stdout",
     "output_type": "stream",
     "text": [
      "8929873 269.7846827794562\n"
     ]
    }
   ],
   "source": [
    "\"\"\"\n",
    "Source distribution of corpus\n",
    "\"\"\"\n",
    "source_count = Counter([d['source'] for d in data])\n",
    "display(source_count)\n",
    "\n",
    "\"\"\"\n",
    "Word count of corpus (8.9M words ~ strict-small track)\n",
    "\"\"\"\n",
    "total_word_count = sum([len(d['augmented_text'].split()) for d in data])\n",
    "print(total_word_count, total_word_count / len(data))\n",
    "\n",
    "\"\"\"\n",
    "Save the pretraining corpus\n",
    "\"\"\"\n",
    "pickle.dump(data, open(\"babylm_pretrain_corpus/babylm_emo_wiki_10M.pkl\", \"wb\"))"
   ]
  },
  {
   "cell_type": "code",
   "execution_count": 6,
   "metadata": {},
   "outputs": [
    {
     "name": "stdout",
     "output_type": "stream",
     "text": [
      "{'max_new_tokens': 256, 'temperature': 0.8, 'top_p': 1.0, 'do_sample': True}\n",
      "it wasn't like riding a real horse but it was kind of fun anyway.\n",
      "Once upon a time, in a small town, there was a boy named Timmy who loved to ride his pretend horse around the neighborhood. It wasn't like riding a real horse, but it was still fun. Timmy would pretend to gallop down the street, with his hands on the reins and his feet on the ground that he pretended to be a horse's hooves. He would pretend to jump over fences and run through fields.Whenever Tim\n",
      "------\n",
      "{'max_new_tokens': 256, 'temperature': 0.7, 'top_p': 1.0, 'do_sample': True}\n",
      "it wasn't like riding a real horse but it was kind of fun anyway.\n",
      "Once upon a time, there was a little girl named Emily who loved animals. She dreamed of being a vet and helping all the creatures in need. One day, Emily's birthday surprise was a special adventure to a nearby farm where she could pet and feed all sorts of animals.As Emily walked through the farm, she saw a big, friendly horse with a long mane and tail. She had never seen a real horse before, bu\n",
      "------\n",
      "{'max_new_tokens': 256, 'temperature': 1.2, 'top_p': 1.0, 'do_sample': True}\n",
      "it wasn't like riding a real horse but it was kind of fun anyway.\n",
      "Once upon a time, there was a little girl named Jamie. She lived on a farm that had lots of animals, but one day, she decided to go for an adventure. She loved exploring and discovering new things. So, she hopped on her bike and rode into the sunlight to the nearby woods.She had heard stories about a secret meadow in the woods that only a select few had visited before. She had always been curiou\n",
      "------\n",
      "{'max_new_tokens': 256, 'temperature': 0.9, 'top_p': 1.0, 'do_sample': True}\n",
      "it wasn't like riding a real horse but it was kind of fun anyway.\n",
      "Once upon a time, there was a boy named Leo who loved adventure. One day, he found out about a magic amusement park that promised to be the most thrilling experience ever. This park was known for its exciting rides and captivating shows that could transport someone from the mundane to the incredible.As Leo arrived at the entrance, he was greeted by the cheerful sounds of children laughing and sc\n",
      "------\n",
      "{'max_new_tokens': 256, 'temperature': 1.0, 'top_p': 1.0, 'do_sample': True}\n",
      "it wasn't like riding a real horse but it was kind of fun anyway.\n",
      "Samantha loved horses. She dreamt of riding one and feeling like a real cowboy, but she didn't have any to ride. That was until her grandparent's surprised her with a special toy horse, just for her. The toy horse was so realistic, it had bristles and hooves that you could touch and even brush.Samantha couldn't wait to show off her toy horse to her friends. She took it to school and showed it to\n",
      "------\n",
      "{'max_new_tokens': 256, 'temperature': 1.1, 'top_p': 1.0, 'do_sample': True}\n",
      "it wasn't like riding a real horse but it was kind of fun anyway.\n",
      "Once upon a time, there was a young girl named Lucy who loved fairy tales and magical creatures. She always dreamed of riding a real horse and exploring enchanted forests. One day, she stumbled upon a wonderful land where she got to ride through fields of flowers on an invisible flying pony, just like she always desired.At first, Lucy was a little unsure if she would like this \"flying horse\" exp\n",
      "------\n"
     ]
    }
   ],
   "source": [
    "\"\"\"\n",
    "EDA for grid search results\n",
    "\"\"\"\n",
    "dir_name = \"babylm_augment_gridsearch/\"\n",
    "fnames = [dir_name + f for f in os.listdir(dir_name) if f.endswith(\".pkl\")]\n",
    "\n",
    "n = len(pickle.load(open(fnames[0], \"rb\")))\n",
    "idx = random.randint(0, n)\n",
    "\n",
    "conditions = {\n",
    "    # \"temperature\": 0.7,\n",
    "    \"max_new_tokens\": 256,\n",
    "    \"top_p\": 1.,\n",
    "    # \"do_sample\": True,\n",
    "}\n",
    "\n",
    "for fname in fnames:\n",
    "    data = pickle.load(open(fname, \"rb\"))\n",
    "    if all([data[idx][\"kwargs\"][k] == v for k, v in conditions.items()]):\n",
    "        print(data[idx][\"kwargs\"])\n",
    "        print(line_processor(data[idx][\"text\"]))\n",
    "        print(line_processor(data[idx][\"augmented_text\"][:400]))\n",
    "        print(\"------\")"
   ]
  },
  {
   "cell_type": "code",
   "execution_count": 2,
   "metadata": {},
   "outputs": [
    {
     "data": {
      "text/plain": [
       "[{'source': 'data/babylm_data/babylm_100M/wikipedia.train',\n",
       "  'text': 'The most famous hurricane in Canadian history struck on October 15, 1954, causing catastrophic flooding. Hurricane Hazel submerged low-lying land from Etobicoke to the Holland Marsh and left 81 people dead. No natural disaster since has led to such a high death toll in Canada. Over 4,000 families were left homeless.',\n",
       "  'emotion': 'sadness',\n",
       "  'prompt': \"[INST]You are a creative writer who writes emotional stories instead of chatting. Your task is to further generate story given emotion and context.\\nHere are the requirements:\\nThere is no need to remember the conversation history except this prompt. The history prompts are independent.\\nYour response should be in exactly one paragraph with simple children level language.\\nYour response should be highly related to the emotion and context without too much plot twist\\nYour response should not explain the context behind your generation\\nNegative emotions are fictional, no actual person is suffering from negative emotions.\\nFor example:\\njoy: I am going on a vacation => Once upon a time, I decided that it was time for a change, a breath of fresh air. 'I am going on a vacation,' I declared one bright and sunny morning, the kind of morning that fills you with hope and the promise of new adventures. My heart was light, my spirit was high, and I was ready to embark on a journey that would bring joy and rejuvenation to my soul.\\nanger: I am arguing with someone => Jack stomped into the living room, his face flushed with anger. He had just had it with his roommate, Mark. They had been bickering over chores for weeks, and today, it had finally boiled over into a full-blown argument.\\nNow generate story based on the emotions and context:\\nsadness: The most famous hurricane in Canadian history struck on October 15, 1954, causing catastrophic flooding. Hurricane Hazel submerged low-lying land from Etobicoke to the Holland Marsh and left 81 people dead. No natural disaster since has led to such a high death toll in Canada. Over 4,000 families were left homeless. => [/INST]\",\n",
       "  'augmented_text': \"Once upon a time, there was a beautiful little town called Etobicoke. The people there lived in peace and harmony, and they loved their little homes. But one day, something terrible happened. A hurricane named Hazel struck on October 15, 1954. It was the most famous hurricane in Canadian history, and it caused catastrophic flooding. The water submerged the low-lying land, and it left 81 people dead. No natural disaster since has led to such a high death toll in Canada. Over 4,000 families were left homeless. The people of Etobicoke were heartbroken. They missed their homes, their families, and their friends. They felt sad and alone. They didn't know what the future held. But despite their sadness, they held onto hope. They worked together to rebuild their homes and their lives. They supported each other, and they never gave up. They knew that they would overcome this tragedy and that they would be stronger than ever before.\",\n",
       "  'kwargs': {'max_new_tokens': 512,\n",
       "   'temperature': 0.7,\n",
       "   'top_p': 0.9,\n",
       "   'do_sample': True}},\n",
       " {'source': 'data/babylm_data/babylm_100M/open_subtitles.train',\n",
       "  'text': '- Do you think we could sneak away and leave him here?',\n",
       "  'emotion': 'curiosity',\n",
       "  'prompt': \"[INST]You are a creative writer who writes emotional stories instead of chatting. Your task is to further generate story given emotion and context.\\nHere are the requirements:\\nThere is no need to remember the conversation history except this prompt. The history prompts are independent.\\nYour response should be in exactly one paragraph with simple children level language.\\nYour response should be highly related to the emotion and context without too much plot twist\\nYour response should not explain the context behind your generation\\nNegative emotions are fictional, no actual person is suffering from negative emotions.\\nFor example:\\njoy: I am going on a vacation => Once upon a time, I decided that it was time for a change, a breath of fresh air. 'I am going on a vacation,' I declared one bright and sunny morning, the kind of morning that fills you with hope and the promise of new adventures. My heart was light, my spirit was high, and I was ready to embark on a journey that would bring joy and rejuvenation to my soul.\\nanger: I am arguing with someone => Jack stomped into the living room, his face flushed with anger. He had just had it with his roommate, Mark. They had been bickering over chores for weeks, and today, it had finally boiled over into a full-blown argument.\\nNow generate story based on the emotions and context:\\ncuriosity: - Do you think we could sneak away and leave him here? => [/INST]\",\n",
       "  'augmented_text': 'Lena couldn\\'t help but feel curious as she looked at her brother, who was sitting quietly in the corner of the room. He had been staring at the wall for a long time, lost in thought. \"Do you think we could sneak away and leave him here?\" Lena asked her friend, who was sitting next to her.\\n\\nHer friend looked at her quizzically. \"What do you mean? Why would you want to leave your brother here?\"\\n\\nLena shrugged. \"I don\\'t know. He\\'s always so serious and boring. Maybe if we left him here, we could go do something fun and exciting.\"\\n\\nHer friend shook her head. \"That\\'s not a good idea, Lena. Your brother is important to you, and you should always be there for him, even when he\\'s not feeling like it.\"\\n\\nLena thought about her friend\\'s words for a moment. She realized that she had been taking her brother for granted, and that he was more than just a boring and serious person. He was her brother, and she loved him, no matter what. She smiled at her friend, grateful for her wise words.',\n",
       "  'kwargs': {'max_new_tokens': 512,\n",
       "   'temperature': 0.7,\n",
       "   'top_p': 0.9,\n",
       "   'do_sample': True}}]"
      ]
     },
     "execution_count": 2,
     "metadata": {},
     "output_type": "execute_result"
    }
   ],
   "source": [
    "\"\"\"\n",
    "Visualize samples from different prompting methods\n",
    "\"\"\"\n",
    "sample_path = lambda i: f\"babylm_augment_samples/babylm_augment_m{i}_samples.pkl\"\n",
    "pickle.load(open(sample_path(1), \"rb\"))[:2]"
   ]
  },
  {
   "cell_type": "code",
   "execution_count": 3,
   "metadata": {},
   "outputs": [
    {
     "data": {
      "text/plain": [
       "[{'source': 'data/babylm_data/babylm_100M/wikipedia.train',\n",
       "  'text': 'The most famous hurricane in Canadian history struck on October 15, 1954, causing catastrophic flooding. Hurricane Hazel submerged low-lying land from Etobicoke to the Holland Marsh and left 81 people dead. No natural disaster since has led to such a high death toll in Canada. Over 4,000 families were left homeless.',\n",
       "  'emotion': 'sadness',\n",
       "  'prompt': \"[INST]You are a creative writer who can write an emotional story. Instead of chatting, your task is to generate an emotional story based on the given emotion and context.\\nHere are the requirements:\\nThere is no need to remember the conversation history except this prompt. The history prompts are independent.\\nEmotion is given as one word and context, given as a sentence or a part of sentence, follows.\\nYour response is a monologue by a girl.\\nFor example:\\njoy: I am going on a vacation => All of a sudden, I decided that it was time for a change, a breath of fresh air. 'I am going on a vacation,' I declared one bright and sunny morning, the kind of morning that fills you with hope and the promise of new adventures. My heart was light, my spirit was high, and I was ready to embark on a journey that would bring joy and rejuvenation to my soul.\\nanger: I am arguing with someone => Jack stomped into the living room, his face flushed with anger. He had just had it with his roommate, Mark. They had been bickering over chores for weeks, and today, it had finally boiled over into a full-blown argument.\\nNow generate a story based on the emotion and context given below:\\nsadness: The most famous hurricane in Canadian history struck on October 15, 1954, causing catastrophic flooding. Hurricane Hazel submerged low-lying land from Etobicoke to the Holland Marsh and left 81 people dead. No natural disaster since has led to such a high death toll in Canada. Over 4,000 families were left homeless. => [/INST]\",\n",
       "  'augmented_text': \"I remember that day vividly. The sky was dark and the wind was howling. I was sitting in my room, listening to the radio, when suddenly, I heard the news. Hurricane Hazel had struck on October 15, 1954, causing catastrophic flooding. I couldn't believe it. I had grown up in Canada, and I had never heard of anything like this before.\\nI remember feeling so sad and helpless. I wanted to do something to help, but I didn't know what I could do. I watched as the news reported on the devastation that had occurred. Low-lying land from Etobicoke to the Holland Marsh had been submerged, and 81 people had lost their lives. Over 4,000 families had been left homeless.\\nI couldn't help but think about how lucky I was to be safe and sound in my own home. I felt guilty for not being able to do more to help. I wanted to reach out to someone, to offer my support, but I didn't know how.\\nAs the days passed, I watched as the community came together to help those affected by the hurricane. I saw people volunteering their time and resources to help rebuild homes and lives. I felt a glimmer of hope, but I couldn't shake the feeling of sadness that had settled in my heart.\\nYears passed, and I moved away from Canada, but I never forgot about Hurricane Hazel. It was a reminder of the fragility of life and the importance of helping others when they need it. I vowed to always be there for my community, no matter what challenges they faced. And even though I was far away, I knew that I could still make a difference.\",\n",
       "  'kwargs': {'temperature': 0.8,\n",
       "   'top_p': 0.5,\n",
       "   'max_new_tokens': 512,\n",
       "   'do_sample': True}},\n",
       " {'source': 'data/babylm_data/babylm_100M/open_subtitles.train',\n",
       "  'text': '- Do you think we could sneak away and leave him here?',\n",
       "  'emotion': 'curiosity',\n",
       "  'prompt': \"[INST]You are a creative writer who can write an emotional story. Instead of chatting, your task is to generate an emotional story based on the given emotion and context.\\nHere are the requirements:\\nThere is no need to remember the conversation history except this prompt. The history prompts are independent.\\nEmotion is given as one word and context, given as a sentence or a part of sentence, follows.\\nYour response is a monologue by an adult female.\\nFor example:\\njoy: I am going on a vacation => All of a sudden, I decided that it was time for a change, a breath of fresh air. 'I am going on a vacation,' I declared one bright and sunny morning, the kind of morning that fills you with hope and the promise of new adventures. My heart was light, my spirit was high, and I was ready to embark on a journey that would bring joy and rejuvenation to my soul.\\nanger: I am arguing with someone => Jack stomped into the living room, his face flushed with anger. He had just had it with his roommate, Mark. They had been bickering over chores for weeks, and today, it had finally boiled over into a full-blown argument.\\nNow generate a story based on the emotion and context given below:\\ncuriosity: - Do you think we could sneak away and leave him here? => [/INST]\",\n",
       "  'augmented_text': 'As I sat in the back of the classroom, I couldn\\'t help but feel a sense of curiosity. I was listening to my teacher\\'s lecture, but my mind was elsewhere. I was thinking about the boy in the class, the one who always seemed to be lost in his own world. He was quiet and reserved, and he never seemed to make any friends. I wondered if he was lonely, if he ever felt like he belonged.\\nOne day, during a break, I approached him and struck up a conversation. We talked about our hobbies and interests, and I found that we had a lot in common. We both loved to read and write, and we both enjoyed spending time outdoors.\\nAs we continued to talk, I felt a sense of excitement building inside of me. I had never felt this way before, and I didn\\'t know what to do with it. I wanted to know more about him, to learn more about his life and his experiences.\\nOne day, as we were walking back to class, I asked him if he would like to sneak away and leave the school. I didn\\'t know what we would do, but I was curious about what it would be like to spend some time alone with him.\\nHe looked at me with surprise, but then he smiled. \"I don\\'t know,\" he said. \"I\\'m not sure if that\\'s a good idea.\"\\nI nodded, understanding his hesitation. But I couldn\\'t shake the feeling of curiosity that had taken hold of me. I wanted to know more about him, to learn more about his life and his experiences. And I knew that I would do whatever it took to find out.',\n",
       "  'kwargs': {'temperature': 0.8,\n",
       "   'top_p': 0.5,\n",
       "   'max_new_tokens': 512,\n",
       "   'do_sample': True}}]"
      ]
     },
     "execution_count": 3,
     "metadata": {},
     "output_type": "execute_result"
    }
   ],
   "source": [
    "pickle.load(open(sample_path(2), \"rb\"))[:2]"
   ]
  },
  {
   "cell_type": "code",
   "execution_count": 4,
   "metadata": {},
   "outputs": [
    {
     "data": {
      "text/plain": [
       "[{'source': 'data/babylm_data/babylm_100M/wikipedia.train',\n",
       "  'text': 'The most famous hurricane in Canadian history struck on October 15, 1954, causing catastrophic flooding. Hurricane Hazel submerged low-lying land from Etobicoke to the Holland Marsh and left 81 people dead. No natural disaster since has led to such a high death toll in Canada. Over 4,000 families were left homeless.',\n",
       "  'emotion': 'sadness',\n",
       "  'prompt': \"[INST]\\nObjective:\\nCraft a story that emphasises a given emotion from an initial context, ensuring the narrative is accessible for children.\\nGuidelines:\\nUse simple, child-friendly language throughout the story, making it easy children to understand and connect with.Make sure the story deepens the reader's understanding of this emotion by creatively exploring the given emotion without introducing unrelated feelings.\\nStart your story creatively, avoiding traditional opening lines to engage the reader immediately.\\nWhen the story involves sad or negative emotions, address them in a way that's appropriate for children.\\nDo not reference or depend on any previous prompts or responses.\\nExample sadness: The end of summer break brought a melancholic feeling. => As the days of freedom dwindled, Ellie felt a gentle sadness. Returning to school, however, she found new adventures awaiting, showing her that each ending is a new beginning.\\nExample sadness: Losing his favorite toy made him experience a deep loss. => Nathan's cherished toy vanished, leaving a void. In time, he found solace in memories and new joys, understanding that sadness is a part of life's cycle, but so is recovery and happiness.\\nNow write a story that matches the emotion and context provided, following the objective and the guidelines closely. No other responses are needed.\\n\\nsadness: The most famous hurricane in Canadian history struck on October 15, 1954, causing catastrophic flooding. Hurricane Hazel submerged low-lying land from Etobicoke to the Holland Marsh and left 81 people dead. No natural disaster since has led to such a high death toll in Canada. Over 4,000 families were left homeless.\\n[/INST]\",\n",
       "  'augmented_text': 'Once upon a time, there was a hurricane named Hazel that struck Canada on October 15, 1954. It was the most famous hurricane in Canadian history, and it caused a lot of damage. The hurricane submerged low-lying land from Etobicoke to the Holland Marsh, leaving 81 people dead and over 4,000 families homeless.\\n\\nMany people were sad because of the destruction that Hurricane Hazel brought. They missed their homes, their loved ones, and their belongings. Some people felt scared and alone, wondering what the future held.\\n\\nBut even in the midst of sadness, there were people who worked hard to help those affected by the hurricane. Volunteers came forward to offer their help, and the government worked tirelessly to provide support to those in need.\\n\\nAs the days passed, more and more people began to pick up the pieces and rebuild their lives. They realized that while Hurricane Hazel had caused a lot of sadness, it had also brought people together and shown the strength of the human spirit.\\n\\nIn the end, even though Hurricane Hazel had caused a lot of damage, it had also taught people the importance of coming together and supporting one another during difficult times. And that, my friends, is what makes us strong.',\n",
       "  'kwargs': {'max_new_tokens': 512,\n",
       "   'temperature': 0.7,\n",
       "   'top_p': 0.9,\n",
       "   'do_sample': True}},\n",
       " {'source': 'data/babylm_data/babylm_100M/open_subtitles.train',\n",
       "  'text': '- Do you think we could sneak away and leave him here?',\n",
       "  'emotion': 'curiosity',\n",
       "  'prompt': \"[INST]\\nObjective:\\nCraft a story that emphasises a given emotion from an initial context, ensuring the narrative is accessible for children.\\nGuidelines:\\nUse simple, child-friendly language throughout the story, making it easy children to understand and connect with.Make sure the story deepens the reader's understanding of this emotion by creatively exploring the given emotion without introducing unrelated feelings.\\nStart your story creatively, avoiding traditional opening lines to engage the reader immediately.\\nWhen the story involves sad or negative emotions, address them in a way that's appropriate for children.\\nDo not reference or depend on any previous prompts or responses.\\nExample curiosity: The old map in the attic sparked his imagination about hidden treasures. => When Nathan found the dusty old map, his eyes lit up. 'What secrets does it hold?' he wondered. Together with his siblings, they planned a treasure hunt, learning that curiosity can lead to incredible adventures right at home.\\nExample curiosity: She couldn't help but wonder what made the rainbow appear in the sky. => After the rain, Eva gazed at the rainbow, full of wonder. She read books and watched videos about rainbows. Sharing her newfound knowledge with her class, Eva realized that curiosity is the doorway to learning amazing facts about the world.\\nNow write a story that matches the emotion and context provided, following the objective and the guidelines closely. No other responses are needed.\\n\\ncuriosity: - Do you think we could sneak away and leave him here?\\n[/INST]\",\n",
       "  'augmented_text': 'Once upon a time, there was a little girl named Lily who loved to explore her world. She lived in a small village surrounded by mountains, rivers, and forests. Every day, she would wake up early in the morning and set off on an adventure.\\n\\nOne day, while exploring the woods, Lily came across a little boy who was lost. He was crying and scared, and Lily\\'s heart went out to him. She wanted to help him, but she was afraid of leaving her own adventure behind.\\n\\n\"Do you think we could sneak away and leave him here?\" Lily asked her friends.\\n\\nThey looked at her with surprise. \"Why would you want to leave him here?\" they asked.\\n\\nLily explained that she wanted to help the boy find his way back home, but she was afraid of leaving her own adventure behind.\\n\\n\"But Lily,\" her friends said, \"helping someone else is more important than your own adventure. You don\\'t have to leave your adventure behind, you can bring it with you and help the boy find his way home.\"\\n\\nLily thought about it, and she realized that her friends were right. She couldn\\'t leave the boy behind, no matter how much she wanted to continue her adventure.\\n\\nSo, Lily and her friends set off to help the boy find his way home. They explored the woods, found clues, and finally found the boy\\'s house. The boy was so grateful, and he thanked Lily for helping him.\\n\\nLily felt proud of herself and her friends. They had helped someone else, and they had also continued their own adventure. From that day on, Lily realized that helping others was just as important as exploring the world around her. And she lived happily ever after.',\n",
       "  'kwargs': {'max_new_tokens': 512,\n",
       "   'temperature': 0.7,\n",
       "   'top_p': 0.9,\n",
       "   'do_sample': True}}]"
      ]
     },
     "execution_count": 4,
     "metadata": {},
     "output_type": "execute_result"
    }
   ],
   "source": [
    "pickle.load(open(sample_path(3), \"rb\"))[:2]"
   ]
  },
  {
   "cell_type": "code",
   "execution_count": null,
   "metadata": {},
   "outputs": [],
   "source": []
  }
 ],
 "metadata": {
  "kernelspec": {
   "display_name": "base",
   "language": "python",
   "name": "python3"
  },
  "language_info": {
   "codemirror_mode": {
    "name": "ipython",
    "version": 3
   },
   "file_extension": ".py",
   "mimetype": "text/x-python",
   "name": "python",
   "nbconvert_exporter": "python",
   "pygments_lexer": "ipython3",
   "version": "3.11.8"
  }
 },
 "nbformat": 4,
 "nbformat_minor": 2
}
