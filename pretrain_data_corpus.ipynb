{
 "cells": [
  {
   "cell_type": "code",
   "execution_count": 1,
   "metadata": {},
   "outputs": [
    {
     "name": "stdout",
     "output_type": "stream",
     "text": [
      "babylm_augment/babylm_augment_17.pkl 871\n",
      "babylm_augment/babylm_augment_16.pkl 871\n",
      "babylm_augment/babylm_augment_28.pkl 871\n",
      "babylm_augment/babylm_augment_14.pkl 871\n",
      "babylm_augment/babylm_augment_15.pkl 871\n",
      "babylm_augment/babylm_augment_29.pkl 871\n",
      "babylm_augment/babylm_augment_11.pkl 871\n",
      "babylm_augment/babylm_augment_10.pkl 871\n",
      "babylm_augment/babylm_augment_12.pkl 871\n",
      "babylm_augment/babylm_augment_13.pkl 871\n",
      "babylm_augment/babylm_augment_0.pkl 871\n",
      "babylm_augment/babylm_augment_1.pkl 871\n",
      "babylm_augment/babylm_augment_3.pkl 871\n",
      "babylm_augment/babylm_augment_89.pkl 871\n",
      "babylm_augment/babylm_augment_2.pkl 871\n",
      "babylm_augment/babylm_augment_6.pkl 871\n",
      "babylm_augment/babylm_augment_7.pkl 871\n",
      "babylm_augment/babylm_augment_5.pkl 871\n",
      "babylm_augment/babylm_augment_4.pkl 871\n",
      "babylm_augment/babylm_augment_9.pkl 871\n",
      "babylm_augment/babylm_augment_8.pkl 871\n",
      "babylm_augment/babylm_augment_50.pkl 871\n",
      "babylm_augment/babylm_augment_51.pkl 871\n",
      "babylm_augment/babylm_augment_22.pkl 871\n",
      "babylm_augment/babylm_augment_0_new.pkl 871\n",
      "babylm_augment/babylm_augment_23.pkl 871\n",
      "babylm_augment/babylm_augment_21.pkl 871\n",
      "babylm_augment/babylm_augment_20.pkl 871\n",
      "babylm_augment/babylm_augment_30.pkl 871\n",
      "babylm_augment/babylm_augment_24.pkl 871\n",
      "babylm_augment/babylm_augment_18.pkl 871\n",
      "babylm_augment/babylm_augment_19.pkl 871\n",
      "babylm_augment/babylm_augment_25.pkl 871\n",
      "babylm_augment/babylm_augment_31.pkl 871\n",
      "babylm_augment/babylm_augment_27.pkl 871\n",
      "babylm_augment/babylm_augment_33.pkl 871\n",
      "babylm_augment/babylm_augment_32.pkl 871\n",
      "babylm_augment/babylm_augment_26.pkl 871\n"
     ]
    }
   ],
   "source": [
    "import pickle\n",
    "import os\n",
    "\n",
    "import random\n",
    "from collections import Counter\n",
    "\n",
    "from pretraining.data_utils import line_processor\n",
    "\"\"\"\n",
    "Load augmented data chunks for prertraining corpus\n",
    "\"\"\"\n",
    "dir_name = \"babylm_augment/\"\n",
    "fnames = [dir_name + f for f in os.listdir(dir_name) if f.endswith(\".pkl\")]\n",
    "\n",
    "data = []\n",
    "for fname in fnames:\n",
    "    tmp = pickle.load(open(fname, \"rb\"))\n",
    "    print(fname, len(tmp))\n",
    "    data += tmp"
   ]
  },
  {
   "cell_type": "code",
   "execution_count": 2,
   "metadata": {},
   "outputs": [
    {
     "data": {
      "text/plain": [
       "{'source': 'data/babylm_data/babylm_100M/bnc_spoken.train',\n",
       " 'text': '‘The secret of happiness is to face the fact that the world is horrible, horrible, horrible.',\n",
       " 'emotion': 'fear',\n",
       " 'augmented_text': \"Emma had always been afraid of the dark. She would hide under her covers, squeezing her eyes shut and praying for the sun to rise. One night, she heard a strange noise coming from her closet. She shook her head, trying to convince herself it was just her imagination, but the noise grew louder and more persistent. Suddenly, she felt a cold hand on her shoulder, and she froze. She looked up, and her eyes widened in fear as she saw a shadowy figure standing in front of her. Emma tried to scream, but no sound came out. She felt a hand over her mouth, and she struggled to breathe. Just when she thought she was going to be taken away, the hand was lifted, and the figure disappeared. Emma sat up, panting and shaking. She realized that she had been so scared that she had imagined the whole thing. But the fear stayed with her, and she couldn't shake it off. From that day on, she was always on high alert, always looking over her shoulder, always expecting something terrible to happen.\"}"
      ]
     },
     "execution_count": 2,
     "metadata": {},
     "output_type": "execute_result"
    }
   ],
   "source": [
    "\"\"\"\n",
    "Load factual data (simple wikipedia and wikipedia) for pretraining corpus\n",
    "Use 10M version here to balance the size of the emotional corpus\n",
    "\"\"\"\n",
    "factuals = [\"simple_wikipedia.train\", \"wikipedia.train\"]\n",
    "dir_name = \"data/babylm_data/babylm_10M/\"\n",
    "\n",
    "for fname in factuals:\n",
    "    source = dir_name + fname\n",
    "    tmp = line_processor(open(source).read())\n",
    "    tmp_dict = {\"source\": source, \"text\": None, \"emotion\": None, \"augmented_text\": tmp}\n",
    "    data.append(tmp_dict)\n",
    "data[0]"
   ]
  },
  {
   "cell_type": "code",
   "execution_count": 3,
   "metadata": {},
   "outputs": [
    {
     "data": {
      "text/plain": [
       "Counter({'data/babylm_data/babylm_100M/bnc_spoken.train': 20368,\n",
       "         'data/babylm_data/babylm_100M/aochildes.train': 11859,\n",
       "         'data/babylm_data/babylm_100M/cbt.train': 871,\n",
       "         'data/babylm_data/babylm_10M/simple_wikipedia.train': 1,\n",
       "         'data/babylm_data/babylm_10M/wikipedia.train': 1})"
      ]
     },
     "metadata": {},
     "output_type": "display_data"
    },
    {
     "name": "stdout",
     "output_type": "stream",
     "text": [
      "8929873 269.7846827794562\n"
     ]
    }
   ],
   "source": [
    "\"\"\"\n",
    "Source distribution of corpus\n",
    "\"\"\"\n",
    "source_count = Counter([d['source'] for d in data])\n",
    "display(source_count)\n",
    "\n",
    "\"\"\"\n",
    "Word count of corpus (8.9M words ~ strict-small track)\n",
    "\"\"\"\n",
    "total_word_count = sum([len(d['augmented_text'].split()) for d in data])\n",
    "print(total_word_count, total_word_count / len(data))\n",
    "\n",
    "\"\"\"\n",
    "Save the pretraining corpus\n",
    "\"\"\"\n",
    "pickle.dump(data, open(\"babylm_pretrain_corpus/babylm_emo_wiki_10M.pkl\", \"wb\"))"
   ]
  },
  {
   "cell_type": "code",
   "execution_count": 4,
   "metadata": {},
   "outputs": [
    {
     "name": "stdout",
     "output_type": "stream",
     "text": [
      "{'max_new_tokens': 256, 'temperature': 0.8, 'top_p': 1.0, 'do_sample': True}\n",
      "i don't really want you to get that job anyway so.\n",
      "When I was a little girl, I loved to paint. I would spend hours creating beautiful art with all my colors and brushes. My teacher thought it was great and encouraged me to keep drawing. One day, I fou\n",
      "------\n",
      "{'max_new_tokens': 256, 'temperature': 0.7, 'top_p': 1.0, 'do_sample': True}\n",
      "i don't really want you to get that job anyway so.\n",
      "Once upon a time, there was a young girl named Lily. She had worked hard to get an interview for her dream job, and she was excited to start her new career. However, when she got the job offer, she wa\n",
      "------\n",
      "{'max_new_tokens': 256, 'temperature': 1.2, 'top_p': 1.0, 'do_sample': True}\n",
      "i don't really want you to get that job anyway so.\n",
      "As soon as Emily landed the job of her dreams, her grandmother praised her effort. \"That's great, honey! You worked hard for that!\" Emily smiled widely, relieved that her grandmother didn't disapprove\n",
      "------\n",
      "{'max_new_tokens': 256, 'temperature': 0.9, 'top_p': 1.0, 'do_sample': True}\n",
      "i don't really want you to get that job anyway so.\n",
      "Once upon a time, there was a young girl named Riley. Riley was super excited to apply for a job at a popular toy store in her town. She had always loved toys and wanted to work with them every day. B\n",
      "------\n",
      "{'max_new_tokens': 256, 'temperature': 1.0, 'top_p': 1.0, 'do_sample': True}\n",
      "i don't really want you to get that job anyway so.\n",
      "\"Once upon a time, there was a boy named Timmy. He really loved playing with his friends outside in the sun. One day, he saw a poster for a new job at an ice cream shop. Timmy was really interested an\n",
      "------\n",
      "{'max_new_tokens': 256, 'temperature': 1.1, 'top_p': 1.0, 'do_sample': True}\n",
      "i don't really want you to get that job anyway so.\n",
      "Emma was excited about the opportunity to interview for the job she really wanted. But when her colleague said, \"I don't really want you to get that job anyway,\" it suddenly took on a whole new meanin\n",
      "------\n"
     ]
    }
   ],
   "source": [
    "\"\"\"\n",
    "EDA for grid search results\n",
    "\"\"\"\n",
    "dir_name = \"babylm_augment_gridsearch/\"\n",
    "fnames = [dir_name + f for f in os.listdir(dir_name) if f.endswith(\".pkl\")]\n",
    "\n",
    "n = len(pickle.load(open(fnames[0], \"rb\")))\n",
    "idx = random.randint(0, n)\n",
    "\n",
    "conditions = {\n",
    "    # \"temperature\": 0.7,\n",
    "    \"max_new_tokens\": 256,\n",
    "    \"top_p\": 1.,\n",
    "    # \"do_sample\": True,\n",
    "}\n",
    "\n",
    "for fname in fnames:\n",
    "    data = pickle.load(open(fname, \"rb\"))\n",
    "    if all([data[idx][\"kwargs\"][k] == v for k, v in conditions.items()]):\n",
    "        print(data[idx][\"kwargs\"])\n",
    "        print(data[idx][\"text\"].replace(\"\\n\", \" \"))\n",
    "        print(data[idx][\"augmented_text\"].replace(\"\\n\", \" \")[:200])\n",
    "        print(\"------\")"
   ]
  },
  {
   "cell_type": "code",
   "execution_count": null,
   "metadata": {},
   "outputs": [],
   "source": []
  }
 ],
 "metadata": {
  "kernelspec": {
   "display_name": "base",
   "language": "python",
   "name": "python3"
  },
  "language_info": {
   "codemirror_mode": {
    "name": "ipython",
    "version": 3
   },
   "file_extension": ".py",
   "mimetype": "text/x-python",
   "name": "python",
   "nbconvert_exporter": "python",
   "pygments_lexer": "ipython3",
   "version": "3.11.8"
  }
 },
 "nbformat": 4,
 "nbformat_minor": 2
}
