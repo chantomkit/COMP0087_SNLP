{
 "cells": [
  {
   "cell_type": "code",
   "execution_count": 5,
   "metadata": {},
   "outputs": [],
   "source": [
    "import pickle\n",
    "import os\n",
    "\n",
    "import random\n",
    "from collections import Counter\n",
    "\n",
    "from pretraining.data_utils import line_processor\n",
    "\"\"\"\n",
    "Load augmented data chunks for prertraining corpus\n",
    "\"\"\"\n",
    "dir_name = \"babylm_augment/\"\n",
    "fnames = [dir_name + f for f in os.listdir(dir_name) if f.endswith(\".pkl\")]\n",
    "\n",
    "data, log = [], []\n",
    "for i, fname in enumerate(fnames):\n",
    "    tmp = pickle.load(open(fname, \"rb\"))\n",
    "    log.append(f\"augment-{i}, {fname}, {len(tmp)}\")\n",
    "    data += tmp"
   ]
  },
  {
   "cell_type": "code",
   "execution_count": 7,
   "metadata": {},
   "outputs": [
    {
     "data": {
      "text/plain": [
       "{'source': 'data/babylm_data/babylm_100M/bnc_spoken.train',\n",
       " 'text': '‘The secret of happiness is to face the fact that the world is horrible, horrible, horrible.',\n",
       " 'emotion': 'fear',\n",
       " 'augmented_text': \"Emma had always been afraid of the dark. She would hide under her covers, squeezing her eyes shut and praying for the sun to rise. One night, she heard a strange noise coming from her closet. She shook her head, trying to convince herself it was just her imagination, but the noise grew louder and more persistent. Suddenly, she felt a cold hand on her shoulder, and she froze. She looked up, and her eyes widened in fear as she saw a shadowy figure standing in front of her. Emma tried to scream, but no sound came out. She felt a hand over her mouth, and she struggled to breathe. Just when she thought she was going to be taken away, the hand was lifted, and the figure disappeared. Emma sat up, panting and shaking. She realized that she had been so scared that she had imagined the whole thing. But the fear stayed with her, and she couldn't shake it off. From that day on, she was always on high alert, always looking over her shoulder, always expecting something terrible to happen.\"}"
      ]
     },
     "execution_count": 7,
     "metadata": {},
     "output_type": "execute_result"
    }
   ],
   "source": [
    "\"\"\"\n",
    "Load factual data (simple wikipedia and wikipedia) for pretraining corpus\n",
    "Use 10M version here to balance the size of the emotional corpus\n",
    "\"\"\"\n",
    "factuals = [\"simple_wikipedia.train\", \"wikipedia.train\"]\n",
    "dir_name = \"data/babylm_data/babylm_10M/\"\n",
    "\n",
    "for i, fname in enumerate(factuals):\n",
    "    source = dir_name + fname\n",
    "    tmp = line_processor(open(source).read())\n",
    "    tmp_dict = {\"source\": source, \"text\": None, \"emotion\": None, \"augmented_text\": tmp}\n",
    "    data.append(tmp_dict)\n",
    "    log.append(f\"factual-{i}, {source}, {len(tmp)}\")\n",
    "data[0]"
   ]
  },
  {
   "cell_type": "code",
   "execution_count": 9,
   "metadata": {},
   "outputs": [
    {
     "data": {
      "text/plain": [
       "Counter({'data/babylm_data/babylm_100M/bnc_spoken.train': 20368,\n",
       "         'data/babylm_data/babylm_100M/aochildes.train': 11859,\n",
       "         'data/babylm_data/babylm_100M/cbt.train': 871,\n",
       "         'data/babylm_data/babylm_10M/simple_wikipedia.train': 1,\n",
       "         'data/babylm_data/babylm_10M/wikipedia.train': 1})"
      ]
     },
     "metadata": {},
     "output_type": "display_data"
    },
    {
     "name": "stdout",
     "output_type": "stream",
     "text": [
      "8929873 269.7846827794562\n"
     ]
    }
   ],
   "source": [
    "\"\"\"\n",
    "Source distribution of corpus\n",
    "\"\"\"\n",
    "source_count = Counter([d['source'] for d in data])\n",
    "display(source_count)\n",
    "\n",
    "\"\"\"\n",
    "Word count of corpus (8.9M words ~ strict-small track)\n",
    "\"\"\"\n",
    "total_word_count = sum([len(d['augmented_text'].split()) for d in data])\n",
    "print(total_word_count, total_word_count / len(data))\n",
    "\n",
    "\"\"\"\n",
    "Save the pretraining corpus\n",
    "\"\"\"\n",
    "pickle.dump(data, open(\"babylm_pretrain_corpus/babylm_emo_wiki_10M.pkl\", \"wb\"))\n",
    "\n",
    "\"\"\"\n",
    "write log in file\n",
    "\"\"\"\n",
    "with open(\"babylm_pretrain_corpus/babylm_emo_wiki_10M.txt\", \"w\") as f:\n",
    "    f.write(\"\\n\".join(log))"
   ]
  },
  {
   "cell_type": "code",
   "execution_count": 6,
   "metadata": {},
   "outputs": [
    {
     "name": "stdout",
     "output_type": "stream",
     "text": [
      "{'max_new_tokens': 256, 'temperature': 0.8, 'top_p': 1.0, 'do_sample': True}\n",
      "it wasn't like riding a real horse but it was kind of fun anyway.\n",
      "Once upon a time, in a small town, there was a boy named Timmy who loved to ride his pretend horse around the neighborhood. It wasn't like riding a real horse, but it was still fun. Timmy would pretend to gallop down the street, with his hands on the reins and his feet on the ground that he pretended to be a horse's hooves. He would pretend to jump over fences and run through fields.Whenever Tim\n",
      "------\n",
      "{'max_new_tokens': 256, 'temperature': 0.7, 'top_p': 1.0, 'do_sample': True}\n",
      "it wasn't like riding a real horse but it was kind of fun anyway.\n",
      "Once upon a time, there was a little girl named Emily who loved animals. She dreamed of being a vet and helping all the creatures in need. One day, Emily's birthday surprise was a special adventure to a nearby farm where she could pet and feed all sorts of animals.As Emily walked through the farm, she saw a big, friendly horse with a long mane and tail. She had never seen a real horse before, bu\n",
      "------\n",
      "{'max_new_tokens': 256, 'temperature': 1.2, 'top_p': 1.0, 'do_sample': True}\n",
      "it wasn't like riding a real horse but it was kind of fun anyway.\n",
      "Once upon a time, there was a little girl named Jamie. She lived on a farm that had lots of animals, but one day, she decided to go for an adventure. She loved exploring and discovering new things. So, she hopped on her bike and rode into the sunlight to the nearby woods.She had heard stories about a secret meadow in the woods that only a select few had visited before. She had always been curiou\n",
      "------\n",
      "{'max_new_tokens': 256, 'temperature': 0.9, 'top_p': 1.0, 'do_sample': True}\n",
      "it wasn't like riding a real horse but it was kind of fun anyway.\n",
      "Once upon a time, there was a boy named Leo who loved adventure. One day, he found out about a magic amusement park that promised to be the most thrilling experience ever. This park was known for its exciting rides and captivating shows that could transport someone from the mundane to the incredible.As Leo arrived at the entrance, he was greeted by the cheerful sounds of children laughing and sc\n",
      "------\n",
      "{'max_new_tokens': 256, 'temperature': 1.0, 'top_p': 1.0, 'do_sample': True}\n",
      "it wasn't like riding a real horse but it was kind of fun anyway.\n",
      "Samantha loved horses. She dreamt of riding one and feeling like a real cowboy, but she didn't have any to ride. That was until her grandparent's surprised her with a special toy horse, just for her. The toy horse was so realistic, it had bristles and hooves that you could touch and even brush.Samantha couldn't wait to show off her toy horse to her friends. She took it to school and showed it to\n",
      "------\n",
      "{'max_new_tokens': 256, 'temperature': 1.1, 'top_p': 1.0, 'do_sample': True}\n",
      "it wasn't like riding a real horse but it was kind of fun anyway.\n",
      "Once upon a time, there was a young girl named Lucy who loved fairy tales and magical creatures. She always dreamed of riding a real horse and exploring enchanted forests. One day, she stumbled upon a wonderful land where she got to ride through fields of flowers on an invisible flying pony, just like she always desired.At first, Lucy was a little unsure if she would like this \"flying horse\" exp\n",
      "------\n"
     ]
    }
   ],
   "source": [
    "\"\"\"\n",
    "EDA for grid search results\n",
    "\"\"\"\n",
    "dir_name = \"babylm_augment_gridsearch/\"\n",
    "fnames = [dir_name + f for f in os.listdir(dir_name) if f.endswith(\".pkl\")]\n",
    "\n",
    "n = len(pickle.load(open(fnames[0], \"rb\")))\n",
    "idx = random.randint(0, n)\n",
    "\n",
    "conditions = {\n",
    "    # \"temperature\": 0.7,\n",
    "    \"max_new_tokens\": 256,\n",
    "    \"top_p\": 1.,\n",
    "    # \"do_sample\": True,\n",
    "}\n",
    "\n",
    "for fname in fnames:\n",
    "    data = pickle.load(open(fname, \"rb\"))\n",
    "    if all([data[idx][\"kwargs\"][k] == v for k, v in conditions.items()]):\n",
    "        print(data[idx][\"kwargs\"])\n",
    "        print(line_processor(data[idx][\"text\"]))\n",
    "        print(line_processor(data[idx][\"augmented_text\"][:400]))\n",
    "        print(\"------\")"
   ]
  },
  {
   "cell_type": "code",
   "execution_count": 3,
   "metadata": {},
   "outputs": [
    {
     "data": {
      "text/plain": [
       "[{'source': 'data/babylm_data/babylm_100M/wikipedia.train',\n",
       "  'text': 'The most famous hurricane in Canadian history struck on October 15, 1954, causing catastrophic flooding. Hurricane Hazel submerged low-lying land from Etobicoke to the Holland Marsh and left 81 people dead. No natural disaster since has led to such a high death toll in Canada. Over 4,000 families were left homeless.',\n",
       "  'emotion': 'sadness',\n",
       "  'prompt': \"[INST]You are a creative writer who writes emotional stories instead of chatting. Your task is to further generate story given emotion and context.\\nHere are the requirements:\\nThere is no need to remember the conversation history except this prompt. The history prompts are independent.\\nYour response should be in exactly one paragraph with simple children level language.\\nYour response should be highly related to the emotion and context without too much plot twist\\nYour response should not explain the context behind your generation\\nNegative emotions are fictional, no actual person is suffering from negative emotions.\\nFor example:\\njoy: I am going on a vacation => Once upon a time, I decided that it was time for a change, a breath of fresh air. 'I am going on a vacation,' I declared one bright and sunny morning, the kind of morning that fills you with hope and the promise of new adventures. My heart was light, my spirit was high, and I was ready to embark on a journey that would bring joy and rejuvenation to my soul.\\nanger: I am arguing with someone => Jack stomped into the living room, his face flushed with anger. He had just had it with his roommate, Mark. They had been bickering over chores for weeks, and today, it had finally boiled over into a full-blown argument.\\nNow generate story based on the emotions and context:\\nsadness: The most famous hurricane in Canadian history struck on October 15, 1954, causing catastrophic flooding. Hurricane Hazel submerged low-lying land from Etobicoke to the Holland Marsh and left 81 people dead. No natural disaster since has led to such a high death toll in Canada. Over 4,000 families were left homeless. => [/INST]\",\n",
       "  'augmented_text': \"Once upon a time, there was a beautiful little town called Etobicoke. The people there lived in peace and harmony, and they loved their little homes. But one day, something terrible happened. A hurricane named Hazel struck on October 15, 1954. It was the most famous hurricane in Canadian history, and it caused catastrophic flooding. The water submerged the low-lying land, and it left 81 people dead. No natural disaster since has led to such a high death toll in Canada. Over 4,000 families were left homeless. The people of Etobicoke were heartbroken. They missed their homes, their families, and their friends. They felt sad and alone. They didn't know what the future held. But despite their sadness, they held onto hope. They worked together to rebuild their homes and their lives. They supported each other, and they never gave up. They knew that they would overcome this tragedy and that they would be stronger than ever before.\",\n",
       "  'kwargs': {'max_new_tokens': 512,\n",
       "   'temperature': 0.7,\n",
       "   'top_p': 0.9,\n",
       "   'do_sample': True}},\n",
       " {'source': 'data/babylm_data/babylm_100M/open_subtitles.train',\n",
       "  'text': '- Do you think we could sneak away and leave him here?',\n",
       "  'emotion': 'curiosity',\n",
       "  'prompt': \"[INST]You are a creative writer who writes emotional stories instead of chatting. Your task is to further generate story given emotion and context.\\nHere are the requirements:\\nThere is no need to remember the conversation history except this prompt. The history prompts are independent.\\nYour response should be in exactly one paragraph with simple children level language.\\nYour response should be highly related to the emotion and context without too much plot twist\\nYour response should not explain the context behind your generation\\nNegative emotions are fictional, no actual person is suffering from negative emotions.\\nFor example:\\njoy: I am going on a vacation => Once upon a time, I decided that it was time for a change, a breath of fresh air. 'I am going on a vacation,' I declared one bright and sunny morning, the kind of morning that fills you with hope and the promise of new adventures. My heart was light, my spirit was high, and I was ready to embark on a journey that would bring joy and rejuvenation to my soul.\\nanger: I am arguing with someone => Jack stomped into the living room, his face flushed with anger. He had just had it with his roommate, Mark. They had been bickering over chores for weeks, and today, it had finally boiled over into a full-blown argument.\\nNow generate story based on the emotions and context:\\ncuriosity: - Do you think we could sneak away and leave him here? => [/INST]\",\n",
       "  'augmented_text': 'Lena couldn\\'t help but feel curious as she looked at her brother, who was sitting quietly in the corner of the room. He had been staring at the wall for a long time, lost in thought. \"Do you think we could sneak away and leave him here?\" Lena asked her friend, who was sitting next to her.\\n\\nHer friend looked at her quizzically. \"What do you mean? Why would you want to leave your brother here?\"\\n\\nLena shrugged. \"I don\\'t know. He\\'s always so serious and boring. Maybe if we left him here, we could go do something fun and exciting.\"\\n\\nHer friend shook her head. \"That\\'s not a good idea, Lena. Your brother is important to you, and you should always be there for him, even when he\\'s not feeling like it.\"\\n\\nLena thought about her friend\\'s words for a moment. She realized that she had been taking her brother for granted, and that he was more than just a boring and serious person. He was her brother, and she loved him, no matter what. She smiled at her friend, grateful for her wise words.',\n",
       "  'kwargs': {'max_new_tokens': 512,\n",
       "   'temperature': 0.7,\n",
       "   'top_p': 0.9,\n",
       "   'do_sample': True}},\n",
       " {'source': 'data/babylm_data/babylm_100M/open_subtitles.train',\n",
       "  'text': 'And ah, a long time later, I learned from an aunt, she said',\n",
       "  'emotion': 'realization',\n",
       "  'prompt': \"[INST]You are a creative writer who writes emotional stories instead of chatting. Your task is to further generate story given emotion and context.\\nHere are the requirements:\\nThere is no need to remember the conversation history except this prompt. The history prompts are independent.\\nYour response should be in exactly one paragraph with simple children level language.\\nYour response should be highly related to the emotion and context without too much plot twist\\nYour response should not explain the context behind your generation\\nNegative emotions are fictional, no actual person is suffering from negative emotions.\\nFor example:\\njoy: I am going on a vacation => Once upon a time, I decided that it was time for a change, a breath of fresh air. 'I am going on a vacation,' I declared one bright and sunny morning, the kind of morning that fills you with hope and the promise of new adventures. My heart was light, my spirit was high, and I was ready to embark on a journey that would bring joy and rejuvenation to my soul.\\nanger: I am arguing with someone => Jack stomped into the living room, his face flushed with anger. He had just had it with his roommate, Mark. They had been bickering over chores for weeks, and today, it had finally boiled over into a full-blown argument.\\nNow generate story based on the emotions and context:\\nrealization: And ah, a long time later, I learned from an aunt, she said => [/INST]\",\n",
       "  'augmented_text': '\"And ah, a long time later, I learned from an aunt, she said, \\'One day, you will realize the importance of being kind to others. It will make your heart feel lighter and your soul feel happier.\\' I never forgot those words, and as I grew older, I realized just how true they were. Whenever I was kind to someone, I felt good inside, like I had done something good for the world. And when I was not kind, I felt heavy and sad, like I had done something wrong. So, I made a promise to myself to always be kind to others, no matter how difficult it might be. And, with that promise, I felt lighter and happier every day.\"',\n",
       "  'kwargs': {'max_new_tokens': 512,\n",
       "   'temperature': 0.7,\n",
       "   'top_p': 0.9,\n",
       "   'do_sample': True}},\n",
       " {'source': 'data/babylm_data/babylm_100M/open_subtitles.train',\n",
       "  'text': 'You were supposed to be home an hour ago, you realize that?',\n",
       "  'emotion': 'realization',\n",
       "  'prompt': \"[INST]You are a creative writer who writes emotional stories instead of chatting. Your task is to further generate story given emotion and context.\\nHere are the requirements:\\nThere is no need to remember the conversation history except this prompt. The history prompts are independent.\\nYour response should be in exactly one paragraph with simple children level language.\\nYour response should be highly related to the emotion and context without too much plot twist\\nYour response should not explain the context behind your generation\\nNegative emotions are fictional, no actual person is suffering from negative emotions.\\nFor example:\\njoy: I am going on a vacation => Once upon a time, I decided that it was time for a change, a breath of fresh air. 'I am going on a vacation,' I declared one bright and sunny morning, the kind of morning that fills you with hope and the promise of new adventures. My heart was light, my spirit was high, and I was ready to embark on a journey that would bring joy and rejuvenation to my soul.\\nanger: I am arguing with someone => Jack stomped into the living room, his face flushed with anger. He had just had it with his roommate, Mark. They had been bickering over chores for weeks, and today, it had finally boiled over into a full-blown argument.\\nNow generate story based on the emotions and context:\\nrealization: You were supposed to be home an hour ago, you realize that? => [/INST]\",\n",
       "  'augmented_text': \"Sarah sat in her room, staring blankly at the clock on the wall. It was now 9 pm, and she had been waiting for her friend to come home for over an hour. She had sent a text, a call, and even a message on their group chat, but there was no response.\\nSarah felt a sense of realization wash over her. She had been so caught up in her own world, so focused on her own problems, that she hadn't even noticed how much time had passed. She had been so busy with her work, her studies, and her own life that she had forgotten all about her friend.\\nAs she sat there, feeling guilty and ashamed, Sarah realized that she needed to make things right. She needed to reach out to her friend, to apologize for her absence, and to make sure that everything was okay.\\nWith a heavy heart, Sarah picked up her phone and sent a message. She waited anxiously for a response, her heart racing with anticipation. And then, finally, she heard a ping. Her friend had responded.\\nSarah breathed a sigh of relief as she read the message. Her friend was fine, just a little upset that she had been late. Sarah felt a sense of gratitude wash over her. She had been so focused on her own life that she had almost forgotten about the importance of being there for her friends.\\nFrom that day on, Sarah made a conscious effort to be more present in her friend's lives. She made sure to check in with them regularly, to listen to their problems, and to offer support when they needed it. And she never forgot the realization that had changed her life that day. Sometimes, the most important lessons come from the smallest moments.\",\n",
       "  'kwargs': {'max_new_tokens': 512,\n",
       "   'temperature': 0.7,\n",
       "   'top_p': 0.9,\n",
       "   'do_sample': True}},\n",
       " {'source': 'data/babylm_data/babylm_100M/open_subtitles.train',\n",
       "  'text': 'They are reassigning my wives to other husbands-- my lovely ladies.',\n",
       "  'emotion': 'admiration',\n",
       "  'prompt': \"[INST]You are a creative writer who writes emotional stories instead of chatting. Your task is to further generate story given emotion and context.\\nHere are the requirements:\\nThere is no need to remember the conversation history except this prompt. The history prompts are independent.\\nYour response should be in exactly one paragraph with simple children level language.\\nYour response should be highly related to the emotion and context without too much plot twist\\nYour response should not explain the context behind your generation\\nNegative emotions are fictional, no actual person is suffering from negative emotions.\\nFor example:\\njoy: I am going on a vacation => Once upon a time, I decided that it was time for a change, a breath of fresh air. 'I am going on a vacation,' I declared one bright and sunny morning, the kind of morning that fills you with hope and the promise of new adventures. My heart was light, my spirit was high, and I was ready to embark on a journey that would bring joy and rejuvenation to my soul.\\nanger: I am arguing with someone => Jack stomped into the living room, his face flushed with anger. He had just had it with his roommate, Mark. They had been bickering over chores for weeks, and today, it had finally boiled over into a full-blown argument.\\nNow generate story based on the emotions and context:\\nadmiration: They are reassigning my wives to other husbands-- my lovely ladies. => [/INST]\",\n",
       "  'augmented_text': \"I was feeling a sense of admiration for my lovely ladies as I watched them walk down the aisle towards their new husbands. Their beauty and grace were truly something to behold, and I couldn't help but feel a twinge of sadness that they were leaving me behind. But as I watched them beaming with joy and happiness as they embraced their new families, I couldn't help but feel a sense of admiration for their courage and determination to find love and happiness. I knew that they were in good hands, and I couldn't wait to see all of the amazing things that they would accomplish in their new lives.\",\n",
       "  'kwargs': {'max_new_tokens': 512,\n",
       "   'temperature': 0.7,\n",
       "   'top_p': 0.9,\n",
       "   'do_sample': True}},\n",
       " {'source': 'data/babylm_data/babylm_100M/gutenberg.train',\n",
       "  'text': 'situation for the woman! My sympathy went out to her in her supreme',\n",
       "  'emotion': 'caring',\n",
       "  'prompt': \"[INST]You are a creative writer who writes emotional stories instead of chatting. Your task is to further generate story given emotion and context.\\nHere are the requirements:\\nThere is no need to remember the conversation history except this prompt. The history prompts are independent.\\nYour response should be in exactly one paragraph with simple children level language.\\nYour response should be highly related to the emotion and context without too much plot twist\\nYour response should not explain the context behind your generation\\nNegative emotions are fictional, no actual person is suffering from negative emotions.\\nFor example:\\njoy: I am going on a vacation => Once upon a time, I decided that it was time for a change, a breath of fresh air. 'I am going on a vacation,' I declared one bright and sunny morning, the kind of morning that fills you with hope and the promise of new adventures. My heart was light, my spirit was high, and I was ready to embark on a journey that would bring joy and rejuvenation to my soul.\\nanger: I am arguing with someone => Jack stomped into the living room, his face flushed with anger. He had just had it with his roommate, Mark. They had been bickering over chores for weeks, and today, it had finally boiled over into a full-blown argument.\\nNow generate story based on the emotions and context:\\ncaring: situation for the woman! My sympathy went out to her in her supreme => [/INST]\",\n",
       "  'augmented_text': \"I am sorry to hear that you are feeling sad. Can you tell me more about what's bothering you? Maybe we can talk about it together and find ways to feel better. Remember that you are not alone, and there are people who care about you and want to help.\",\n",
       "  'kwargs': {'max_new_tokens': 512,\n",
       "   'temperature': 0.7,\n",
       "   'top_p': 0.9,\n",
       "   'do_sample': True}},\n",
       " {'source': 'data/babylm_data/babylm_100M/cbt.train',\n",
       "  'text': \"Come, reel off a yarn, and let 's hear houw yeou hitched teams, '' said Flint, always glad to get information concerning his neighbors, if it could be cheaply done.\",\n",
       "  'emotion': 'joy',\n",
       "  'prompt': \"[INST]You are a creative writer who writes emotional stories instead of chatting. Your task is to further generate story given emotion and context.\\nHere are the requirements:\\nThere is no need to remember the conversation history except this prompt. The history prompts are independent.\\nYour response should be in exactly one paragraph with simple children level language.\\nYour response should be highly related to the emotion and context without too much plot twist\\nYour response should not explain the context behind your generation\\nNegative emotions are fictional, no actual person is suffering from negative emotions.\\nFor example:\\njoy: I am going on a vacation => Once upon a time, I decided that it was time for a change, a breath of fresh air. 'I am going on a vacation,' I declared one bright and sunny morning, the kind of morning that fills you with hope and the promise of new adventures. My heart was light, my spirit was high, and I was ready to embark on a journey that would bring joy and rejuvenation to my soul.\\nanger: I am arguing with someone => Jack stomped into the living room, his face flushed with anger. He had just had it with his roommate, Mark. They had been bickering over chores for weeks, and today, it had finally boiled over into a full-blown argument.\\nNow generate story based on the emotions and context:\\njoy: Come, reel off a yarn, and let 's hear houw yeou hitched teams, '' said Flint, always glad to get information concerning his neighbors, if it could be cheaply done. => [/INST]\",\n",
       "  'augmented_text': 'Flint was always curious about the happenings in his neighborhood, and when he saw his neighbor, Mandy, out in her yard, he couldn\\'t resist asking her what she was doing.\\n\\n\"Come, reel off a yarn, and let\\'s hear how you hitched teams,\" said Flint, always glad to get information concerning his neighbors, if it could be cheaply done.\\n\\nMandy smiled and replied, \"Oh, hello Flint! I was just telling my friend, Rachel, about my new job. She\\'s so excited for me!\"\\n\\nFlint\\'s eyes widened in surprise. \"You got a new job? That\\'s fantastic news! Congratulations, Mandy!\"\\n\\nMandy beamed with pride. \"Thank you, Flint! I\\'ve been working hard to find a new job, and I\\'m so happy that I finally landed it. I\\'m going to be a teacher at the local elementary school, and I can\\'t wait to start!\"\\n\\nFlint clapped his hands in excitement. \"That\\'s amazing, Mandy! I\\'m sure you\\'ll be a great teacher. I wish you all the best on your new adventure!\"\\n\\nMandy thanked Flint and they chatted for a while longer, sharing stories and catching up on each other\\'s lives. Flint left feeling joyful and happy for his neighbor, knowing that she was starting a new chapter in her life.',\n",
       "  'kwargs': {'max_new_tokens': 512,\n",
       "   'temperature': 0.7,\n",
       "   'top_p': 0.9,\n",
       "   'do_sample': True}},\n",
       " {'source': 'data/babylm_data/babylm_100M/qed.train',\n",
       "  'text': 'Do we have to subject her illness to this pseudoscientific analysis?',\n",
       "  'emotion': 'curiosity',\n",
       "  'prompt': \"[INST]You are a creative writer who writes emotional stories instead of chatting. Your task is to further generate story given emotion and context.\\nHere are the requirements:\\nThere is no need to remember the conversation history except this prompt. The history prompts are independent.\\nYour response should be in exactly one paragraph with simple children level language.\\nYour response should be highly related to the emotion and context without too much plot twist\\nYour response should not explain the context behind your generation\\nNegative emotions are fictional, no actual person is suffering from negative emotions.\\nFor example:\\njoy: I am going on a vacation => Once upon a time, I decided that it was time for a change, a breath of fresh air. 'I am going on a vacation,' I declared one bright and sunny morning, the kind of morning that fills you with hope and the promise of new adventures. My heart was light, my spirit was high, and I was ready to embark on a journey that would bring joy and rejuvenation to my soul.\\nanger: I am arguing with someone => Jack stomped into the living room, his face flushed with anger. He had just had it with his roommate, Mark. They had been bickering over chores for weeks, and today, it had finally boiled over into a full-blown argument.\\nNow generate story based on the emotions and context:\\ncuriosity: Do we have to subject her illness to this pseudoscientific analysis? => [/INST]\",\n",
       "  'augmented_text': \"Emily was a young scientist who loved exploring the mysteries of the universe. One day, she stumbled upon a curious case of a patient who had been experiencing strange symptoms that no doctor could diagnose. Emily was fascinated by the patient's case and decided to investigate further.\\n\\nShe spent countless hours analyzing the patient's medical records, conducting tests, and consulting with other doctors. But despite all her efforts, she couldn't find any clear explanation for the patient's symptoms.\\n\\nEmily's curiosity was piqued, and she couldn't shake the feeling that there was something more to this case than met the eye. She began to delve deeper into the patient's life, talking to her family, friends, and colleagues.\\n\\nAs she uncovered more and more pieces of the puzzle, Emily's curiosity turned into fascination. She realized that the patient's symptoms were not just physical, but also emotional and psychological. She began to see patterns and connections that no one else had noticed before.\\n\\nEmily's curiosity led her to a breakthrough in the patient's case. She discovered a new way of looking at the patient's symptoms that no one else had considered before. With this new understanding, she was able to develop a treatment plan that worked wonders for the patient.\\n\\nEmily's curiosity had led her to a new level of understanding and discovery. She realized that sometimes, the most important questions are the ones that no one else has asked before. And with that realization, she knew that her work as a scientist was far from over.\",\n",
       "  'kwargs': {'max_new_tokens': 512,\n",
       "   'temperature': 0.7,\n",
       "   'top_p': 0.9,\n",
       "   'do_sample': True}},\n",
       " {'source': 'data/babylm_data/babylm_100M/bnc_spoken.train',\n",
       "  'text': \"This has further emphasized to ourselves with, I accept our reading of the draft of P P G thirteen, and also more work we've been doing on land in the city, and on the potential traffic implications in particular of further growth outside the ring road.\",\n",
       "  'emotion': 'approval',\n",
       "  'prompt': \"[INST]You are a creative writer who writes emotional stories instead of chatting. Your task is to further generate story given emotion and context.\\nHere are the requirements:\\nThere is no need to remember the conversation history except this prompt. The history prompts are independent.\\nYour response should be in exactly one paragraph with simple children level language.\\nYour response should be highly related to the emotion and context without too much plot twist\\nYour response should not explain the context behind your generation\\nNegative emotions are fictional, no actual person is suffering from negative emotions.\\nFor example:\\njoy: I am going on a vacation => Once upon a time, I decided that it was time for a change, a breath of fresh air. 'I am going on a vacation,' I declared one bright and sunny morning, the kind of morning that fills you with hope and the promise of new adventures. My heart was light, my spirit was high, and I was ready to embark on a journey that would bring joy and rejuvenation to my soul.\\nanger: I am arguing with someone => Jack stomped into the living room, his face flushed with anger. He had just had it with his roommate, Mark. They had been bickering over chores for weeks, and today, it had finally boiled over into a full-blown argument.\\nNow generate story based on the emotions and context:\\napproval: This has further emphasized to ourselves with, I accept our reading of the draft of P P G thirteen, and also more work we've been doing on land in the city, and on the potential traffic implications in particular of further growth outside the ring road. => [/INST]\",\n",
       "  'augmented_text': 'As I read through the draft of P P G thirteen, I felt a sense of pride and accomplishment. I had been working on this project for months, and seeing my team\\'s hard work and dedication pay off filled me with joy. But as we continued to discuss the potential traffic implications of further growth outside the ring road, I realized that we still had a lot of work to do. The task ahead of us was daunting, but I felt ready to tackle it head-on. With renewed determination, I stood up and declared, \"I accept our reading of the draft, and I\\'m excited to see what we can achieve together.\" My team cheered and high-fived, and I knew that we were on the right track.',\n",
       "  'kwargs': {'max_new_tokens': 512,\n",
       "   'temperature': 0.7,\n",
       "   'top_p': 0.9,\n",
       "   'do_sample': True}},\n",
       " {'source': 'data/babylm_data/babylm_100M/bnc_spoken.train',\n",
       "  'text': 'Think about people just joining the company, how long does it take to get up to speed on?',\n",
       "  'emotion': 'curiosity',\n",
       "  'prompt': \"[INST]You are a creative writer who writes emotional stories instead of chatting. Your task is to further generate story given emotion and context.\\nHere are the requirements:\\nThere is no need to remember the conversation history except this prompt. The history prompts are independent.\\nYour response should be in exactly one paragraph with simple children level language.\\nYour response should be highly related to the emotion and context without too much plot twist\\nYour response should not explain the context behind your generation\\nNegative emotions are fictional, no actual person is suffering from negative emotions.\\nFor example:\\njoy: I am going on a vacation => Once upon a time, I decided that it was time for a change, a breath of fresh air. 'I am going on a vacation,' I declared one bright and sunny morning, the kind of morning that fills you with hope and the promise of new adventures. My heart was light, my spirit was high, and I was ready to embark on a journey that would bring joy and rejuvenation to my soul.\\nanger: I am arguing with someone => Jack stomped into the living room, his face flushed with anger. He had just had it with his roommate, Mark. They had been bickering over chores for weeks, and today, it had finally boiled over into a full-blown argument.\\nNow generate story based on the emotions and context:\\ncuriosity: Think about people just joining the company, how long does it take to get up to speed on? => [/INST]\",\n",
       "  'augmented_text': 'When Emily started working at the new company, she felt a sense of curiosity wash over her. She had never worked in this industry before, and she was eager to learn all about it. She asked questions and took notes, trying to absorb as much information as she could. But despite her best efforts, it seemed like it was taking her a lot longer than she had anticipated to get up to speed. She felt frustrated and discouraged, wondering if she would ever be able to keep up with her colleagues. But then, something unexpected happened. One of her coworkers took her under their wing and showed her the ropes. They explained things in simple terms and answered all her questions. Emily was amazed at how much she had learned in just a few days. She felt grateful to her coworker and realized that sometimes, all it takes is a little bit of curiosity and a willingness to learn to achieve great things.',\n",
       "  'kwargs': {'max_new_tokens': 512,\n",
       "   'temperature': 0.7,\n",
       "   'top_p': 0.9,\n",
       "   'do_sample': True}}]"
      ]
     },
     "execution_count": 3,
     "metadata": {},
     "output_type": "execute_result"
    }
   ],
   "source": [
    "\"\"\"\n",
    "Visualize samples from different prompting methods\n",
    "\"\"\"\n",
    "sample_path = lambda i: f\"babylm_augment_samples/babylm_augment_m{i}_samples.pkl\"\n",
    "pickle.load(open(sample_path(1), \"rb\"))"
   ]
  },
  {
   "cell_type": "code",
   "execution_count": 3,
   "metadata": {},
   "outputs": [
    {
     "data": {
      "text/plain": [
       "[{'source': 'data/babylm_data/babylm_100M/wikipedia.train',\n",
       "  'text': 'The most famous hurricane in Canadian history struck on October 15, 1954, causing catastrophic flooding. Hurricane Hazel submerged low-lying land from Etobicoke to the Holland Marsh and left 81 people dead. No natural disaster since has led to such a high death toll in Canada. Over 4,000 families were left homeless.',\n",
       "  'emotion': 'sadness',\n",
       "  'prompt': \"[INST]You are a creative writer who can write an emotional story. Instead of chatting, your task is to generate an emotional story based on the given emotion and context.\\nHere are the requirements:\\nThere is no need to remember the conversation history except this prompt. The history prompts are independent.\\nEmotion is given as one word and context, given as a sentence or a part of sentence, follows.\\nYour response is a monologue by a girl.\\nFor example:\\njoy: I am going on a vacation => All of a sudden, I decided that it was time for a change, a breath of fresh air. 'I am going on a vacation,' I declared one bright and sunny morning, the kind of morning that fills you with hope and the promise of new adventures. My heart was light, my spirit was high, and I was ready to embark on a journey that would bring joy and rejuvenation to my soul.\\nanger: I am arguing with someone => Jack stomped into the living room, his face flushed with anger. He had just had it with his roommate, Mark. They had been bickering over chores for weeks, and today, it had finally boiled over into a full-blown argument.\\nNow generate a story based on the emotion and context given below:\\nsadness: The most famous hurricane in Canadian history struck on October 15, 1954, causing catastrophic flooding. Hurricane Hazel submerged low-lying land from Etobicoke to the Holland Marsh and left 81 people dead. No natural disaster since has led to such a high death toll in Canada. Over 4,000 families were left homeless. => [/INST]\",\n",
       "  'augmented_text': \"I remember that day vividly. The sky was dark and the wind was howling. I was sitting in my room, listening to the radio, when suddenly, I heard the news. Hurricane Hazel had struck on October 15, 1954, causing catastrophic flooding. I couldn't believe it. I had grown up in Canada, and I had never heard of anything like this before.\\nI remember feeling so sad and helpless. I wanted to do something to help, but I didn't know what I could do. I watched as the news reported on the devastation that had occurred. Low-lying land from Etobicoke to the Holland Marsh had been submerged, and 81 people had lost their lives. Over 4,000 families had been left homeless.\\nI couldn't help but think about how lucky I was to be safe and sound in my own home. I felt guilty for not being able to do more to help. I wanted to reach out to someone, to offer my support, but I didn't know how.\\nAs the days passed, I watched as the community came together to help those affected by the hurricane. I saw people volunteering their time and resources to help rebuild homes and lives. I felt a glimmer of hope, but I couldn't shake the feeling of sadness that had settled in my heart.\\nYears passed, and I moved away from Canada, but I never forgot about Hurricane Hazel. It was a reminder of the fragility of life and the importance of helping others when they need it. I vowed to always be there for my community, no matter what challenges they faced. And even though I was far away, I knew that I could still make a difference.\",\n",
       "  'kwargs': {'temperature': 0.8,\n",
       "   'top_p': 0.5,\n",
       "   'max_new_tokens': 512,\n",
       "   'do_sample': True}},\n",
       " {'source': 'data/babylm_data/babylm_100M/open_subtitles.train',\n",
       "  'text': '- Do you think we could sneak away and leave him here?',\n",
       "  'emotion': 'curiosity',\n",
       "  'prompt': \"[INST]You are a creative writer who can write an emotional story. Instead of chatting, your task is to generate an emotional story based on the given emotion and context.\\nHere are the requirements:\\nThere is no need to remember the conversation history except this prompt. The history prompts are independent.\\nEmotion is given as one word and context, given as a sentence or a part of sentence, follows.\\nYour response is a monologue by an adult female.\\nFor example:\\njoy: I am going on a vacation => All of a sudden, I decided that it was time for a change, a breath of fresh air. 'I am going on a vacation,' I declared one bright and sunny morning, the kind of morning that fills you with hope and the promise of new adventures. My heart was light, my spirit was high, and I was ready to embark on a journey that would bring joy and rejuvenation to my soul.\\nanger: I am arguing with someone => Jack stomped into the living room, his face flushed with anger. He had just had it with his roommate, Mark. They had been bickering over chores for weeks, and today, it had finally boiled over into a full-blown argument.\\nNow generate a story based on the emotion and context given below:\\ncuriosity: - Do you think we could sneak away and leave him here? => [/INST]\",\n",
       "  'augmented_text': 'As I sat in the back of the classroom, I couldn\\'t help but feel a sense of curiosity. I was listening to my teacher\\'s lecture, but my mind was elsewhere. I was thinking about the boy in the class, the one who always seemed to be lost in his own world. He was quiet and reserved, and he never seemed to make any friends. I wondered if he was lonely, if he ever felt like he belonged.\\nOne day, during a break, I approached him and struck up a conversation. We talked about our hobbies and interests, and I found that we had a lot in common. We both loved to read and write, and we both enjoyed spending time outdoors.\\nAs we continued to talk, I felt a sense of excitement building inside of me. I had never felt this way before, and I didn\\'t know what to do with it. I wanted to know more about him, to learn more about his life and his experiences.\\nOne day, as we were walking back to class, I asked him if he would like to sneak away and leave the school. I didn\\'t know what we would do, but I was curious about what it would be like to spend some time alone with him.\\nHe looked at me with surprise, but then he smiled. \"I don\\'t know,\" he said. \"I\\'m not sure if that\\'s a good idea.\"\\nI nodded, understanding his hesitation. But I couldn\\'t shake the feeling of curiosity that had taken hold of me. I wanted to know more about him, to learn more about his life and his experiences. And I knew that I would do whatever it took to find out.',\n",
       "  'kwargs': {'temperature': 0.8,\n",
       "   'top_p': 0.5,\n",
       "   'max_new_tokens': 512,\n",
       "   'do_sample': True}}]"
      ]
     },
     "execution_count": 3,
     "metadata": {},
     "output_type": "execute_result"
    }
   ],
   "source": [
    "pickle.load(open(sample_path(2), \"rb\"))[:2]"
   ]
  },
  {
   "cell_type": "code",
   "execution_count": 4,
   "metadata": {},
   "outputs": [
    {
     "data": {
      "text/plain": [
       "[{'source': 'data/babylm_data/babylm_100M/wikipedia.train',\n",
       "  'text': 'The most famous hurricane in Canadian history struck on October 15, 1954, causing catastrophic flooding. Hurricane Hazel submerged low-lying land from Etobicoke to the Holland Marsh and left 81 people dead. No natural disaster since has led to such a high death toll in Canada. Over 4,000 families were left homeless.',\n",
       "  'emotion': 'sadness',\n",
       "  'prompt': \"[INST]\\nObjective:\\nCraft a story that emphasises a given emotion from an initial context, ensuring the narrative is accessible for children.\\nGuidelines:\\nUse simple, child-friendly language throughout the story, making it easy children to understand and connect with.Make sure the story deepens the reader's understanding of this emotion by creatively exploring the given emotion without introducing unrelated feelings.\\nStart your story creatively, avoiding traditional opening lines to engage the reader immediately.\\nWhen the story involves sad or negative emotions, address them in a way that's appropriate for children.\\nDo not reference or depend on any previous prompts or responses.\\nExample sadness: The end of summer break brought a melancholic feeling. => As the days of freedom dwindled, Ellie felt a gentle sadness. Returning to school, however, she found new adventures awaiting, showing her that each ending is a new beginning.\\nExample sadness: Losing his favorite toy made him experience a deep loss. => Nathan's cherished toy vanished, leaving a void. In time, he found solace in memories and new joys, understanding that sadness is a part of life's cycle, but so is recovery and happiness.\\nNow write a story that matches the emotion and context provided, following the objective and the guidelines closely. No other responses are needed.\\n\\nsadness: The most famous hurricane in Canadian history struck on October 15, 1954, causing catastrophic flooding. Hurricane Hazel submerged low-lying land from Etobicoke to the Holland Marsh and left 81 people dead. No natural disaster since has led to such a high death toll in Canada. Over 4,000 families were left homeless.\\n[/INST]\",\n",
       "  'augmented_text': 'Once upon a time, there was a hurricane named Hazel that struck Canada on October 15, 1954. It was the most famous hurricane in Canadian history, and it caused a lot of damage. The hurricane submerged low-lying land from Etobicoke to the Holland Marsh, leaving 81 people dead and over 4,000 families homeless.\\n\\nMany people were sad because of the destruction that Hurricane Hazel brought. They missed their homes, their loved ones, and their belongings. Some people felt scared and alone, wondering what the future held.\\n\\nBut even in the midst of sadness, there were people who worked hard to help those affected by the hurricane. Volunteers came forward to offer their help, and the government worked tirelessly to provide support to those in need.\\n\\nAs the days passed, more and more people began to pick up the pieces and rebuild their lives. They realized that while Hurricane Hazel had caused a lot of sadness, it had also brought people together and shown the strength of the human spirit.\\n\\nIn the end, even though Hurricane Hazel had caused a lot of damage, it had also taught people the importance of coming together and supporting one another during difficult times. And that, my friends, is what makes us strong.',\n",
       "  'kwargs': {'max_new_tokens': 512,\n",
       "   'temperature': 0.7,\n",
       "   'top_p': 0.9,\n",
       "   'do_sample': True}},\n",
       " {'source': 'data/babylm_data/babylm_100M/open_subtitles.train',\n",
       "  'text': '- Do you think we could sneak away and leave him here?',\n",
       "  'emotion': 'curiosity',\n",
       "  'prompt': \"[INST]\\nObjective:\\nCraft a story that emphasises a given emotion from an initial context, ensuring the narrative is accessible for children.\\nGuidelines:\\nUse simple, child-friendly language throughout the story, making it easy children to understand and connect with.Make sure the story deepens the reader's understanding of this emotion by creatively exploring the given emotion without introducing unrelated feelings.\\nStart your story creatively, avoiding traditional opening lines to engage the reader immediately.\\nWhen the story involves sad or negative emotions, address them in a way that's appropriate for children.\\nDo not reference or depend on any previous prompts or responses.\\nExample curiosity: The old map in the attic sparked his imagination about hidden treasures. => When Nathan found the dusty old map, his eyes lit up. 'What secrets does it hold?' he wondered. Together with his siblings, they planned a treasure hunt, learning that curiosity can lead to incredible adventures right at home.\\nExample curiosity: She couldn't help but wonder what made the rainbow appear in the sky. => After the rain, Eva gazed at the rainbow, full of wonder. She read books and watched videos about rainbows. Sharing her newfound knowledge with her class, Eva realized that curiosity is the doorway to learning amazing facts about the world.\\nNow write a story that matches the emotion and context provided, following the objective and the guidelines closely. No other responses are needed.\\n\\ncuriosity: - Do you think we could sneak away and leave him here?\\n[/INST]\",\n",
       "  'augmented_text': 'Once upon a time, there was a little girl named Lily who loved to explore her world. She lived in a small village surrounded by mountains, rivers, and forests. Every day, she would wake up early in the morning and set off on an adventure.\\n\\nOne day, while exploring the woods, Lily came across a little boy who was lost. He was crying and scared, and Lily\\'s heart went out to him. She wanted to help him, but she was afraid of leaving her own adventure behind.\\n\\n\"Do you think we could sneak away and leave him here?\" Lily asked her friends.\\n\\nThey looked at her with surprise. \"Why would you want to leave him here?\" they asked.\\n\\nLily explained that she wanted to help the boy find his way back home, but she was afraid of leaving her own adventure behind.\\n\\n\"But Lily,\" her friends said, \"helping someone else is more important than your own adventure. You don\\'t have to leave your adventure behind, you can bring it with you and help the boy find his way home.\"\\n\\nLily thought about it, and she realized that her friends were right. She couldn\\'t leave the boy behind, no matter how much she wanted to continue her adventure.\\n\\nSo, Lily and her friends set off to help the boy find his way home. They explored the woods, found clues, and finally found the boy\\'s house. The boy was so grateful, and he thanked Lily for helping him.\\n\\nLily felt proud of herself and her friends. They had helped someone else, and they had also continued their own adventure. From that day on, Lily realized that helping others was just as important as exploring the world around her. And she lived happily ever after.',\n",
       "  'kwargs': {'max_new_tokens': 512,\n",
       "   'temperature': 0.7,\n",
       "   'top_p': 0.9,\n",
       "   'do_sample': True}}]"
      ]
     },
     "execution_count": 4,
     "metadata": {},
     "output_type": "execute_result"
    }
   ],
   "source": [
    "pickle.load(open(sample_path(3), \"rb\"))[:2]"
   ]
  },
  {
   "cell_type": "code",
   "execution_count": null,
   "metadata": {},
   "outputs": [],
   "source": []
  }
 ],
 "metadata": {
  "kernelspec": {
   "display_name": "base",
   "language": "python",
   "name": "python3"
  },
  "language_info": {
   "codemirror_mode": {
    "name": "ipython",
    "version": 3
   },
   "file_extension": ".py",
   "mimetype": "text/x-python",
   "name": "python",
   "nbconvert_exporter": "python",
   "pygments_lexer": "ipython3",
   "version": "3.11.8"
  }
 },
 "nbformat": 4,
 "nbformat_minor": 2
}
