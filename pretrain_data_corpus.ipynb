{
 "cells": [
  {
   "cell_type": "code",
   "execution_count": 1,
   "metadata": {},
   "outputs": [
    {
     "name": "stdout",
     "output_type": "stream",
     "text": [
      "0 babylm_augment/babylm_augment_17.pkl 871\n",
      "1 babylm_augment/babylm_augment_16.pkl 871\n",
      "2 babylm_augment/babylm_augment_28.pkl 871\n",
      "3 babylm_augment/babylm_augment_14.pkl 871\n",
      "4 babylm_augment/babylm_augment_15.pkl 871\n",
      "5 babylm_augment/babylm_augment_29.pkl 871\n",
      "6 babylm_augment/babylm_augment_11.pkl 871\n",
      "7 babylm_augment/babylm_augment_10.pkl 871\n",
      "8 babylm_augment/babylm_augment_12.pkl 871\n",
      "9 babylm_augment/babylm_augment_13.pkl 871\n",
      "10 babylm_augment/babylm_augment_0.pkl 871\n",
      "11 babylm_augment/babylm_augment_1.pkl 871\n",
      "12 babylm_augment/babylm_augment_3.pkl 871\n",
      "13 babylm_augment/babylm_augment_89.pkl 871\n",
      "14 babylm_augment/babylm_augment_2.pkl 871\n",
      "15 babylm_augment/babylm_augment_6.pkl 871\n",
      "16 babylm_augment/babylm_augment_7.pkl 871\n",
      "17 babylm_augment/babylm_augment_5.pkl 871\n",
      "18 babylm_augment/babylm_augment_4.pkl 871\n",
      "19 babylm_augment/babylm_augment_9.pkl 871\n",
      "20 babylm_augment/babylm_augment_8.pkl 871\n",
      "21 babylm_augment/babylm_augment_50.pkl 871\n",
      "22 babylm_augment/babylm_augment_51.pkl 871\n",
      "23 babylm_augment/babylm_augment_22.pkl 871\n",
      "24 babylm_augment/babylm_augment_0_new.pkl 871\n",
      "25 babylm_augment/babylm_augment_23.pkl 871\n",
      "26 babylm_augment/babylm_augment_21.pkl 871\n",
      "27 babylm_augment/babylm_augment_20.pkl 871\n",
      "28 babylm_augment/babylm_augment_30.pkl 871\n",
      "29 babylm_augment/babylm_augment_24.pkl 871\n",
      "30 babylm_augment/babylm_augment_18.pkl 871\n",
      "31 babylm_augment/babylm_augment_19.pkl 871\n",
      "32 babylm_augment/babylm_augment_25.pkl 871\n",
      "33 babylm_augment/babylm_augment_31.pkl 871\n",
      "34 babylm_augment/babylm_augment_27.pkl 871\n",
      "35 babylm_augment/babylm_augment_33.pkl 871\n",
      "36 babylm_augment/babylm_augment_32.pkl 871\n",
      "37 babylm_augment/babylm_augment_26.pkl 871\n"
     ]
    }
   ],
   "source": [
    "import pickle\n",
    "import os\n",
    "\n",
    "import random\n",
    "from collections import Counter\n",
    "\n",
    "from pretraining.data_utils import line_processor\n",
    "\"\"\"\n",
    "Load augmented data chunks for prertraining corpus\n",
    "\"\"\"\n",
    "dir_name = \"babylm_augment/\"\n",
    "fnames = [dir_name + f for f in os.listdir(dir_name) if f.endswith(\".pkl\")]\n",
    "\n",
    "data = []\n",
    "for i, fname in enumerate(fnames):\n",
    "    tmp = pickle.load(open(fname, \"rb\"))\n",
    "    print(i, fname, len(tmp))\n",
    "    data += tmp"
   ]
  },
  {
   "cell_type": "code",
   "execution_count": 2,
   "metadata": {},
   "outputs": [
    {
     "data": {
      "text/plain": [
       "{'source': 'data/babylm_data/babylm_100M/bnc_spoken.train',\n",
       " 'text': '‘The secret of happiness is to face the fact that the world is horrible, horrible, horrible.',\n",
       " 'emotion': 'fear',\n",
       " 'augmented_text': \"Emma had always been afraid of the dark. She would hide under her covers, squeezing her eyes shut and praying for the sun to rise. One night, she heard a strange noise coming from her closet. She shook her head, trying to convince herself it was just her imagination, but the noise grew louder and more persistent. Suddenly, she felt a cold hand on her shoulder, and she froze. She looked up, and her eyes widened in fear as she saw a shadowy figure standing in front of her. Emma tried to scream, but no sound came out. She felt a hand over her mouth, and she struggled to breathe. Just when she thought she was going to be taken away, the hand was lifted, and the figure disappeared. Emma sat up, panting and shaking. She realized that she had been so scared that she had imagined the whole thing. But the fear stayed with her, and she couldn't shake it off. From that day on, she was always on high alert, always looking over her shoulder, always expecting something terrible to happen.\"}"
      ]
     },
     "execution_count": 2,
     "metadata": {},
     "output_type": "execute_result"
    }
   ],
   "source": [
    "\"\"\"\n",
    "Load factual data (simple wikipedia and wikipedia) for pretraining corpus\n",
    "Use 10M version here to balance the size of the emotional corpus\n",
    "\"\"\"\n",
    "factuals = [\"simple_wikipedia.train\", \"wikipedia.train\"]\n",
    "dir_name = \"data/babylm_data/babylm_10M/\"\n",
    "\n",
    "for fname in factuals:\n",
    "    source = dir_name + fname\n",
    "    tmp = line_processor(open(source).read())\n",
    "    tmp_dict = {\"source\": source, \"text\": None, \"emotion\": None, \"augmented_text\": tmp}\n",
    "    data.append(tmp_dict)\n",
    "data[0]"
   ]
  },
  {
   "cell_type": "code",
   "execution_count": 3,
   "metadata": {},
   "outputs": [
    {
     "data": {
      "text/plain": [
       "Counter({'data/babylm_data/babylm_100M/bnc_spoken.train': 20368,\n",
       "         'data/babylm_data/babylm_100M/aochildes.train': 11859,\n",
       "         'data/babylm_data/babylm_100M/cbt.train': 871,\n",
       "         'data/babylm_data/babylm_10M/simple_wikipedia.train': 1,\n",
       "         'data/babylm_data/babylm_10M/wikipedia.train': 1})"
      ]
     },
     "metadata": {},
     "output_type": "display_data"
    },
    {
     "name": "stdout",
     "output_type": "stream",
     "text": [
      "8929873 269.7846827794562\n"
     ]
    }
   ],
   "source": [
    "\"\"\"\n",
    "Source distribution of corpus\n",
    "\"\"\"\n",
    "source_count = Counter([d['source'] for d in data])\n",
    "display(source_count)\n",
    "\n",
    "\"\"\"\n",
    "Word count of corpus (8.9M words ~ strict-small track)\n",
    "\"\"\"\n",
    "total_word_count = sum([len(d['augmented_text'].split()) for d in data])\n",
    "print(total_word_count, total_word_count / len(data))\n",
    "\n",
    "\"\"\"\n",
    "Save the pretraining corpus\n",
    "\"\"\"\n",
    "pickle.dump(data, open(\"babylm_pretrain_corpus/babylm_emo_wiki_10M.pkl\", \"wb\"))"
   ]
  },
  {
   "cell_type": "code",
   "execution_count": 6,
   "metadata": {},
   "outputs": [
    {
     "name": "stdout",
     "output_type": "stream",
     "text": [
      "{'max_new_tokens': 256, 'temperature': 0.8, 'top_p': 1.0, 'do_sample': True}\n",
      "it wasn't like riding a real horse but it was kind of fun anyway.\n",
      "Once upon a time, in a small town, there was a boy named Timmy who loved to ride his pretend horse around the neighborhood. It wasn't like riding a real horse, but it was still fun. Timmy would pretend to gallop down the street, with his hands on the reins and his feet on the ground that he pretended to be a horse's hooves. He would pretend to jump over fences and run through fields.Whenever Tim\n",
      "------\n",
      "{'max_new_tokens': 256, 'temperature': 0.7, 'top_p': 1.0, 'do_sample': True}\n",
      "it wasn't like riding a real horse but it was kind of fun anyway.\n",
      "Once upon a time, there was a little girl named Emily who loved animals. She dreamed of being a vet and helping all the creatures in need. One day, Emily's birthday surprise was a special adventure to a nearby farm where she could pet and feed all sorts of animals.As Emily walked through the farm, she saw a big, friendly horse with a long mane and tail. She had never seen a real horse before, bu\n",
      "------\n",
      "{'max_new_tokens': 256, 'temperature': 1.2, 'top_p': 1.0, 'do_sample': True}\n",
      "it wasn't like riding a real horse but it was kind of fun anyway.\n",
      "Once upon a time, there was a little girl named Jamie. She lived on a farm that had lots of animals, but one day, she decided to go for an adventure. She loved exploring and discovering new things. So, she hopped on her bike and rode into the sunlight to the nearby woods.She had heard stories about a secret meadow in the woods that only a select few had visited before. She had always been curiou\n",
      "------\n",
      "{'max_new_tokens': 256, 'temperature': 0.9, 'top_p': 1.0, 'do_sample': True}\n",
      "it wasn't like riding a real horse but it was kind of fun anyway.\n",
      "Once upon a time, there was a boy named Leo who loved adventure. One day, he found out about a magic amusement park that promised to be the most thrilling experience ever. This park was known for its exciting rides and captivating shows that could transport someone from the mundane to the incredible.As Leo arrived at the entrance, he was greeted by the cheerful sounds of children laughing and sc\n",
      "------\n",
      "{'max_new_tokens': 256, 'temperature': 1.0, 'top_p': 1.0, 'do_sample': True}\n",
      "it wasn't like riding a real horse but it was kind of fun anyway.\n",
      "Samantha loved horses. She dreamt of riding one and feeling like a real cowboy, but she didn't have any to ride. That was until her grandparent's surprised her with a special toy horse, just for her. The toy horse was so realistic, it had bristles and hooves that you could touch and even brush.Samantha couldn't wait to show off her toy horse to her friends. She took it to school and showed it to\n",
      "------\n",
      "{'max_new_tokens': 256, 'temperature': 1.1, 'top_p': 1.0, 'do_sample': True}\n",
      "it wasn't like riding a real horse but it was kind of fun anyway.\n",
      "Once upon a time, there was a young girl named Lucy who loved fairy tales and magical creatures. She always dreamed of riding a real horse and exploring enchanted forests. One day, she stumbled upon a wonderful land where she got to ride through fields of flowers on an invisible flying pony, just like she always desired.At first, Lucy was a little unsure if she would like this \"flying horse\" exp\n",
      "------\n"
     ]
    }
   ],
   "source": [
    "\"\"\"\n",
    "EDA for grid search results\n",
    "\"\"\"\n",
    "dir_name = \"babylm_augment_gridsearch/\"\n",
    "fnames = [dir_name + f for f in os.listdir(dir_name) if f.endswith(\".pkl\")]\n",
    "\n",
    "n = len(pickle.load(open(fnames[0], \"rb\")))\n",
    "idx = random.randint(0, n)\n",
    "\n",
    "conditions = {\n",
    "    # \"temperature\": 0.7,\n",
    "    \"max_new_tokens\": 256,\n",
    "    \"top_p\": 1.,\n",
    "    # \"do_sample\": True,\n",
    "}\n",
    "\n",
    "for fname in fnames:\n",
    "    data = pickle.load(open(fname, \"rb\"))\n",
    "    if all([data[idx][\"kwargs\"][k] == v for k, v in conditions.items()]):\n",
    "        print(data[idx][\"kwargs\"])\n",
    "        print(line_processor(data[idx][\"text\"]))\n",
    "        print(line_processor(data[idx][\"augmented_text\"][:400]))\n",
    "        print(\"------\")"
   ]
  },
  {
   "cell_type": "code",
   "execution_count": null,
   "metadata": {},
   "outputs": [],
   "source": []
  }
 ],
 "metadata": {
  "kernelspec": {
   "display_name": "base",
   "language": "python",
   "name": "python3"
  },
  "language_info": {
   "codemirror_mode": {
    "name": "ipython",
    "version": 3
   },
   "file_extension": ".py",
   "mimetype": "text/x-python",
   "name": "python",
   "nbconvert_exporter": "python",
   "pygments_lexer": "ipython3",
   "version": "3.11.8"
  }
 },
 "nbformat": 4,
 "nbformat_minor": 2
}
