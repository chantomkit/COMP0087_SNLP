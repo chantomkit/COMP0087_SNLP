{
 "cells": [
  {
   "cell_type": "code",
   "execution_count": 11,
   "metadata": {},
   "outputs": [],
   "source": [
    "import os\n",
    "import re\n",
    "import pickle\n",
    "\n",
    "import pandas as pd\n",
    "import numpy as np\n",
    "\n",
    "from transformers import pipeline\n",
    "from pretraining.pipeline import *\n",
    "from pretraining.utils import *"
   ]
  },
  {
   "cell_type": "markdown",
   "metadata": {},
   "source": [
    "## Pipeline\n",
    "- get data\n",
    "- apply preprocessing\n",
    "- infer emotions\n",
    "- aggregate and save results"
   ]
  },
  {
   "cell_type": "code",
   "execution_count": 22,
   "metadata": {},
   "outputs": [],
   "source": [
    "dir_path = f\"data/babylm_data/babylm_100M/\"\n",
    "# dir_path = f\"data/tinystories/\"\n",
    "\n",
    "data_sources = [f for f in os.listdir(dir_path) if not f.startswith(\".\")]\n",
    "data_sources"
   ]
  },
  {
   "cell_type": "code",
   "execution_count": 4,
   "metadata": {},
   "outputs": [],
   "source": [
    "texts = get_data(dir_path, data_sources, sample_subset=10000)\n",
    "\n",
    "total = 0\n",
    "for source, ds in texts.items():\n",
    "    print(f\"{source}: {len(ds)}\")\n",
    "    total += len(ds)\n",
    "print(f\"Total: {total}\")"
   ]
  },
  {
   "cell_type": "code",
   "execution_count": 6,
   "metadata": {},
   "outputs": [],
   "source": [
    "# Select emotion classification model\n",
    "\n",
    "# Faster model, less emotions category with worse accuracy\n",
    "# pipe = pipeline(\n",
    "#     \"text-classification\", \n",
    "#     model=\"j-hartmann/emotion-english-distilroberta-base\", \n",
    "#     top_k=None,\n",
    "#     framework=\"pt\", # pytorch\n",
    "#     )\n",
    "\n",
    "# Larger model, more emotions category with better accuracy, slower inference\n",
    "# NOTE: This model oftens predict neutral emotion\n",
    "pipe = pipeline(\n",
    "    \"text-classification\", \n",
    "    model=\"SamLowe/roberta-base-go_emotions\", \n",
    "    top_k=None,\n",
    "    framework=\"pt\", # pytorch\n",
    "    device=\"cpu\" # cpu / cuda / mps\n",
    "    )"
   ]
  },
  {
   "cell_type": "code",
   "execution_count": 7,
   "metadata": {},
   "outputs": [
    {
     "name": "stdout",
     "output_type": "stream",
     "text": [
      "Processing data/tinystories/train.csv\n"
     ]
    },
    {
     "name": "stderr",
     "output_type": "stream",
     "text": [
      "  0%|          | 0/10000 [00:00<?, ?it/s]"
     ]
    },
    {
     "name": "stderr",
     "output_type": "stream",
     "text": [
      "100%|██████████| 10000/10000 [06:53<00:00, 24.18it/s]\n"
     ]
    }
   ],
   "source": [
    "scores = classify_emotion(texts, pipe)"
   ]
  },
  {
   "cell_type": "code",
   "execution_count": 17,
   "metadata": {},
   "outputs": [],
   "source": [
    "# pickle.dump(scores, open(\"processed_data/babylm.pkl\", \"wb\"))\n",
    "pickle.dump(scores, open(\"processed_data/tinystories.pkl\", \"wb\"))"
   ]
  },
  {
   "cell_type": "code",
   "execution_count": 15,
   "metadata": {},
   "outputs": [],
   "source": [
    "# Alternatively, create a dataframe and save to csv or parquet\n",
    "# df = pd.DataFrame(scores)\n",
    "# df.to_csv(\"processed_data/babylm.csv\", index=False)\n",
    "# df.to_parquet(\"processed_data/babylm.parquet\", index=False)"
   ]
  },
  {
   "cell_type": "markdown",
   "metadata": {},
   "source": [
    "## Further filter emotion labels"
   ]
  },
  {
   "cell_type": "code",
   "execution_count": 18,
   "metadata": {},
   "outputs": [
    {
     "data": {
      "text/plain": [
       "10000"
      ]
     },
     "execution_count": 18,
     "metadata": {},
     "output_type": "execute_result"
    }
   ],
   "source": [
    "# scores = pickle.load(open(\"processed_data/babylm.pkl\", \"rb\"))\n",
    "scores = pickle.load(open(\"processed_data/tinystories.pkl\", \"rb\"))\n",
    "len(scores)"
   ]
  },
  {
   "cell_type": "code",
   "execution_count": 19,
   "metadata": {},
   "outputs": [
    {
     "data": {
      "text/plain": [
       "4637"
      ]
     },
     "execution_count": 19,
     "metadata": {},
     "output_type": "execute_result"
    }
   ],
   "source": [
    "scores_filtered = [s for s in scores if (s[\"label_0\"] != \"neutral\") and (s[\"score_0\"] > 0.5)]\n",
    "len(scores_filtered)"
   ]
  },
  {
   "cell_type": "code",
   "execution_count": 20,
   "metadata": {},
   "outputs": [],
   "source": [
    "# pickle.dump(scores_filtered, open(\"processed_data/babylm_filtered.pkl\", \"wb\"))\n",
    "pickle.dump(scores_filtered, open(\"processed_data/tinystories_filtered.pkl\", \"wb\"))"
   ]
  },
  {
   "cell_type": "code",
   "execution_count": 21,
   "metadata": {},
   "outputs": [],
   "source": [
    "# df = pd.DataFrame(scores)\n",
    "# set(df.iloc[0].filter(regex=\"^label_\").values) # all possible emotions"
   ]
  },
  {
   "cell_type": "code",
   "execution_count": 22,
   "metadata": {},
   "outputs": [],
   "source": [
    "# def filter_emotion(df, threshold=0.5):\n",
    "#     filtered_df = df.copy()\n",
    "#     scores_df = df.filter(regex=\"^score_\")\n",
    "#     labels_df = df.filter(regex=\"^label_\")\n",
    "#     # retrieve confident label(s) with scores >= threshold\n",
    "#     labels = labels_df.where((scores_df >= threshold).values).values\n",
    "#     # remove nans\n",
    "#     labels = [tuple(set(l[~pd.isnull(l)]))for l in labels]\n",
    "#     filtered_df[\"filtered_labels\"] = labels\n",
    "#     filtered_df[\"num_labels\"] = [len(l) for l in labels]\n",
    "#     return filtered_df\n",
    "\n",
    "# filtered_df = filter_emotion(df)"
   ]
  },
  {
   "cell_type": "code",
   "execution_count": 23,
   "metadata": {},
   "outputs": [],
   "source": [
    "# emotion_freq = filtered_df.filtered_labels.value_counts()\n",
    "# emotion_freq.head(40) # label statistics"
   ]
  },
  {
   "cell_type": "code",
   "execution_count": 24,
   "metadata": {},
   "outputs": [],
   "source": [
    "# emotion_freq.iloc[2:].sum()"
   ]
  },
  {
   "cell_type": "code",
   "execution_count": 25,
   "metadata": {},
   "outputs": [],
   "source": [
    "# filtered_df.num_labels.value_counts() # number of labels per text"
   ]
  },
  {
   "cell_type": "code",
   "execution_count": 26,
   "metadata": {},
   "outputs": [],
   "source": [
    "# drop if neutral or no emotion\n",
    "# tmp_df = filtered_df[~filtered_df.filtered_labels.apply(lambda x: \"neutral\" in x or not x)]\n",
    "# tmp_df.groupby(\"source\").filtered_labels.value_counts().groupby(level=0).head(5)"
   ]
  },
  {
   "cell_type": "code",
   "execution_count": 27,
   "metadata": {},
   "outputs": [],
   "source": [
    "# get samples with specific label\n",
    "# emo = \"optimism\"\n",
    "# filtered_df.loc[filtered_df.filtered_labels.apply(lambda x: emo in x), \"text\"].head().values"
   ]
  },
  {
   "cell_type": "code",
   "execution_count": null,
   "metadata": {},
   "outputs": [],
   "source": []
  }
 ],
 "metadata": {
  "kernelspec": {
   "display_name": "base",
   "language": "python",
   "name": "python3"
  },
  "language_info": {
   "codemirror_mode": {
    "name": "ipython",
    "version": 3
   },
   "file_extension": ".py",
   "mimetype": "text/x-python",
   "name": "python",
   "nbconvert_exporter": "python",
   "pygments_lexer": "ipython3",
   "version": "3.11.8"
  }
 },
 "nbformat": 4,
 "nbformat_minor": 2
}
