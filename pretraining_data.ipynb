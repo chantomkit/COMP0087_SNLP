{
 "cells": [
  {
   "cell_type": "code",
   "execution_count": 5,
   "metadata": {},
   "outputs": [],
   "source": [
    "import re\n",
    "\n",
    "import pandas as pd\n",
    "import numpy as np\n",
    "\n",
    "from torch.utils.data import Dataset\n",
    "from transformers import pipeline\n",
    "\n",
    "from tqdm import tqdm"
   ]
  },
  {
   "cell_type": "code",
   "execution_count": 6,
   "metadata": {},
   "outputs": [],
   "source": [
    "dir_path = f\"data/babylm_data/babylm_100M/\"\n",
    "data_sources = [\n",
    "        \"aochildes.train\", \n",
    "        \"bnc_spoken.train\", \n",
    "        \"cbt.train\",\n",
    "        \"children_stories.train\",\n",
    "        \"gutenberg.train\",\n",
    "        \"open_subtitles.train\",\n",
    "        \"qed.train\",\n",
    "        \"simple_wikipedia.train\",\n",
    "        \"switchboard.train\",\n",
    "        \"wikipedia.train\"\n",
    "    ]"
   ]
  },
  {
   "cell_type": "code",
   "execution_count": 7,
   "metadata": {},
   "outputs": [],
   "source": [
    "class ListDataset(Dataset):\n",
    "    def __init__(self, original_list, sample_subset=0, seed=42):\n",
    "        if sample_subset and sample_subset < len(original_list):\n",
    "            np.random.seed(seed)\n",
    "            np.random.shuffle(original_list)\n",
    "            self.ds_list = original_list[:sample_subset]\n",
    "        else:\n",
    "            self.ds_list = original_list\n",
    "    def __len__(self):\n",
    "        return len(self.ds_list)\n",
    "\n",
    "    def __getitem__(self, i):\n",
    "        return self.ds_list[i]\n",
    "\n",
    "# Parse data and preprocessing\n",
    "# Feel free to add rules to filter lines\n",
    "def line_processor(line):\n",
    "    line = re.sub(\"[\\t\\n]\", \"\", line) # remove tabs and newlines\n",
    "    line = re.sub(r'\\s+([.,!?;:])', r'\\1', line) # remove spaces before punctuation\n",
    "    line = line.strip() # remove leading and trailing spaces\n",
    "    if len(line.split()) <= 10: # remove lines with less than 10 words\n",
    "        return None\n",
    "    return line\n",
    "\n",
    "def get_data(data_sources, sample_subset=0, seed=42):\n",
    "    data = {}\n",
    "    for source in data_sources:\n",
    "        source_path = dir_path + source\n",
    "        with open(source_path, \"r\") as f:\n",
    "            processed = [l for l in map(line_processor, f.readlines()) if l] # remove empty lines\n",
    "            processed = list(set(processed)) # remove duplicates\n",
    "            data[source_path] = ListDataset(processed, sample_subset, seed)\n",
    "    return data\n",
    "\n",
    "# Classify emotions of texts in dictionary format of {source: [line1, line2, ...]}\n",
    "def classify_emotion(texts, pipe, debug=False):\n",
    "    results = []\n",
    "    for source, ds in texts.items():\n",
    "        print(f\"Processing {source}\")\n",
    "        if debug:\n",
    "            ds = ds[:100] # draw a few samples for debugging purposes\n",
    "        for i, scores in enumerate(tqdm(pipe(ds, truncation=True, padding=True))):\n",
    "            # store the metadata and classification scores in a list of dictionaries\n",
    "            results += [{\"source\": source, \"text\": ds[i], \"scores\": scores}]\n",
    "    return results\n",
    "\n",
    "# Build preprocessed data into a dataframe\n",
    "def build_results_df(results):\n",
    "    n_labels = len(results[0][\"scores\"])\n",
    "\n",
    "    df = pd.DataFrame(results)\n",
    "\n",
    "    # expanding the classification scores data structure from classifier output\n",
    "    scores_df = df[\"scores\"].apply(pd.Series)\n",
    "    result_dfs = []\n",
    "    for i in range(n_labels):\n",
    "        tmp = scores_df[i].apply(pd.Series).add_suffix(f\"_{i}\")\n",
    "        result_dfs.append(tmp)\n",
    "\n",
    "    result_dfs = pd.concat(result_dfs, axis=1)\n",
    "    df = pd.concat([df[[\"source\", \"text\"]], result_dfs], axis=1)\n",
    "    return df"
   ]
  },
  {
   "cell_type": "code",
   "execution_count": 8,
   "metadata": {},
   "outputs": [],
   "source": [
    "texts = get_data(data_sources, sample_subset=50000)"
   ]
  },
  {
   "cell_type": "code",
   "execution_count": 9,
   "metadata": {},
   "outputs": [
    {
     "name": "stdout",
     "output_type": "stream",
     "text": [
      "data/babylm_data/babylm_100M/aochildes.train: 42420\n",
      "data/babylm_data/babylm_100M/bnc_spoken.train: 50000\n",
      "data/babylm_data/babylm_100M/cbt.train: 50000\n",
      "data/babylm_data/babylm_100M/children_stories.train: 50000\n",
      "data/babylm_data/babylm_100M/gutenberg.train: 50000\n",
      "data/babylm_data/babylm_100M/open_subtitles.train: 50000\n",
      "data/babylm_data/babylm_100M/qed.train: 50000\n",
      "data/babylm_data/babylm_100M/simple_wikipedia.train: 50000\n",
      "data/babylm_data/babylm_100M/switchboard.train: 39608\n",
      "data/babylm_data/babylm_100M/wikipedia.train: 50000\n"
     ]
    }
   ],
   "source": [
    "for source, ds in texts.items():\n",
    "    print(f\"{source}: {len(ds)}\")"
   ]
  },
  {
   "cell_type": "code",
   "execution_count": 10,
   "metadata": {},
   "outputs": [],
   "source": [
    "# Select emotion classification model\n",
    "\n",
    "# Faster model, less emotions category with worse accuracy\n",
    "# pipe = pipeline(\n",
    "#     \"text-classification\", \n",
    "#     model=\"j-hartmann/emotion-english-distilroberta-base\", \n",
    "#     top_k=None,\n",
    "#     framework=\"pt\", # pytorch\n",
    "#     )\n",
    "\n",
    "# Larger model, more emotions category with better accuracy, slower inference\n",
    "# NOTE: This model oftens predict neutral emotion\n",
    "pipe = pipeline(\n",
    "    \"text-classification\", \n",
    "    model=\"SamLowe/roberta-base-go_emotions\", \n",
    "    top_k=None,\n",
    "    framework=\"pt\", # pytorch\n",
    "    device=\"mps\" # multi-precision support for M1/M2 mac\n",
    "    )"
   ]
  },
  {
   "cell_type": "code",
   "execution_count": 11,
   "metadata": {},
   "outputs": [
    {
     "name": "stdout",
     "output_type": "stream",
     "text": [
      "Processing data/babylm_data/babylm_100M/aochildes.train\n"
     ]
    },
    {
     "name": "stderr",
     "output_type": "stream",
     "text": [
      "100%|██████████| 42420/42420 [13:42<00:00, 51.59it/s] \n"
     ]
    },
    {
     "name": "stdout",
     "output_type": "stream",
     "text": [
      "Processing data/babylm_data/babylm_100M/bnc_spoken.train\n"
     ]
    },
    {
     "name": "stderr",
     "output_type": "stream",
     "text": [
      "100%|██████████| 50000/50000 [21:09<00:00, 39.40it/s]  \n"
     ]
    },
    {
     "name": "stdout",
     "output_type": "stream",
     "text": [
      "Processing data/babylm_data/babylm_100M/cbt.train\n"
     ]
    },
    {
     "name": "stderr",
     "output_type": "stream",
     "text": [
      "100%|██████████| 50000/50000 [16:01<00:00, 52.01it/s]  \n"
     ]
    },
    {
     "name": "stdout",
     "output_type": "stream",
     "text": [
      "Processing data/babylm_data/babylm_100M/children_stories.train\n"
     ]
    },
    {
     "name": "stderr",
     "output_type": "stream",
     "text": [
      "100%|██████████| 50000/50000 [29:16<00:00, 28.47it/s]  \n"
     ]
    },
    {
     "name": "stdout",
     "output_type": "stream",
     "text": [
      "Processing data/babylm_data/babylm_100M/gutenberg.train\n"
     ]
    },
    {
     "name": "stderr",
     "output_type": "stream",
     "text": [
      "100%|██████████| 50000/50000 [14:19<00:00, 58.19it/s]\n"
     ]
    },
    {
     "name": "stdout",
     "output_type": "stream",
     "text": [
      "Processing data/babylm_data/babylm_100M/open_subtitles.train\n"
     ]
    },
    {
     "name": "stderr",
     "output_type": "stream",
     "text": [
      "100%|██████████| 50000/50000 [14:39<00:00, 56.86it/s] \n"
     ]
    },
    {
     "name": "stdout",
     "output_type": "stream",
     "text": [
      "Processing data/babylm_data/babylm_100M/qed.train\n"
     ]
    },
    {
     "name": "stderr",
     "output_type": "stream",
     "text": [
      "100%|██████████| 50000/50000 [15:03<00:00, 55.32it/s]\n"
     ]
    },
    {
     "name": "stdout",
     "output_type": "stream",
     "text": [
      "Processing data/babylm_data/babylm_100M/simple_wikipedia.train\n"
     ]
    },
    {
     "name": "stderr",
     "output_type": "stream",
     "text": [
      "100%|██████████| 50000/50000 [17:46<00:00, 46.90it/s]  \n"
     ]
    },
    {
     "name": "stdout",
     "output_type": "stream",
     "text": [
      "Processing data/babylm_data/babylm_100M/switchboard.train\n"
     ]
    },
    {
     "name": "stderr",
     "output_type": "stream",
     "text": [
      "100%|██████████| 39608/39608 [11:54<00:00, 55.42it/s]\n"
     ]
    },
    {
     "name": "stdout",
     "output_type": "stream",
     "text": [
      "Processing data/babylm_data/babylm_100M/wikipedia.train\n"
     ]
    },
    {
     "name": "stderr",
     "output_type": "stream",
     "text": [
      "100%|██████████| 50000/50000 [20:37<00:00, 40.40it/s]  \n"
     ]
    }
   ],
   "source": [
    "scores = classify_emotion(texts, pipe, debug=False)"
   ]
  },
  {
   "cell_type": "code",
   "execution_count": 12,
   "metadata": {},
   "outputs": [],
   "source": [
    "df = build_results_df(scores)"
   ]
  },
  {
   "cell_type": "code",
   "execution_count": 13,
   "metadata": {},
   "outputs": [
    {
     "data": {
      "text/plain": [
       "label_0\n",
       "neutral           367430\n",
       "curiosity          16914\n",
       "admiration         15747\n",
       "approval           12329\n",
       "sadness             8739\n",
       "confusion           7748\n",
       "disapproval         6412\n",
       "joy                 6179\n",
       "caring              4243\n",
       "disappointment      4157\n",
       "desire              3692\n",
       "optimism            3497\n",
       "love                3214\n",
       "fear                2971\n",
       "realization         2894\n",
       "amusement           2818\n",
       "surprise            2748\n",
       "annoyance           2373\n",
       "gratitude           2085\n",
       "excitement          1923\n",
       "remorse             1284\n",
       "anger               1267\n",
       "disgust              614\n",
       "embarrassment        358\n",
       "nervousness          311\n",
       "pride                 73\n",
       "relief                 8\n",
       "Name: count, dtype: int64"
      ]
     },
     "execution_count": 13,
     "metadata": {},
     "output_type": "execute_result"
    }
   ],
   "source": [
    "df[\"label_0\"].value_counts() # first label is the most confident one"
   ]
  },
  {
   "cell_type": "code",
   "execution_count": 14,
   "metadata": {},
   "outputs": [
    {
     "name": "stdout",
     "output_type": "stream",
     "text": [
      "Sample text for neutral:\n",
      "['In pronouncing these words he drew a sharp knife across the guide-rope by which I was suspended, and as we then happened to be precisely over my own house (which, during my peregrinations, had been handsomely rebuilt), it so occurred that I tumbled headlong down the ample chimney and alit upon the dining-room hearth.'\n",
      " 'What that really means is just make a string with a color, name of the color in it.'\n",
      " 'The result is simple: we will have a political caste system which emphasizes, which accelerates the collapse of a world.']\n",
      "Sample text for realization:\n",
      "[\"Dad realized he didn't need to be in charge to get some glory, because he didn't need glory at all.\"\n",
      " 'The more I thought about it, however, the more I came to the view that this fish knows something.'\n",
      " 'He realized that I regarded the matter seriously, and he saw me off when I left for the east with a grin tempered by honest sympathy and understanding.']\n",
      "Sample text for confusion:\n",
      "[\"Half the time I don't know whether you're joking or not.\"\n",
      " \"Out in in he he's going straight to gold is he?\"\n",
      " 'i think that broke before i think james broke that string?']\n",
      "Sample text for disapproval:\n",
      "['’Tis but indifferent architecture to make a blind dome; here’s one. No, no, no; I must have a lantern.'\n",
      " \"animals. And then I thought no, we wouldn't do that, for I am not likely\"\n",
      " \"- No, i don't-  you're telling me that you're moving to Thailand?\"]\n",
      "Sample text for curiosity:\n",
      "['\"I just want to know what it is you\\'re doing,\" she replied.'\n",
      " '“What was the dream, then?” asked he, and was quite curious. “I dreamt of a ferry-man who complained that he must always ferry from one side to the other, and was never released. What is the cause of it?” “Ah!'\n",
      " \"Then I'm sure you must know a lot about music, don't you?\"]\n",
      "Sample text for admiration:\n",
      "['The little girls hailed Amy and her treasures with delight, which cordial reception somewhat soothed her perturbed spirit, and she fell to work, determined to succeed florally, if she could not artistically.'\n",
      " 'Beau Jocque is known for his gruff vocals, his fusion of many musical styles into zydeco, and above all, for the powerful energy of his rhythm and sound. Backed by the Hi-Rollers, he became one of the top dance-hall acts of his musical decade. He wrote, recorded and performed many songs in both Louisiana French and Louisiana Creole languages, as well as in English, primarily on the Rounder Records label.'\n",
      " 'But Kitty never forgot the little lessons she had learned: she tried to run willingly when spoken to; she remembered the pretty steps and danced like a fairy; and best of all, she always loved the innocent and interesting little creatures in the woods and fields, and whenever she was told she might go to play with them, she hurried away almost as quickly as if she still wore the skipping shoes.']\n",
      "Sample text for surprise:\n",
      "['The daughter then turned toward them both and her jaw literally dropped in astonishment as she just stared at them for several seconds before she abruptly burst into tears as well.'\n",
      " 'Um, and I guess what I, what, amazes me is the number of men who are willing to stay home with the kids'\n",
      " '\"I I thought you looked like the Squirrel at the farmhouse,\" she said; and then forgetting herself, she added, \"You did look so surprised when that walnut hit you.\"']\n",
      "Sample text for approval:\n",
      "['So, education and health are going to be our topmost priorities.'\n",
      " \"And that's exactly what we have coming out in saving bonds, is, is, you know, about fifteen hundred dollars a year.\"\n",
      " 'was worthy. Then home to camp, between walls of dusk--away, away from']\n",
      "Sample text for remorse:\n",
      "[\"I know you 're sorry for what you 've done, and you 're never going to do it any more.\"\n",
      " \"And I apologize if I'm being presumptuous, but... this is a place of God, and...\"\n",
      " \"Oh sorry have I  okeydoke, Mary Ann can I borrow this when you've finished?\"]\n",
      "Sample text for desire:\n",
      "['\"You see,\" she said, \"that I know all about your troubles; and you cannot doubt that I desire to make you happy for as long a time as you may remain with me. For this purpose, my honored guests, I have ordered a banquet to be prepared. Fish, fowl, and flesh, roasted, and in luscious stews, and seasoned, I trust, to all your tastes, are ready to be served up. If your appetites tell you it is dinner time, then come with me to the festal saloon.\"'\n",
      " \"And, uh, you know, I, I've, in hindsight, seen some things that I wished that, you know, I had done something about that was, you know, within my power or, uh, you know, wish that in some ways we, as parents, had more control over what's happening up there, you know, type thing.\"\n",
      " 'i want to because i i feel bad you know i wanted to go to the party and then you know the kids really so we can just have a little pretend little extra party.']\n",
      "Sample text for sadness:\n",
      "[\"It's hard getting what happens at the hospital out of your head.\"\n",
      " 'Shagari died on 28 December 2018 at a hospital in Abuja, Nigeria from a short-illness at the age of 93.'\n",
      " \"One, it was the fact that he is now gone and I'll never shake his hand again.\"]\n",
      "Sample text for gratitude:\n",
      "['I say unto you, my brethren, [and sisters], that if you should render all thanks and praise which your whole soul has power to possess, to that God who has created you... yet ye would be unprofitable servants.\"'\n",
      " 'Congratulations to March of Dimes Canada on the occasion of your 60th anniversary.'\n",
      " 'Heavenly Father, we thank You for Thy bounty on this table and ask that You bless the entire Cleary family and all the friends here assembled.']\n",
      "Sample text for excitement:\n",
      "[\"`` I guess if you knew what I know, you 'd be excited too. ''\"\n",
      " \"i'm just anxious to get the results of the test that's all.\"\n",
      " \"I'll have a good old rummage this weekend cos I got stacks of stuff!\"]\n",
      "Sample text for optimism:\n",
      "['But er, I have a feeling that you two might be able to work better.'\n",
      " 'A day will come when you feel good about yourself again.'\n",
      " \"` They 'll make a man o ' you, O'Hara, at St Xavier 's -- a white man, an ', I hope, a good man.\"]\n",
      "Sample text for annoyance:\n",
      "[\"Don't play the fool I'm going for the interview now if you read this, I don't think you will go for the interview\"\n",
      " 'Mayor. It is useless. Every child in our city is following the magic sound.'\n",
      " '“Oh, you get those ideas out of novels, you know. Times are changed now, dear prince; the world sees things as they really are. That’s all nonsense. Besides, how can you marry? You need a nurse, not a wife.”']\n",
      "Sample text for amusement:\n",
      "[\"Well I'm just joking by saying  you've come round to see me haven't you?\"\n",
      " '\"Ha, ha, ha!\" laughed a silvery voice. \"Why, that traveling-cloak is the one thing in the world which nobody can steal. It is of no use to anybody except the owner. Open your eyes, and see what you can see.\"'\n",
      " '“Then we could not use you long,” the captain said, with a dry laugh.']\n",
      "Sample text for love:\n",
      "['It was almost as good as a bit of woods -- and Jims loved the woods, though he scarcely ever saw them.'\n",
      " \"doesn't have that nice skin of father that you like so much.\"\n",
      " 'So Mum let you know you were loved and Dad kept the work going to keep the money coming in.']\n",
      "Sample text for disappointment:\n",
      "['Unfortunately, the new-comer was by nature spiteful and envious, and could not bear anyone to have better luck than himself.'\n",
      " \"This date of April I can understand the Minister er the Minister of Transport is concerned, but unless something is done pretty quickly there'll be a lot of people in Leeds who will be worrying about what's going to happen on er around the station because there is this small group of people no not always from the town concerned or the city concerned, who behave in this abysmal way and British Transport Police have a very good record at the stations and on the trains as they can move from one part of the country to another.\"\n",
      " '\"Poor boy!\" said Primrose, half aside. \"What a disappointment awaits him!\"']\n",
      "Sample text for fear:\n",
      "['I stopped, with much wonder in my heart, and perhaps a little terror also.'\n",
      " 'When I first started becoming a woman  on playing on the beach and I ran home petrified.'\n",
      " 'Before there was regular communication between the two hemispheres, the different types of domesticated animals and diseases were more numerous in the Old World than in the New. This partly led to the horrible effects of Old World diseases on Native American tribes. Smallpox probably caused in the highest death toll for Native Americans.']\n",
      "Sample text for joy:\n",
      "['An educational video game is a type of video game that focuses on educating or training the player. They can be more enjoyable for the player than other methods of education. One example is Basic Math.'\n",
      " 'But I must record what we have done. Already I am getting much pleasure'\n",
      " \"`` I 'm real glad you take that view of it, Louisa.\"]\n",
      "Sample text for caring:\n",
      "[\"Look, I'm trying to help you avoid pitfalls and disappointments that could...\"\n",
      " 'you can be rowdy but you be careful what you bang.'\n",
      " 'No, I need to remove your fathers and relocate them to a safe place.']\n",
      "Sample text for embarrassment:\n",
      "[\"and I'm embarrassed for the people that are even involved in the show.\"\n",
      " 'Instead of living out our lives in shame and disgrace, we are to be raped and beaten and torn limb from limb by a raving mob.'\n",
      " \"Arithmetic is not half so pleasant as ` Arabian Nights, ' I know, but it is a very useful thing, and now is the time to learn it, else you will be ashamed and sorry by and by. ''\"]\n",
      "Sample text for nervousness:\n",
      "['Hour after hour passed away, and slowly Dorothy got over her fright; but she felt quite lonely, and the wind shrieked so loudly all about her that she nearly became deaf.  At first she had wondered if she would be dashed to pieces when the house fell again; but as the hours passed and nothing terrible happened, she stopped worrying and resolved to wait calmly and see what the future would bring.  At last she crawled over the swaying floor to her bed, and lay down upon it; and Toto followed and lay down beside her.'\n",
      " 'oh mommy gets nervous that you might drop that on her head and it would hurt?'\n",
      " '\"Burning anxiety overcame me. I leant towards Father Christmas, and shouted I had found out that it was needful to shout']\n",
      "Sample text for disgust:\n",
      "[\"- I can't put something this filthy out in the garbage.\"\n",
      " 'is told, the whole thing becomes only more awful and obscure.'\n",
      " 'affects to swoon away in the presence of so awful a crime. For the time']\n",
      "Sample text for anger:\n",
      "[\"I'm just so mad I literally don't know what to say to her\"\n",
      " \"One thing I really hate, is they don't explain to the jurors, in a, in a trial, in a capital murder trial, or in cases of rape, or in different things that are so horrible, what it means when they sentence them to, you know,\"\n",
      " 'You wanted to beat me up but I beat you up.']\n",
      "Sample text for pride:\n",
      "['Be proud of the decision you made to go to law school.'\n",
      " \"And I 'd be proud to have you drop over to visit me now and then too.\"\n",
      " 'Braille helped make me who I am, and I am proud of that.']\n",
      "Sample text for relief:\n",
      "[\"Well, at least we don't have some vaguely racist guy hanging around.\"\n",
      " 'Fortunately the fire had made little headway, though a few minutes more would have given it a dangerous start.'\n",
      " 'Doubtless it was a great relief to walk disencumbered; and perhaps without that relief, and the consequent sense of liberty and lightness, I could not have walked at all.']\n"
     ]
    }
   ],
   "source": [
    "emotions = df[\"label_0\"].unique()\n",
    "# emotions = [\"optimism\", \"excitement\"]\n",
    "for emotion in emotions:\n",
    "    print(f\"Sample text for {emotion}:\")\n",
    "    print(df.loc[df[\"label_0\"] == emotion, \"text\"].sample(3).values)"
   ]
  },
  {
   "cell_type": "code",
   "execution_count": 15,
   "metadata": {},
   "outputs": [],
   "source": [
    "df.to_csv(\"processed_data/babylm.csv\", index=False)"
   ]
  },
  {
   "cell_type": "code",
   "execution_count": 16,
   "metadata": {},
   "outputs": [
    {
     "name": "stderr",
     "output_type": "stream",
     "text": [
      "/Users/chantom/anaconda3/lib/python3.11/site-packages/pyarrow/pandas_compat.py:373: FutureWarning: is_sparse is deprecated and will be removed in a future version. Check `isinstance(dtype, pd.SparseDtype)` instead.\n",
      "  if _pandas_api.is_sparse(col):\n"
     ]
    }
   ],
   "source": [
    "df.to_parquet(\"processed_data/babylm.parquet\", index=False)"
   ]
  },
  {
   "cell_type": "code",
   "execution_count": 17,
   "metadata": {},
   "outputs": [],
   "source": [
    "df = pd.read_parquet(\"processed_data/babylm.parquet\")\n"
   ]
  },
  {
   "cell_type": "code",
   "execution_count": 18,
   "metadata": {},
   "outputs": [
    {
     "data": {
      "text/html": [
       "<div>\n",
       "<style scoped>\n",
       "    .dataframe tbody tr th:only-of-type {\n",
       "        vertical-align: middle;\n",
       "    }\n",
       "\n",
       "    .dataframe tbody tr th {\n",
       "        vertical-align: top;\n",
       "    }\n",
       "\n",
       "    .dataframe thead th {\n",
       "        text-align: right;\n",
       "    }\n",
       "</style>\n",
       "<table border=\"1\" class=\"dataframe\">\n",
       "  <thead>\n",
       "    <tr style=\"text-align: right;\">\n",
       "      <th></th>\n",
       "      <th>source</th>\n",
       "      <th>text</th>\n",
       "      <th>label_0</th>\n",
       "      <th>score_0</th>\n",
       "      <th>label_1</th>\n",
       "      <th>score_1</th>\n",
       "      <th>label_2</th>\n",
       "      <th>score_2</th>\n",
       "      <th>label_3</th>\n",
       "      <th>score_3</th>\n",
       "      <th>...</th>\n",
       "      <th>label_23</th>\n",
       "      <th>score_23</th>\n",
       "      <th>label_24</th>\n",
       "      <th>score_24</th>\n",
       "      <th>label_25</th>\n",
       "      <th>score_25</th>\n",
       "      <th>label_26</th>\n",
       "      <th>score_26</th>\n",
       "      <th>label_27</th>\n",
       "      <th>score_27</th>\n",
       "    </tr>\n",
       "  </thead>\n",
       "  <tbody>\n",
       "    <tr>\n",
       "      <th>0</th>\n",
       "      <td>data/babylm_data/babylm_100M/aochildes.train</td>\n",
       "      <td>and if while you are sheltering beneath palm o...</td>\n",
       "      <td>neutral</td>\n",
       "      <td>0.964169</td>\n",
       "      <td>approval</td>\n",
       "      <td>0.012598</td>\n",
       "      <td>annoyance</td>\n",
       "      <td>0.006894</td>\n",
       "      <td>realization</td>\n",
       "      <td>0.006892</td>\n",
       "      <td>...</td>\n",
       "      <td>remorse</td>\n",
       "      <td>0.000332</td>\n",
       "      <td>nervousness</td>\n",
       "      <td>0.000318</td>\n",
       "      <td>grief</td>\n",
       "      <td>0.000296</td>\n",
       "      <td>relief</td>\n",
       "      <td>0.000250</td>\n",
       "      <td>pride</td>\n",
       "      <td>0.000188</td>\n",
       "    </tr>\n",
       "    <tr>\n",
       "      <th>1</th>\n",
       "      <td>data/babylm_data/babylm_100M/aochildes.train</td>\n",
       "      <td>oh here do you want to try and put it in there.</td>\n",
       "      <td>neutral</td>\n",
       "      <td>0.885177</td>\n",
       "      <td>curiosity</td>\n",
       "      <td>0.063852</td>\n",
       "      <td>annoyance</td>\n",
       "      <td>0.019247</td>\n",
       "      <td>confusion</td>\n",
       "      <td>0.017220</td>\n",
       "      <td>...</td>\n",
       "      <td>nervousness</td>\n",
       "      <td>0.000297</td>\n",
       "      <td>relief</td>\n",
       "      <td>0.000204</td>\n",
       "      <td>grief</td>\n",
       "      <td>0.000199</td>\n",
       "      <td>remorse</td>\n",
       "      <td>0.000191</td>\n",
       "      <td>pride</td>\n",
       "      <td>0.000105</td>\n",
       "    </tr>\n",
       "    <tr>\n",
       "      <th>2</th>\n",
       "      <td>data/babylm_data/babylm_100M/aochildes.train</td>\n",
       "      <td>let's see if you would try the right hand if i...</td>\n",
       "      <td>neutral</td>\n",
       "      <td>0.799880</td>\n",
       "      <td>curiosity</td>\n",
       "      <td>0.184310</td>\n",
       "      <td>optimism</td>\n",
       "      <td>0.026595</td>\n",
       "      <td>desire</td>\n",
       "      <td>0.016805</td>\n",
       "      <td>...</td>\n",
       "      <td>relief</td>\n",
       "      <td>0.000407</td>\n",
       "      <td>embarrassment</td>\n",
       "      <td>0.000404</td>\n",
       "      <td>gratitude</td>\n",
       "      <td>0.000395</td>\n",
       "      <td>grief</td>\n",
       "      <td>0.000278</td>\n",
       "      <td>pride</td>\n",
       "      <td>0.000169</td>\n",
       "    </tr>\n",
       "    <tr>\n",
       "      <th>3</th>\n",
       "      <td>data/babylm_data/babylm_100M/aochildes.train</td>\n",
       "      <td>she's not really going to hurt you she just sa...</td>\n",
       "      <td>neutral</td>\n",
       "      <td>0.556108</td>\n",
       "      <td>caring</td>\n",
       "      <td>0.413813</td>\n",
       "      <td>approval</td>\n",
       "      <td>0.045091</td>\n",
       "      <td>disapproval</td>\n",
       "      <td>0.039041</td>\n",
       "      <td>...</td>\n",
       "      <td>embarrassment</td>\n",
       "      <td>0.000707</td>\n",
       "      <td>pride</td>\n",
       "      <td>0.000591</td>\n",
       "      <td>amusement</td>\n",
       "      <td>0.000536</td>\n",
       "      <td>excitement</td>\n",
       "      <td>0.000473</td>\n",
       "      <td>surprise</td>\n",
       "      <td>0.000315</td>\n",
       "    </tr>\n",
       "    <tr>\n",
       "      <th>4</th>\n",
       "      <td>data/babylm_data/babylm_100M/aochildes.train</td>\n",
       "      <td>this guy is in the winter time and this guy is...</td>\n",
       "      <td>neutral</td>\n",
       "      <td>0.525609</td>\n",
       "      <td>confusion</td>\n",
       "      <td>0.486314</td>\n",
       "      <td>curiosity</td>\n",
       "      <td>0.192952</td>\n",
       "      <td>realization</td>\n",
       "      <td>0.027604</td>\n",
       "      <td>...</td>\n",
       "      <td>embarrassment</td>\n",
       "      <td>0.000590</td>\n",
       "      <td>remorse</td>\n",
       "      <td>0.000544</td>\n",
       "      <td>grief</td>\n",
       "      <td>0.000301</td>\n",
       "      <td>relief</td>\n",
       "      <td>0.000279</td>\n",
       "      <td>pride</td>\n",
       "      <td>0.000115</td>\n",
       "    </tr>\n",
       "  </tbody>\n",
       "</table>\n",
       "<p>5 rows × 58 columns</p>\n",
       "</div>"
      ],
      "text/plain": [
       "                                         source  \\\n",
       "0  data/babylm_data/babylm_100M/aochildes.train   \n",
       "1  data/babylm_data/babylm_100M/aochildes.train   \n",
       "2  data/babylm_data/babylm_100M/aochildes.train   \n",
       "3  data/babylm_data/babylm_100M/aochildes.train   \n",
       "4  data/babylm_data/babylm_100M/aochildes.train   \n",
       "\n",
       "                                                text  label_0   score_0  \\\n",
       "0  and if while you are sheltering beneath palm o...  neutral  0.964169   \n",
       "1    oh here do you want to try and put it in there.  neutral  0.885177   \n",
       "2  let's see if you would try the right hand if i...  neutral  0.799880   \n",
       "3  she's not really going to hurt you she just sa...  neutral  0.556108   \n",
       "4  this guy is in the winter time and this guy is...  neutral  0.525609   \n",
       "\n",
       "     label_1   score_1    label_2   score_2      label_3   score_3  ...  \\\n",
       "0   approval  0.012598  annoyance  0.006894  realization  0.006892  ...   \n",
       "1  curiosity  0.063852  annoyance  0.019247    confusion  0.017220  ...   \n",
       "2  curiosity  0.184310   optimism  0.026595       desire  0.016805  ...   \n",
       "3     caring  0.413813   approval  0.045091  disapproval  0.039041  ...   \n",
       "4  confusion  0.486314  curiosity  0.192952  realization  0.027604  ...   \n",
       "\n",
       "        label_23  score_23       label_24  score_24   label_25  score_25  \\\n",
       "0        remorse  0.000332    nervousness  0.000318      grief  0.000296   \n",
       "1    nervousness  0.000297         relief  0.000204      grief  0.000199   \n",
       "2         relief  0.000407  embarrassment  0.000404  gratitude  0.000395   \n",
       "3  embarrassment  0.000707          pride  0.000591  amusement  0.000536   \n",
       "4  embarrassment  0.000590        remorse  0.000544      grief  0.000301   \n",
       "\n",
       "     label_26  score_26  label_27  score_27  \n",
       "0      relief  0.000250     pride  0.000188  \n",
       "1     remorse  0.000191     pride  0.000105  \n",
       "2       grief  0.000278     pride  0.000169  \n",
       "3  excitement  0.000473  surprise  0.000315  \n",
       "4      relief  0.000279     pride  0.000115  \n",
       "\n",
       "[5 rows x 58 columns]"
      ]
     },
     "execution_count": 18,
     "metadata": {},
     "output_type": "execute_result"
    }
   ],
   "source": [
    "df.head()"
   ]
  },
  {
   "cell_type": "code",
   "execution_count": null,
   "metadata": {},
   "outputs": [],
   "source": []
  }
 ],
 "metadata": {
  "kernelspec": {
   "display_name": "base",
   "language": "python",
   "name": "python3"
  },
  "language_info": {
   "codemirror_mode": {
    "name": "ipython",
    "version": 3
   },
   "file_extension": ".py",
   "mimetype": "text/x-python",
   "name": "python",
   "nbconvert_exporter": "python",
   "pygments_lexer": "ipython3",
   "version": "3.11.6"
  }
 },
 "nbformat": 4,
 "nbformat_minor": 2
}
