{
 "cells": [
  {
   "cell_type": "code",
   "execution_count": 1,
   "metadata": {},
   "outputs": [],
   "source": [
    "import re\n",
    "\n",
    "import pandas as pd\n",
    "import numpy as np\n",
    "\n",
    "from torch.utils.data import Dataset\n",
    "from transformers import pipeline\n",
    "\n",
    "from tqdm import tqdm"
   ]
  },
  {
   "cell_type": "code",
   "execution_count": 2,
   "metadata": {},
   "outputs": [],
   "source": [
    "dir_path = f\"data/babylm_data/babylm_100M/\"\n",
    "data_sources = [\n",
    "        \"aochildes.train\", \n",
    "        \"bnc_spoken.train\", \n",
    "        \"cbt.train\",\n",
    "        \"children_stories.train\",\n",
    "        \"gutenberg.train\",\n",
    "        \"open_subtitles.train\",\n",
    "        \"qed.train\",\n",
    "        \"simple_wikipedia.train\",\n",
    "        \"switchboard.train\",\n",
    "        \"wikipedia.train\"\n",
    "    ]"
   ]
  },
  {
   "cell_type": "code",
   "execution_count": 40,
   "metadata": {},
   "outputs": [],
   "source": [
    "class ListDataset(Dataset):\n",
    "    def __init__(self, original_list, sample_subset=0, seed=42):\n",
    "        if sample_subset and sample_subset < len(original_list):\n",
    "            np.random.seed(seed)\n",
    "            np.random.shuffle(original_list)\n",
    "            self.ds_list = original_list[:sample_subset]\n",
    "        else:\n",
    "            self.ds_list = original_list\n",
    "    def __len__(self):\n",
    "        return len(self.ds_list)\n",
    "\n",
    "    def __getitem__(self, i):\n",
    "        return self.ds_list[i]\n",
    "\n",
    "# Parse data and preprocessing\n",
    "# Feel free to add rules to filter lines\n",
    "def line_processor(line):\n",
    "    line = re.sub(\"[\\t\\n]\", \"\", line) # remove tabs and newlines\n",
    "    line = re.sub(r'\\s+([.,!?;:])', r'\\1', line) # remove spaces before punctuation\n",
    "    line = line.strip() # remove leading and trailing spaces\n",
    "    if len(line.split()) <= 10: # remove lines with less than 10 words\n",
    "        return None\n",
    "    return line\n",
    "\n",
    "def get_data(data_sources, sample_subset=0, seed=42):\n",
    "    data = {}\n",
    "    for source in data_sources:\n",
    "        source_path = dir_path + source\n",
    "        with open(source_path, \"r\") as f:\n",
    "            processed = [l for l in map(line_processor, f.readlines()) if l] # remove empty lines\n",
    "            data[source_path] = ListDataset(processed, sample_subset, seed)\n",
    "    return data\n",
    "\n",
    "# Classify emotions of texts in dictionary format of {source: [line1, line2, ...]}\n",
    "def classify_emotion(texts, pipe, debug=False):\n",
    "    results = []\n",
    "    for source, ds in texts.items():\n",
    "        print(f\"Processing {source}\")\n",
    "        if debug:\n",
    "            ds = ds[:100] # draw a few samples for debugging purposes\n",
    "        for i, scores in enumerate(tqdm(pipe(ds, truncation=True, padding=True))):\n",
    "            # store the metadata and classification scores in a list of dictionaries\n",
    "            results += [{\"source\": source, \"text\": ds[i], \"scores\": scores}]\n",
    "    return results\n",
    "\n",
    "# Build preprocessed data into a dataframe\n",
    "def build_results_df(results):\n",
    "    n_labels = len(results[0][\"scores\"])\n",
    "\n",
    "    df = pd.DataFrame(results)\n",
    "\n",
    "    # expanding the classification scores data structure from classifier output\n",
    "    scores_df = df[\"scores\"].apply(pd.Series)\n",
    "    result_dfs = []\n",
    "    for i in range(n_labels):\n",
    "        tmp = scores_df[i].apply(pd.Series).add_suffix(f\"_{i}\")\n",
    "        result_dfs.append(tmp)\n",
    "\n",
    "    result_dfs = pd.concat(result_dfs, axis=1)\n",
    "    df = pd.concat([df[[\"source\", \"text\"]], result_dfs], axis=1)\n",
    "    return df"
   ]
  },
  {
   "cell_type": "code",
   "execution_count": 4,
   "metadata": {},
   "outputs": [],
   "source": [
    "texts = get_data(data_sources, sample_subset=50000)"
   ]
  },
  {
   "cell_type": "code",
   "execution_count": 5,
   "metadata": {},
   "outputs": [
    {
     "name": "stdout",
     "output_type": "stream",
     "text": [
      "data/babylm_data/babylm_100M/aochildes.train: 50000\n",
      "data/babylm_data/babylm_100M/bnc_spoken.train: 50000\n",
      "data/babylm_data/babylm_100M/cbt.train: 50000\n",
      "data/babylm_data/babylm_100M/children_stories.train: 50000\n",
      "data/babylm_data/babylm_100M/gutenberg.train: 50000\n",
      "data/babylm_data/babylm_100M/open_subtitles.train: 50000\n",
      "data/babylm_data/babylm_100M/qed.train: 50000\n",
      "data/babylm_data/babylm_100M/simple_wikipedia.train: 50000\n",
      "data/babylm_data/babylm_100M/switchboard.train: 39645\n",
      "data/babylm_data/babylm_100M/wikipedia.train: 50000\n"
     ]
    }
   ],
   "source": [
    "for source, ds in texts.items():\n",
    "    print(f\"{source}: {len(ds)}\")"
   ]
  },
  {
   "cell_type": "code",
   "execution_count": 6,
   "metadata": {},
   "outputs": [],
   "source": [
    "# Select emotion classification model\n",
    "\n",
    "# Faster model, less emotions category with worse accuracy\n",
    "# pipe = pipeline(\n",
    "#     \"text-classification\", \n",
    "#     model=\"j-hartmann/emotion-english-distilroberta-base\", \n",
    "#     top_k=None,\n",
    "#     framework=\"pt\", # pytorch\n",
    "#     )\n",
    "\n",
    "# Larger model, more emotions category with better accuracy, slower inference\n",
    "# NOTE: This model oftens predict neutral emotion\n",
    "pipe = pipeline(\n",
    "    \"text-classification\", \n",
    "    model=\"SamLowe/roberta-base-go_emotions\", \n",
    "    top_k=None,\n",
    "    framework=\"pt\", # pytorch\n",
    "    device=\"mps\" # multi-precision support for M1/M2 mac\n",
    "    )"
   ]
  },
  {
   "cell_type": "code",
   "execution_count": 7,
   "metadata": {},
   "outputs": [
    {
     "name": "stdout",
     "output_type": "stream",
     "text": [
      "Processing data/babylm_data/babylm_100M/aochildes.train\n"
     ]
    },
    {
     "name": "stderr",
     "output_type": "stream",
     "text": [
      "100%|██████████| 50000/50000 [15:52<00:00, 52.52it/s] \n"
     ]
    },
    {
     "name": "stdout",
     "output_type": "stream",
     "text": [
      "Processing data/babylm_data/babylm_100M/bnc_spoken.train\n"
     ]
    },
    {
     "name": "stderr",
     "output_type": "stream",
     "text": [
      "100%|██████████| 50000/50000 [21:15<00:00, 39.20it/s]  \n"
     ]
    },
    {
     "name": "stdout",
     "output_type": "stream",
     "text": [
      "Processing data/babylm_data/babylm_100M/cbt.train\n"
     ]
    },
    {
     "name": "stderr",
     "output_type": "stream",
     "text": [
      "100%|██████████| 50000/50000 [15:24<00:00, 54.07it/s]\n"
     ]
    },
    {
     "name": "stdout",
     "output_type": "stream",
     "text": [
      "Processing data/babylm_data/babylm_100M/children_stories.train\n"
     ]
    },
    {
     "name": "stderr",
     "output_type": "stream",
     "text": [
      "100%|██████████| 50000/50000 [27:59<00:00, 29.77it/s]  \n"
     ]
    },
    {
     "name": "stdout",
     "output_type": "stream",
     "text": [
      "Processing data/babylm_data/babylm_100M/gutenberg.train\n"
     ]
    },
    {
     "name": "stderr",
     "output_type": "stream",
     "text": [
      "100%|██████████| 50000/50000 [14:22<00:00, 57.97it/s]\n"
     ]
    },
    {
     "name": "stdout",
     "output_type": "stream",
     "text": [
      "Processing data/babylm_data/babylm_100M/open_subtitles.train\n"
     ]
    },
    {
     "name": "stderr",
     "output_type": "stream",
     "text": [
      "100%|██████████| 50000/50000 [14:34<00:00, 57.17it/s]\n"
     ]
    },
    {
     "name": "stdout",
     "output_type": "stream",
     "text": [
      "Processing data/babylm_data/babylm_100M/qed.train\n"
     ]
    },
    {
     "name": "stderr",
     "output_type": "stream",
     "text": [
      "100%|██████████| 50000/50000 [15:44<00:00, 52.95it/s]  \n"
     ]
    },
    {
     "name": "stdout",
     "output_type": "stream",
     "text": [
      "Processing data/babylm_data/babylm_100M/simple_wikipedia.train\n"
     ]
    },
    {
     "name": "stderr",
     "output_type": "stream",
     "text": [
      "100%|██████████| 50000/50000 [17:54<00:00, 46.54it/s]\n"
     ]
    },
    {
     "name": "stdout",
     "output_type": "stream",
     "text": [
      "Processing data/babylm_data/babylm_100M/switchboard.train\n"
     ]
    },
    {
     "name": "stderr",
     "output_type": "stream",
     "text": [
      "100%|██████████| 39645/39645 [11:50<00:00, 55.81it/s]\n"
     ]
    },
    {
     "name": "stdout",
     "output_type": "stream",
     "text": [
      "Processing data/babylm_data/babylm_100M/wikipedia.train\n"
     ]
    },
    {
     "name": "stderr",
     "output_type": "stream",
     "text": [
      "100%|██████████| 50000/50000 [20:12<00:00, 41.24it/s]  \n"
     ]
    }
   ],
   "source": [
    "scores = classify_emotion(texts, pipe, debug=False)"
   ]
  },
  {
   "cell_type": "code",
   "execution_count": 8,
   "metadata": {},
   "outputs": [],
   "source": [
    "df = build_results_df(scores)"
   ]
  },
  {
   "cell_type": "code",
   "execution_count": 10,
   "metadata": {},
   "outputs": [
    {
     "data": {
      "text/plain": [
       "label_0\n",
       "neutral           373462\n",
       "curiosity          18573\n",
       "admiration         15225\n",
       "approval           12410\n",
       "sadness             8700\n",
       "confusion           8461\n",
       "disapproval         6658\n",
       "joy                 6037\n",
       "caring              4297\n",
       "disappointment      4039\n",
       "desire              3664\n",
       "optimism            3373\n",
       "love                3175\n",
       "amusement           2909\n",
       "fear                2898\n",
       "realization         2809\n",
       "surprise            2702\n",
       "annoyance           2414\n",
       "gratitude           2059\n",
       "excitement          1814\n",
       "anger               1346\n",
       "remorse             1276\n",
       "disgust              591\n",
       "nervousness          354\n",
       "embarrassment        324\n",
       "pride                 72\n",
       "relief                 3\n",
       "Name: count, dtype: int64"
      ]
     },
     "execution_count": 10,
     "metadata": {},
     "output_type": "execute_result"
    }
   ],
   "source": [
    "df[\"label_0\"].value_counts() # first label is the most confident one"
   ]
  },
  {
   "cell_type": "code",
   "execution_count": 42,
   "metadata": {},
   "outputs": [
    {
     "name": "stdout",
     "output_type": "stream",
     "text": [
      "Sample text for curiosity:\n",
      "[\"'But why will a guy from a respectable family marry a don's sister?'\"\n",
      " 'are you gonna be the man who tends the store?'\n",
      " 'And then name one radioactive metal which is made in a power station?']\n",
      "Sample text for confusion:\n",
      "[\"You either reject the null hypothesis or you don't reject the null hypothesis, okay?\"\n",
      " \"so when you found eggs at your grandma's house were they real eggs or were they plastic eggs?\"\n",
      " 'yeah what was he doing that he should not do there?']\n",
      "Sample text for neutral:\n",
      "['Brock had learned of the story from a major donor to GOPAC who connected him with Cliff Jackson, a longtime critic of Governor Clinton.'\n",
      " 'This is an Ayyappa Temple on the south side of the Valllicode.'\n",
      " 'Shrivelling is a natural phenomenon where an object, with an attached sub-elastic covering, has its interior volume reduced in some way. The covering, which cannot contract any further, is then obliged to wrinkle and buckle, in order to preserve surface area while containing the lesser volume.']\n",
      "Sample text for approval:\n",
      "[\"I think that's a good way for people to, you know, maybe get people to come back to these small towns to work by helping people that normally might not be able to go to college and get the type of degree they want.\"\n",
      " 'I had certainly done everything for her mind and character that could be done.'\n",
      " \"alright i'm gonna turn this off for now i think that's about a half an hour.\"]\n",
      "Sample text for disapproval:\n",
      "[\"and I don't think, uh, as far as gang violence and things, I don't think it's any worse here than in Houston.\"\n",
      " \"I feel very uncomfortable therefore, to sit in a room full of members, sitting here proposing to add five percent to the limit for members allowances, simply because we've been unable to control our own behaviour, and to come in within that, I think it's a very poor example, and it's an example that I'm not prepared to set.\"\n",
      " \"“There falls another star,” said he: “but what does it matter; there are always enough left. I should not much mind examining the little glimmering things somewhat nearer, especially the moon; for that would not slip so easily through a man's fingers. When we die so at least says the student, for whom my wife does the washing we shall fly about as light as a feather from one such a star to the other. That's, of course, not true: but 'twould be pretty enough if it were so. If I could but once take a leap up there, my body might stay here on the steps for what I care.”\"]\n",
      "Sample text for fear:\n",
      "['They threw their arms around each other and trembled at their own success, for as the legends of this wondrous gem rushed thick upon their memory they felt themselves marked out by fate, and the consciousness was fearful.'\n",
      " 'I thought it was exclusively terrible criminals that live in that part of the world.'\n",
      " '\"The eyes again!\" he cried, in an unearthly screech, and threw up his arms in horror.']\n",
      "Sample text for amusement:\n",
      "['amused rather than annoyed at his cool way of assuming that she would'\n",
      " '“I am laughing because, in preening my feathers, I tickled myself under the wings.”'\n",
      " 'and some green beans or some sugar snap peas or something like that would be fun?']\n",
      "Sample text for joy:\n",
      "['We went to this dinner party the other night that was kind of like a game,'\n",
      " 'For a few hours she tasted of happiness so rare and exquisite that she wondered if the angels in heaven did not envy her.'\n",
      " \"“It's a strange race, those poets!” said the clerk, who was very fond of soliloquizing. “I should like some day, just for a trial, to take such nature upon me, and be a poet myself; I am very sure I should make no such miserable verses as the others. Today, methinks, is a most delicious day for a poet. Nature seems anew to celebrate her awakening into life. The air is so unusually clear, the clouds sail on so buoyantly, and from the green herbage a fragrance is exhaled that fills me with delight. For many a year have I not felt as at this moment.”\"]\n",
      "Sample text for admiration:\n",
      "['\"\\'What an interesting way you have of relating a story,\\' said the carpet broom. \\'It is easy to perceive that you have been a great deal in society, something so pure runs through what you say.\\''\n",
      " \"she's a good ole worker and a good ole pal.\"\n",
      " \"He's a nice guy, he'll make a nice husband for someone who deserves him.\"]\n",
      "Sample text for excitement:\n",
      "['When they have something exciting to share with me, you know, the frog they found in the backyard— to be able to come and share that with me is a blessing.'\n",
      " 'weeks before thanksgiving the christmas decorations go up and the radio city christmas spectacular opens.'\n",
      " \"Okay, you guys, next year at this time, no matter where we are, no matter what we're doing, we have to get together and celebrate our complete world domination.\"]\n",
      "Sample text for surprise:\n",
      "['So saying, she sank down into the water again, leaving Charming greatly astonished at her politeness.'\n",
      " \"so i'm wondering we haven't seen ryan since before christmas time.\"\n",
      " 'dogs, and wonder whose soul is regarding me from out of their tired']\n",
      "Sample text for disappointment:\n",
      "[\"That's why I got a grant, but it's almost gone now.\"\n",
      " 'Well, the thing is, you know, jobs are so hard to find you know,'\n",
      " \"She helped Iceland qualify for the UEFA Women's Championship in 2009, however, her team lost all three group stage matches against Norway, France and Germany.\"]\n",
      "Sample text for nervousness:\n",
      "['I mean, I was nervous at first, but then they were like, \"Tell us your ideas.\"'\n",
      " 'fresh failure seems to bring more and more nervousness, until, from'\n",
      " '\"But what would you do, my dear boy?\" said the duke, pale with anxiety.']\n",
      "Sample text for love:\n",
      "[\"uh, actually one of our, one of our favorites is a chain. Shoney's.\"\n",
      " \"because we'd like the girl because we're getting too tired of changing boys not girls.\"\n",
      " \"He said he should hang one for his grandmother, and I thought that was so nice of him, I 'd love to surprise him with one all to himself.\"]\n",
      "Sample text for disgust:\n",
      "['I made her have surgery but that just made things worse.'\n",
      " 'None of his race had ever been respectable and he was worse than them all.'\n",
      " \"If you have a whole salami and you're trying to eat it in one go, that's going to make you feel pretty awful.\"]\n",
      "Sample text for anger:\n",
      "['Sure...would be better if your mother was here though you fucking sauerkraut eater!'\n",
      " 'probably also the other companions, become very angry and set a trap'\n",
      " '\"So shut up,\" he concluded sharply, and proceeded to deal with Captain']\n",
      "Sample text for optimism:\n",
      "['She believes her education gives certain guaranties and that she will get a good job when she graduates.'\n",
      " \"Yeah, I hope I die before I get old (Talkin' 'bout my generation)\"\n",
      " '“It is just as one takes it!” said the shadow. “It will do you much good to travel! Will you be my shadow? You shall have everything free on the journey!”']\n",
      "Sample text for caring:\n",
      "[\"if I could earn a place like this, I 'd sing all day and be an angel; but you have to take your chance, and get nothing for your pains, perhaps.\"\n",
      " 'But regardless of all that I am still your mother and I am not gonna give up on us.'\n",
      " \"he thought that little boy is cute i'm going to help him.\"]\n",
      "Sample text for sadness:\n",
      "['Nor was Rose Standish forgotten, the lovely young wife of Captain Miles Standish, whose death was caused by cold and lack of good food.'\n",
      " 'This so enraged the king that he became quite ill, and for many months his life was despaired of.'\n",
      " 'The A330 has had ten accidents: two hull-loss accidents (crashes where the plane cannot be fixed and cannot be used any more). There has been a total of 235 fatalities in the accidents.']\n",
      "Sample text for gratitude:\n",
      "[\"And Grania answered, 'It seemeth not well to me that, having so great wealth, we live removed from the world, and welcome to our home neither my father nor Finn, though with both are we now at peace.'\"\n",
      " \"This is the thanks you get for it -- turned out like a dog for his fine wife 's whim!\"\n",
      " 'Thanks Mark very much for joining in today for your assessment.']\n",
      "Sample text for desire:\n",
      "['\"Well, Midas,\" observed his visitor, \"I see that you have at length hit upon something that will satisfy you. Tell me your wish.\"'\n",
      " 'can i get a hug with two arms around my neck.'\n",
      " 'As he listened to this story, the young man was filled with a great longing to rescue the maiden from her dreadful fate.']\n",
      "Sample text for realization:\n",
      "[\"And I think here lately they've been saying quite often and maybe somebody's coming to realize we're the nation in trouble.\"\n",
      " \"and i forgot to say it's wu thursday morning the eleventh.\"\n",
      " \"They were like people who's oxygen supply been cut out but was there love supply and i realize that without love the soul cannot survive it dies and that's what this man were telling, they're souls have died.\"]\n",
      "Sample text for remorse:\n",
      "['I actually encourage my wife to spend money sometimes. Because I think, you know, um, I sort of feel guilty, you know, given that she makes twice as much as I do.'\n",
      " '\"Do not talk to me of my wife,\" said he with a heavy sigh.  \"She does not deserve your compassion. She knew I had no regard for her when we married. Well, married we were, and came down to Combe Magna to be happy, and afterwards returned to town to be gay. And now do you pity me, Miss Dashwood? or have I said all this to no purpose?  Am I be it only one degree am I less guilty in your opinion than I was before? My intentions were not always wrong.  Have I explained away any part of my guilt?\"'\n",
      " \"`` We 're sorry, Father -- truly, we are.\"]\n",
      "Sample text for annoyance:\n",
      "['I gotta paint myself white just to get me one of them fucking jobs!'\n",
      " \"It is n't proper to be gadding about so late with a rattlepated boy like... '' `` Hold your tongue, you disrespectful old bird! ''\"\n",
      " 'Congress, our laws are weakened at the Tories request, and recent announcements that the public funding of trade union education is to be stopped has even brought a c cry of outrage from the Health and Safety Executive.']\n",
      "Sample text for pride:\n",
      "[\"I was proud of my curls, but I sacrificed them all to you. ''\"\n",
      " \"We have had an on-going programme with young disabled and deaf people and I'm really proud of that programme\"\n",
      " \"we're so proud of you for only going pee pee in the pottie.\"]\n",
      "Sample text for embarrassment:\n",
      "['You are ashamed to go to the college with your aged father'\n",
      " \"To-day, now, she had the word ` cotton ' in a lesson and asked all about it, and I was ashamed to find I really knew so little that I could only say that it was a plant that grew down South in a kind of a pod, and was made into cloth.\"\n",
      " 'All the time he kept smiling and putting his tongue out in the most guilty, embarrassed manner, so that a child could have told that he was bent on some deception.']\n",
      "Sample text for relief:\n",
      "[\"and thank God we don't operate our budget, the way they operate theirs or we'd all be in, in dire trouble.\"\n",
      " \"there's that man going down there, now, see, thank god he's deaf\"\n",
      " 'Doubtless it was a great relief to walk disencumbered; and perhaps without that relief, and the consequent sense of liberty and lightness, I could not have walked at all.']\n"
     ]
    }
   ],
   "source": [
    "emotions = df[\"label_0\"].unique()\n",
    "for emotion in emotions:\n",
    "    print(f\"Sample text for {emotion}:\")\n",
    "    print(df.loc[df[\"label_0\"] == emotion, \"text\"].sample(3).values)"
   ]
  },
  {
   "cell_type": "code",
   "execution_count": 43,
   "metadata": {},
   "outputs": [],
   "source": [
    "df.to_csv(\"processed_data/babylm.csv\", index=False)"
   ]
  },
  {
   "cell_type": "code",
   "execution_count": 44,
   "metadata": {},
   "outputs": [
    {
     "name": "stderr",
     "output_type": "stream",
     "text": [
      "/Users/chantom/anaconda3/lib/python3.11/site-packages/pyarrow/pandas_compat.py:373: FutureWarning: is_sparse is deprecated and will be removed in a future version. Check `isinstance(dtype, pd.SparseDtype)` instead.\n",
      "  if _pandas_api.is_sparse(col):\n"
     ]
    }
   ],
   "source": [
    "df.to_parquet(\"processed_data/babylm.parquet\", index=False)"
   ]
  },
  {
   "cell_type": "code",
   "execution_count": null,
   "metadata": {},
   "outputs": [],
   "source": []
  }
 ],
 "metadata": {
  "kernelspec": {
   "display_name": "base",
   "language": "python",
   "name": "python3"
  },
  "language_info": {
   "codemirror_mode": {
    "name": "ipython",
    "version": 3
   },
   "file_extension": ".py",
   "mimetype": "text/x-python",
   "name": "python",
   "nbconvert_exporter": "python",
   "pygments_lexer": "ipython3",
   "version": "3.11.6"
  }
 },
 "nbformat": 4,
 "nbformat_minor": 2
}
