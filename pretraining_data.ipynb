{
 "cells": [
  {
   "cell_type": "code",
   "execution_count": 20,
   "metadata": {},
   "outputs": [],
   "source": [
    "import re\n",
    "import pickle\n",
    "\n",
    "import pandas as pd\n",
    "import numpy as np\n",
    "\n",
    "from torch.utils.data import Dataset\n",
    "from transformers import pipeline\n",
    "\n",
    "from tqdm import tqdm"
   ]
  },
  {
   "cell_type": "markdown",
   "metadata": {},
   "source": [
    "## Pipeline\n",
    "- get data\n",
    "- apply preprocessing\n",
    "- infer emotions\n",
    "- aggregate and save results"
   ]
  },
  {
   "cell_type": "code",
   "execution_count": 2,
   "metadata": {},
   "outputs": [],
   "source": [
    "dir_path = f\"data/babylm_data/babylm_100M/\"\n",
    "data_sources = [\n",
    "        \"aochildes.train\", \n",
    "        \"bnc_spoken.train\", \n",
    "        \"cbt.train\",\n",
    "        \"children_stories.train\",\n",
    "        \"gutenberg.train\",\n",
    "        \"open_subtitles.train\",\n",
    "        \"qed.train\",\n",
    "        \"simple_wikipedia.train\",\n",
    "        \"switchboard.train\",\n",
    "        \"wikipedia.train\"\n",
    "    ]"
   ]
  },
  {
   "cell_type": "code",
   "execution_count": 12,
   "metadata": {},
   "outputs": [],
   "source": [
    "class ListDataset(Dataset):\n",
    "    def __init__(self, original_list, sample_subset=0, seed=42):\n",
    "        if sample_subset and sample_subset < len(original_list):\n",
    "            np.random.seed(seed)\n",
    "            np.random.shuffle(original_list)\n",
    "            self.ds_list = original_list[:sample_subset]\n",
    "        else:\n",
    "            self.ds_list = original_list\n",
    "    def __len__(self):\n",
    "        return len(self.ds_list)\n",
    "\n",
    "    def __getitem__(self, i):\n",
    "        return self.ds_list[i]\n",
    "\n",
    "# Parse data and preprocessing\n",
    "# Feel free to add rules to filter lines\n",
    "def line_processor(line):\n",
    "    line = re.sub(\"[\\t\\n]\", \"\", line) # remove tabs and newlines\n",
    "    line = re.sub(r'\\s+([.,!?;:])', r'\\1', line) # remove spaces before punctuation\n",
    "    line = line.strip() # remove leading and trailing spaces\n",
    "    if len(line.split()) <= 10: # remove lines with less than 10 words\n",
    "        return None\n",
    "    return line\n",
    "\n",
    "def get_data(data_sources, sample_subset=0, seed=42):\n",
    "    data = {}\n",
    "    for source in data_sources:\n",
    "        source_path = dir_path + source\n",
    "        with open(source_path, \"r\") as f:\n",
    "            processed = [l for l in map(line_processor, f.readlines()) if l] # remove empty lines\n",
    "            processed = list(set(processed)) # remove duplicates\n",
    "            data[source_path] = ListDataset(processed, sample_subset, seed)\n",
    "    return data\n",
    "\n",
    "# Classify emotions of texts in dictionary format of {source: [line1, line2, ...]}\n",
    "def classify_emotion(texts, pipe):\n",
    "    results = []\n",
    "    for source, ds in texts.items():\n",
    "        print(f\"Processing {source}\")\n",
    "        for i, scores in enumerate(tqdm(pipe(ds, truncation=True, padding=True))):\n",
    "            # store the metadata and classification scores in a list of dictionaries\n",
    "            res_dict = {\"source\": source, \"text\": ds[i]}\n",
    "            # unnest the list of scores dictionary\n",
    "            res_dict.update({f'{k}_{i}': v for i, d in enumerate(scores) for k, v in d.items()})\n",
    "            results += [res_dict]\n",
    "    return results"
   ]
  },
  {
   "cell_type": "code",
   "execution_count": 13,
   "metadata": {},
   "outputs": [],
   "source": [
    "texts = get_data(data_sources, sample_subset=100)"
   ]
  },
  {
   "cell_type": "code",
   "execution_count": 14,
   "metadata": {},
   "outputs": [
    {
     "name": "stdout",
     "output_type": "stream",
     "text": [
      "data/babylm_data/babylm_100M/aochildes.train: 100\n",
      "data/babylm_data/babylm_100M/bnc_spoken.train: 100\n",
      "data/babylm_data/babylm_100M/cbt.train: 100\n",
      "data/babylm_data/babylm_100M/children_stories.train: 100\n",
      "data/babylm_data/babylm_100M/gutenberg.train: 100\n",
      "data/babylm_data/babylm_100M/open_subtitles.train: 100\n",
      "data/babylm_data/babylm_100M/qed.train: 100\n",
      "data/babylm_data/babylm_100M/simple_wikipedia.train: 100\n",
      "data/babylm_data/babylm_100M/switchboard.train: 100\n",
      "data/babylm_data/babylm_100M/wikipedia.train: 100\n"
     ]
    }
   ],
   "source": [
    "for source, ds in texts.items():\n",
    "    print(f\"{source}: {len(ds)}\")"
   ]
  },
  {
   "cell_type": "code",
   "execution_count": 15,
   "metadata": {},
   "outputs": [],
   "source": [
    "# Select emotion classification model\n",
    "\n",
    "# Faster model, less emotions category with worse accuracy\n",
    "# pipe = pipeline(\n",
    "#     \"text-classification\", \n",
    "#     model=\"j-hartmann/emotion-english-distilroberta-base\", \n",
    "#     top_k=None,\n",
    "#     framework=\"pt\", # pytorch\n",
    "#     )\n",
    "\n",
    "# Larger model, more emotions category with better accuracy, slower inference\n",
    "# NOTE: This model oftens predict neutral emotion\n",
    "pipe = pipeline(\n",
    "    \"text-classification\", \n",
    "    model=\"SamLowe/roberta-base-go_emotions\", \n",
    "    top_k=None,\n",
    "    framework=\"pt\", # pytorch\n",
    "    device=\"cpu\" # cpu / cuda / mps\n",
    "    )"
   ]
  },
  {
   "cell_type": "code",
   "execution_count": 16,
   "metadata": {},
   "outputs": [
    {
     "name": "stdout",
     "output_type": "stream",
     "text": [
      "Processing data/babylm_data/babylm_100M/aochildes.train\n"
     ]
    },
    {
     "name": "stderr",
     "output_type": "stream",
     "text": [
      "100%|██████████| 100/100 [00:03<00:00, 27.75it/s]\n"
     ]
    },
    {
     "name": "stdout",
     "output_type": "stream",
     "text": [
      "Processing data/babylm_data/babylm_100M/bnc_spoken.train\n"
     ]
    },
    {
     "name": "stderr",
     "output_type": "stream",
     "text": [
      "100%|██████████| 100/100 [00:03<00:00, 27.92it/s]\n"
     ]
    },
    {
     "name": "stdout",
     "output_type": "stream",
     "text": [
      "Processing data/babylm_data/babylm_100M/cbt.train\n"
     ]
    },
    {
     "name": "stderr",
     "output_type": "stream",
     "text": [
      "100%|██████████| 100/100 [00:03<00:00, 28.26it/s]\n"
     ]
    },
    {
     "name": "stdout",
     "output_type": "stream",
     "text": [
      "Processing data/babylm_data/babylm_100M/children_stories.train\n"
     ]
    },
    {
     "name": "stderr",
     "output_type": "stream",
     "text": [
      "100%|██████████| 100/100 [00:04<00:00, 21.33it/s]\n"
     ]
    },
    {
     "name": "stdout",
     "output_type": "stream",
     "text": [
      "Processing data/babylm_data/babylm_100M/gutenberg.train\n"
     ]
    },
    {
     "name": "stderr",
     "output_type": "stream",
     "text": [
      "100%|██████████| 100/100 [00:03<00:00, 26.10it/s]\n"
     ]
    },
    {
     "name": "stdout",
     "output_type": "stream",
     "text": [
      "Processing data/babylm_data/babylm_100M/open_subtitles.train\n"
     ]
    },
    {
     "name": "stderr",
     "output_type": "stream",
     "text": [
      "100%|██████████| 100/100 [00:03<00:00, 26.20it/s]\n"
     ]
    },
    {
     "name": "stdout",
     "output_type": "stream",
     "text": [
      "Processing data/babylm_data/babylm_100M/qed.train\n"
     ]
    },
    {
     "name": "stderr",
     "output_type": "stream",
     "text": [
      "100%|██████████| 100/100 [00:03<00:00, 26.12it/s]\n"
     ]
    },
    {
     "name": "stdout",
     "output_type": "stream",
     "text": [
      "Processing data/babylm_data/babylm_100M/simple_wikipedia.train\n"
     ]
    },
    {
     "name": "stderr",
     "output_type": "stream",
     "text": [
      "100%|██████████| 100/100 [00:04<00:00, 22.47it/s]\n"
     ]
    },
    {
     "name": "stdout",
     "output_type": "stream",
     "text": [
      "Processing data/babylm_data/babylm_100M/switchboard.train\n"
     ]
    },
    {
     "name": "stderr",
     "output_type": "stream",
     "text": [
      "100%|██████████| 100/100 [00:03<00:00, 26.45it/s]\n"
     ]
    },
    {
     "name": "stdout",
     "output_type": "stream",
     "text": [
      "Processing data/babylm_data/babylm_100M/wikipedia.train\n"
     ]
    },
    {
     "name": "stderr",
     "output_type": "stream",
     "text": [
      "100%|██████████| 100/100 [00:05<00:00, 18.91it/s]\n"
     ]
    }
   ],
   "source": [
    "scores = classify_emotion(texts, pipe)"
   ]
  },
  {
   "cell_type": "code",
   "execution_count": 21,
   "metadata": {},
   "outputs": [],
   "source": [
    "pickle.dump(scores, open(\"processed_data/babylm.pkl\", \"wb\"))"
   ]
  },
  {
   "cell_type": "code",
   "execution_count": 15,
   "metadata": {},
   "outputs": [],
   "source": [
    "# Alternatively, create a dataframe and save to csv or parquet\n",
    "# df = pd.DataFrame(scores)\n",
    "# df.to_csv(\"processed_data/babylm.csv\", index=False)\n",
    "# df.to_parquet(\"processed_data/babylm.parquet\", index=False)"
   ]
  },
  {
   "cell_type": "markdown",
   "metadata": {},
   "source": [
    "## Further filter emotion labels"
   ]
  },
  {
   "cell_type": "code",
   "execution_count": 24,
   "metadata": {},
   "outputs": [],
   "source": [
    "scores = pickle.load(open(\"processed_data/babylm.pkl\", \"rb\"))\n",
    "df = pd.DataFrame(scores)"
   ]
  },
  {
   "cell_type": "code",
   "execution_count": 25,
   "metadata": {},
   "outputs": [
    {
     "data": {
      "text/plain": [
       "{'admiration',\n",
       " 'amusement',\n",
       " 'anger',\n",
       " 'annoyance',\n",
       " 'approval',\n",
       " 'caring',\n",
       " 'confusion',\n",
       " 'curiosity',\n",
       " 'desire',\n",
       " 'disappointment',\n",
       " 'disapproval',\n",
       " 'disgust',\n",
       " 'embarrassment',\n",
       " 'excitement',\n",
       " 'fear',\n",
       " 'gratitude',\n",
       " 'grief',\n",
       " 'joy',\n",
       " 'love',\n",
       " 'nervousness',\n",
       " 'neutral',\n",
       " 'optimism',\n",
       " 'pride',\n",
       " 'realization',\n",
       " 'relief',\n",
       " 'remorse',\n",
       " 'sadness',\n",
       " 'surprise'}"
      ]
     },
     "execution_count": 25,
     "metadata": {},
     "output_type": "execute_result"
    }
   ],
   "source": [
    "set(df.iloc[0].filter(regex=\"^label_\").values) # all possible emotions"
   ]
  },
  {
   "cell_type": "code",
   "execution_count": 26,
   "metadata": {},
   "outputs": [],
   "source": [
    "def filter_emotion(df, threshold=0.5):\n",
    "    filtered_df = df.copy()\n",
    "    scores_df = df.filter(regex=\"^score_\")\n",
    "    labels_df = df.filter(regex=\"^label_\")\n",
    "    # retrieve confident label(s) with scores >= threshold\n",
    "    labels = labels_df.where((scores_df >= threshold).values).values\n",
    "    # remove nans\n",
    "    labels = [tuple(set(l[~pd.isnull(l)]))for l in labels]\n",
    "    filtered_df[\"filtered_labels\"] = labels\n",
    "    filtered_df[\"num_labels\"] = [len(l) for l in labels]\n",
    "    return filtered_df\n",
    "\n",
    "filtered_df = filter_emotion(df)"
   ]
  },
  {
   "cell_type": "code",
   "execution_count": 27,
   "metadata": {},
   "outputs": [
    {
     "data": {
      "text/plain": [
       "filtered_labels\n",
       "(neutral,)                689\n",
       "()                        114\n",
       "(curiosity,)               23\n",
       "(approval,)                20\n",
       "(sadness,)                 19\n",
       "(admiration,)              19\n",
       "(confusion,)               13\n",
       "(joy,)                     10\n",
       "(disapproval,)              9\n",
       "(fear,)                     9\n",
       "(realization,)              8\n",
       "(desire,)                   8\n",
       "(gratitude,)                7\n",
       "(optimism,)                 7\n",
       "(caring,)                   6\n",
       "(surprise,)                 4\n",
       "(annoyance,)                4\n",
       "(amusement,)                4\n",
       "(neutral, disapproval)      3\n",
       "(disgust,)                  3\n",
       "(love,)                     3\n",
       "(disappointment,)           3\n",
       "(neutral, curiosity)        2\n",
       "(remorse,)                  2\n",
       "(neutral, confusion)        2\n",
       "(sadness, neutral)          2\n",
       "(neutral, approval)         1\n",
       "(curiosity, confusion)      1\n",
       "(sadness, remorse)          1\n",
       "(anger,)                    1\n",
       "(excitement,)               1\n",
       "(realization, neutral)      1\n",
       "(amusement, joy)            1\n",
       "Name: count, dtype: int64"
      ]
     },
     "execution_count": 27,
     "metadata": {},
     "output_type": "execute_result"
    }
   ],
   "source": [
    "emotion_freq = filtered_df.filtered_labels.value_counts()\n",
    "emotion_freq.head(40) # label statistics"
   ]
  },
  {
   "cell_type": "code",
   "execution_count": 28,
   "metadata": {},
   "outputs": [
    {
     "data": {
      "text/plain": [
       "197"
      ]
     },
     "execution_count": 28,
     "metadata": {},
     "output_type": "execute_result"
    }
   ],
   "source": [
    "emotion_freq.iloc[2:].sum()"
   ]
  },
  {
   "cell_type": "code",
   "execution_count": 29,
   "metadata": {},
   "outputs": [
    {
     "data": {
      "text/plain": [
       "num_labels\n",
       "1    872\n",
       "0    114\n",
       "2     14\n",
       "Name: count, dtype: int64"
      ]
     },
     "execution_count": 29,
     "metadata": {},
     "output_type": "execute_result"
    }
   ],
   "source": [
    "filtered_df.num_labels.value_counts() # number of labels per text"
   ]
  },
  {
   "cell_type": "code",
   "execution_count": 30,
   "metadata": {},
   "outputs": [
    {
     "data": {
      "text/plain": [
       "source                                               filtered_labels\n",
       "data/babylm_data/babylm_100M/aochildes.train         (confusion,)       6\n",
       "                                                     (curiosity,)       5\n",
       "                                                     (admiration,)      2\n",
       "                                                     (approval,)        2\n",
       "                                                     (desire,)          2\n",
       "data/babylm_data/babylm_100M/bnc_spoken.train        (curiosity,)       4\n",
       "                                                     (disapproval,)     3\n",
       "                                                     (fear,)            3\n",
       "                                                     (gratitude,)       3\n",
       "                                                     (admiration,)      2\n",
       "data/babylm_data/babylm_100M/cbt.train               (admiration,)      6\n",
       "                                                     (sadness,)         4\n",
       "                                                     (curiosity,)       3\n",
       "                                                     (amusement,)       2\n",
       "                                                     (approval,)        2\n",
       "data/babylm_data/babylm_100M/children_stories.train  (fear,)            3\n",
       "                                                     (caring,)          2\n",
       "                                                     (desire,)          2\n",
       "                                                     (joy,)             2\n",
       "                                                     (sadness,)         2\n",
       "data/babylm_data/babylm_100M/gutenberg.train         (sadness,)         3\n",
       "                                                     (joy,)             2\n",
       "                                                     (admiration,)      1\n",
       "                                                     (annoyance,)       1\n",
       "                                                     (confusion,)       1\n",
       "data/babylm_data/babylm_100M/open_subtitles.train    (curiosity,)       4\n",
       "                                                     (desire,)          2\n",
       "                                                     (optimism,)        2\n",
       "                                                     (sadness,)         2\n",
       "                                                     (anger,)           1\n",
       "data/babylm_data/babylm_100M/qed.train               (approval,)        5\n",
       "                                                     (curiosity,)       5\n",
       "                                                     (confusion,)       3\n",
       "                                                     (realization,)     2\n",
       "                                                     (sadness,)         2\n",
       "data/babylm_data/babylm_100M/simple_wikipedia.train  (sadness,)         4\n",
       "                                                     (admiration,)      2\n",
       "                                                     (caring,)          1\n",
       "                                                     (gratitude,)       1\n",
       "data/babylm_data/babylm_100M/switchboard.train       (approval,)        8\n",
       "                                                     (disapproval,)     3\n",
       "                                                     (realization,)     3\n",
       "                                                     (admiration,)      2\n",
       "                                                     (optimism,)        2\n",
       "data/babylm_data/babylm_100M/wikipedia.train         (admiration,)      2\n",
       "                                                     (approval,)        1\n",
       "                                                     (sadness,)         1\n",
       "Name: count, dtype: int64"
      ]
     },
     "execution_count": 30,
     "metadata": {},
     "output_type": "execute_result"
    }
   ],
   "source": [
    "# drop if neutral or no emotion\n",
    "tmp_df = filtered_df[~filtered_df.filtered_labels.apply(lambda x: \"neutral\" in x or not x)]\n",
    "tmp_df.groupby(\"source\").filtered_labels.value_counts().groupby(level=0).head(5)"
   ]
  },
  {
   "cell_type": "code",
   "execution_count": 35,
   "metadata": {},
   "outputs": [
    {
     "data": {
      "text/plain": [
       "array([\"So, we have erm, underlying confidence in the long term future of Alton Towers, I think that's very important to state.\",\n",
       "       \"I hope you wo n't catch the measles, for they are not nice, especially when they strike in, but you would look all right, even if you did have red spots on your face.\",\n",
       "       'therefore, that the medical profession has long been hoping that a',\n",
       "       'You know, you have a chance to have a real future here.',\n",
       "       \"I can see that posterity will triumph... in that day's transaction.\"],\n",
       "      dtype=object)"
      ]
     },
     "execution_count": 35,
     "metadata": {},
     "output_type": "execute_result"
    }
   ],
   "source": [
    "# get samples with specific label\n",
    "emo = \"optimism\"\n",
    "filtered_df.loc[filtered_df.filtered_labels.apply(lambda x: emo in x), \"text\"].head().values"
   ]
  },
  {
   "cell_type": "code",
   "execution_count": null,
   "metadata": {},
   "outputs": [],
   "source": []
  }
 ],
 "metadata": {
  "kernelspec": {
   "display_name": "base",
   "language": "python",
   "name": "python3"
  },
  "language_info": {
   "codemirror_mode": {
    "name": "ipython",
    "version": 3
   },
   "file_extension": ".py",
   "mimetype": "text/x-python",
   "name": "python",
   "nbconvert_exporter": "python",
   "pygments_lexer": "ipython3",
   "version": "3.11.8"
  }
 },
 "nbformat": 4,
 "nbformat_minor": 2
}
