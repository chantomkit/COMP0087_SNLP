{
 "cells": [
  {
   "cell_type": "code",
   "execution_count": 1,
   "metadata": {},
   "outputs": [],
   "source": [
    "import re\n",
    "\n",
    "import pandas as pd\n",
    "import numpy as np\n",
    "\n",
    "from torch.utils.data import Dataset\n",
    "from transformers import pipeline\n",
    "\n",
    "from tqdm import tqdm"
   ]
  },
  {
   "cell_type": "markdown",
   "metadata": {},
   "source": [
    "## Pipeline\n",
    "- get data\n",
    "- apply preprocessing\n",
    "- infer emotions\n",
    "- aggregate and save results"
   ]
  },
  {
   "cell_type": "code",
   "execution_count": 6,
   "metadata": {},
   "outputs": [],
   "source": [
    "dir_path = f\"data/babylm_data/babylm_100M/\"\n",
    "data_sources = [\n",
    "        \"aochildes.train\", \n",
    "        \"bnc_spoken.train\", \n",
    "        \"cbt.train\",\n",
    "        \"children_stories.train\",\n",
    "        \"gutenberg.train\",\n",
    "        \"open_subtitles.train\",\n",
    "        \"qed.train\",\n",
    "        \"simple_wikipedia.train\",\n",
    "        \"switchboard.train\",\n",
    "        \"wikipedia.train\"\n",
    "    ]"
   ]
  },
  {
   "cell_type": "code",
   "execution_count": 7,
   "metadata": {},
   "outputs": [],
   "source": [
    "class ListDataset(Dataset):\n",
    "    def __init__(self, original_list, sample_subset=0, seed=42):\n",
    "        if sample_subset and sample_subset < len(original_list):\n",
    "            np.random.seed(seed)\n",
    "            np.random.shuffle(original_list)\n",
    "            self.ds_list = original_list[:sample_subset]\n",
    "        else:\n",
    "            self.ds_list = original_list\n",
    "    def __len__(self):\n",
    "        return len(self.ds_list)\n",
    "\n",
    "    def __getitem__(self, i):\n",
    "        return self.ds_list[i]\n",
    "\n",
    "# Parse data and preprocessing\n",
    "# Feel free to add rules to filter lines\n",
    "def line_processor(line):\n",
    "    line = re.sub(\"[\\t\\n]\", \"\", line) # remove tabs and newlines\n",
    "    line = re.sub(r'\\s+([.,!?;:])', r'\\1', line) # remove spaces before punctuation\n",
    "    line = line.strip() # remove leading and trailing spaces\n",
    "    if len(line.split()) <= 10: # remove lines with less than 10 words\n",
    "        return None\n",
    "    return line\n",
    "\n",
    "def get_data(data_sources, sample_subset=0, seed=42):\n",
    "    data = {}\n",
    "    for source in data_sources:\n",
    "        source_path = dir_path + source\n",
    "        with open(source_path, \"r\") as f:\n",
    "            processed = [l for l in map(line_processor, f.readlines()) if l] # remove empty lines\n",
    "            processed = list(set(processed)) # remove duplicates\n",
    "            data[source_path] = ListDataset(processed, sample_subset, seed)\n",
    "    return data\n",
    "\n",
    "# Classify emotions of texts in dictionary format of {source: [line1, line2, ...]}\n",
    "def classify_emotion(texts, pipe, debug=False):\n",
    "    results = []\n",
    "    for source, ds in texts.items():\n",
    "        print(f\"Processing {source}\")\n",
    "        if debug:\n",
    "            ds = ds[:100] # draw a few samples for debugging purposes\n",
    "        for i, scores in enumerate(tqdm(pipe(ds, truncation=True, padding=True))):\n",
    "            # store the metadata and classification scores in a list of dictionaries\n",
    "            results += [{\"source\": source, \"text\": ds[i], \"scores\": scores}]\n",
    "    return results\n",
    "\n",
    "# Build preprocessed data into a dataframe\n",
    "def build_results_df(results):\n",
    "    n_labels = len(results[0][\"scores\"])\n",
    "\n",
    "    df = pd.DataFrame(results)\n",
    "\n",
    "    # expanding the classification scores data structure from classifier output\n",
    "    scores_df = df[\"scores\"].apply(pd.Series)\n",
    "    result_dfs = []\n",
    "    for i in range(n_labels):\n",
    "        tmp = scores_df[i].apply(pd.Series).add_suffix(f\"_{i}\")\n",
    "        result_dfs.append(tmp)\n",
    "\n",
    "    result_dfs = pd.concat(result_dfs, axis=1)\n",
    "    df = pd.concat([df[[\"source\", \"text\"]], result_dfs], axis=1)\n",
    "    return df"
   ]
  },
  {
   "cell_type": "code",
   "execution_count": 8,
   "metadata": {},
   "outputs": [],
   "source": [
    "texts = get_data(data_sources, sample_subset=50000)"
   ]
  },
  {
   "cell_type": "code",
   "execution_count": 9,
   "metadata": {},
   "outputs": [
    {
     "name": "stdout",
     "output_type": "stream",
     "text": [
      "data/babylm_data/babylm_100M/aochildes.train: 42420\n",
      "data/babylm_data/babylm_100M/bnc_spoken.train: 50000\n",
      "data/babylm_data/babylm_100M/cbt.train: 50000\n",
      "data/babylm_data/babylm_100M/children_stories.train: 50000\n",
      "data/babylm_data/babylm_100M/gutenberg.train: 50000\n",
      "data/babylm_data/babylm_100M/open_subtitles.train: 50000\n",
      "data/babylm_data/babylm_100M/qed.train: 50000\n",
      "data/babylm_data/babylm_100M/simple_wikipedia.train: 50000\n",
      "data/babylm_data/babylm_100M/switchboard.train: 39608\n",
      "data/babylm_data/babylm_100M/wikipedia.train: 50000\n"
     ]
    }
   ],
   "source": [
    "for source, ds in texts.items():\n",
    "    print(f\"{source}: {len(ds)}\")"
   ]
  },
  {
   "cell_type": "code",
   "execution_count": 10,
   "metadata": {},
   "outputs": [],
   "source": [
    "# Select emotion classification model\n",
    "\n",
    "# Faster model, less emotions category with worse accuracy\n",
    "# pipe = pipeline(\n",
    "#     \"text-classification\", \n",
    "#     model=\"j-hartmann/emotion-english-distilroberta-base\", \n",
    "#     top_k=None,\n",
    "#     framework=\"pt\", # pytorch\n",
    "#     )\n",
    "\n",
    "# Larger model, more emotions category with better accuracy, slower inference\n",
    "# NOTE: This model oftens predict neutral emotion\n",
    "pipe = pipeline(\n",
    "    \"text-classification\", \n",
    "    model=\"SamLowe/roberta-base-go_emotions\", \n",
    "    top_k=None,\n",
    "    framework=\"pt\", # pytorch\n",
    "    device=\"mps\" # multi-precision support for M1/M2 mac\n",
    "    )"
   ]
  },
  {
   "cell_type": "code",
   "execution_count": 11,
   "metadata": {},
   "outputs": [
    {
     "name": "stdout",
     "output_type": "stream",
     "text": [
      "Processing data/babylm_data/babylm_100M/aochildes.train\n"
     ]
    },
    {
     "name": "stderr",
     "output_type": "stream",
     "text": [
      "100%|██████████| 42420/42420 [13:42<00:00, 51.59it/s] \n"
     ]
    },
    {
     "name": "stdout",
     "output_type": "stream",
     "text": [
      "Processing data/babylm_data/babylm_100M/bnc_spoken.train\n"
     ]
    },
    {
     "name": "stderr",
     "output_type": "stream",
     "text": [
      "100%|██████████| 50000/50000 [21:09<00:00, 39.40it/s]  \n"
     ]
    },
    {
     "name": "stdout",
     "output_type": "stream",
     "text": [
      "Processing data/babylm_data/babylm_100M/cbt.train\n"
     ]
    },
    {
     "name": "stderr",
     "output_type": "stream",
     "text": [
      "100%|██████████| 50000/50000 [16:01<00:00, 52.01it/s]  \n"
     ]
    },
    {
     "name": "stdout",
     "output_type": "stream",
     "text": [
      "Processing data/babylm_data/babylm_100M/children_stories.train\n"
     ]
    },
    {
     "name": "stderr",
     "output_type": "stream",
     "text": [
      "100%|██████████| 50000/50000 [29:16<00:00, 28.47it/s]  \n"
     ]
    },
    {
     "name": "stdout",
     "output_type": "stream",
     "text": [
      "Processing data/babylm_data/babylm_100M/gutenberg.train\n"
     ]
    },
    {
     "name": "stderr",
     "output_type": "stream",
     "text": [
      "100%|██████████| 50000/50000 [14:19<00:00, 58.19it/s]\n"
     ]
    },
    {
     "name": "stdout",
     "output_type": "stream",
     "text": [
      "Processing data/babylm_data/babylm_100M/open_subtitles.train\n"
     ]
    },
    {
     "name": "stderr",
     "output_type": "stream",
     "text": [
      "100%|██████████| 50000/50000 [14:39<00:00, 56.86it/s] \n"
     ]
    },
    {
     "name": "stdout",
     "output_type": "stream",
     "text": [
      "Processing data/babylm_data/babylm_100M/qed.train\n"
     ]
    },
    {
     "name": "stderr",
     "output_type": "stream",
     "text": [
      "100%|██████████| 50000/50000 [15:03<00:00, 55.32it/s]\n"
     ]
    },
    {
     "name": "stdout",
     "output_type": "stream",
     "text": [
      "Processing data/babylm_data/babylm_100M/simple_wikipedia.train\n"
     ]
    },
    {
     "name": "stderr",
     "output_type": "stream",
     "text": [
      "100%|██████████| 50000/50000 [17:46<00:00, 46.90it/s]  \n"
     ]
    },
    {
     "name": "stdout",
     "output_type": "stream",
     "text": [
      "Processing data/babylm_data/babylm_100M/switchboard.train\n"
     ]
    },
    {
     "name": "stderr",
     "output_type": "stream",
     "text": [
      "100%|██████████| 39608/39608 [11:54<00:00, 55.42it/s]\n"
     ]
    },
    {
     "name": "stdout",
     "output_type": "stream",
     "text": [
      "Processing data/babylm_data/babylm_100M/wikipedia.train\n"
     ]
    },
    {
     "name": "stderr",
     "output_type": "stream",
     "text": [
      "100%|██████████| 50000/50000 [20:37<00:00, 40.40it/s]  \n"
     ]
    }
   ],
   "source": [
    "scores = classify_emotion(texts, pipe, debug=False)"
   ]
  },
  {
   "cell_type": "code",
   "execution_count": 12,
   "metadata": {},
   "outputs": [],
   "source": [
    "df = build_results_df(scores)"
   ]
  },
  {
   "cell_type": "code",
   "execution_count": 15,
   "metadata": {},
   "outputs": [],
   "source": [
    "df.to_csv(\"processed_data/babylm.csv\", index=False)"
   ]
  },
  {
   "cell_type": "code",
   "execution_count": 16,
   "metadata": {},
   "outputs": [
    {
     "name": "stderr",
     "output_type": "stream",
     "text": [
      "/Users/chantom/anaconda3/lib/python3.11/site-packages/pyarrow/pandas_compat.py:373: FutureWarning: is_sparse is deprecated and will be removed in a future version. Check `isinstance(dtype, pd.SparseDtype)` instead.\n",
      "  if _pandas_api.is_sparse(col):\n"
     ]
    }
   ],
   "source": [
    "df.to_parquet(\"processed_data/babylm.parquet\", index=False)"
   ]
  },
  {
   "cell_type": "markdown",
   "metadata": {},
   "source": [
    "## Further filter emotion labels"
   ]
  },
  {
   "cell_type": "code",
   "execution_count": 2,
   "metadata": {},
   "outputs": [],
   "source": [
    "df = pd.read_parquet(\"processed_data/babylm.parquet\")"
   ]
  },
  {
   "cell_type": "code",
   "execution_count": 114,
   "metadata": {},
   "outputs": [
    {
     "data": {
      "text/plain": [
       "{'admiration',\n",
       " 'amusement',\n",
       " 'anger',\n",
       " 'annoyance',\n",
       " 'approval',\n",
       " 'caring',\n",
       " 'confusion',\n",
       " 'curiosity',\n",
       " 'desire',\n",
       " 'disappointment',\n",
       " 'disapproval',\n",
       " 'disgust',\n",
       " 'embarrassment',\n",
       " 'excitement',\n",
       " 'fear',\n",
       " 'gratitude',\n",
       " 'grief',\n",
       " 'joy',\n",
       " 'love',\n",
       " 'nervousness',\n",
       " 'neutral',\n",
       " 'optimism',\n",
       " 'pride',\n",
       " 'realization',\n",
       " 'relief',\n",
       " 'remorse',\n",
       " 'sadness',\n",
       " 'surprise'}"
      ]
     },
     "execution_count": 114,
     "metadata": {},
     "output_type": "execute_result"
    }
   ],
   "source": [
    "set(df.iloc[0].filter(regex=\"^label_\").values) # all possible emotions"
   ]
  },
  {
   "cell_type": "code",
   "execution_count": 123,
   "metadata": {},
   "outputs": [],
   "source": [
    "def filter_emotion(df, threshold=0.5):\n",
    "    filtered_df = df.copy()\n",
    "    scores_df = df.filter(regex=\"^score_\")\n",
    "    labels_df = df.filter(regex=\"^label_\")\n",
    "    # retrieve confident label(s) with scores >= threshold\n",
    "    labels = labels_df.where((scores_df >= threshold).values).values\n",
    "    # remove nans\n",
    "    labels = [tuple(set(l[~pd.isnull(l)]))for l in labels]\n",
    "    filtered_df[\"filtered_labels\"] = labels\n",
    "    filtered_df[\"num_labels\"] = [len(l) for l in labels]\n",
    "    return filtered_df\n",
    "\n",
    "filtered_df = filter_emotion(df)"
   ]
  },
  {
   "cell_type": "code",
   "execution_count": 124,
   "metadata": {},
   "outputs": [
    {
     "data": {
      "text/plain": [
       "filtered_labels\n",
       "(neutral,)                339181\n",
       "()                         55195\n",
       "(curiosity,)               13031\n",
       "(admiration,)              12284\n",
       "(approval,)                 7412\n",
       "(sadness,)                  6690\n",
       "(confusion,)                5977\n",
       "(disapproval,)              4721\n",
       "(joy,)                      4260\n",
       "(caring,)                   3149\n",
       "(desire,)                   2783\n",
       "(love,)                     2563\n",
       "(optimism,)                 2539\n",
       "(fear,)                     2368\n",
       "(amusement,)                2236\n",
       "(disappointment,)           2211\n",
       "(surprise,)                 1925\n",
       "(realization,)              1917\n",
       "(gratitude,)                1812\n",
       "(remorse,)                  1073\n",
       "(annoyance,)                 926\n",
       "(anger,)                     826\n",
       "(neutral, curiosity)         821\n",
       "(excitement,)                820\n",
       "(neutral, sadness)           600\n",
       "(neutral, disapproval)       365\n",
       "(disapproval, neutral)       365\n",
       "(confusion, neutral)         346\n",
       "(disgust,)                   334\n",
       "(neutral, confusion)         300\n",
       "(neutral, approval)          267\n",
       "(neutral, realization)       242\n",
       "(approval, neutral)          239\n",
       "(embarrassment,)             235\n",
       "(neutral, admiration)        172\n",
       "(joy, amusement)             160\n",
       "(approval, admiration)       121\n",
       "(confusion, curiosity)       112\n",
       "(admiration, love)           106\n",
       "(neutral, caring)            101\n",
       "Name: count, dtype: int64"
      ]
     },
     "execution_count": 124,
     "metadata": {},
     "output_type": "execute_result"
    }
   ],
   "source": [
    "emotion_freq = filtered_df.filtered_labels.value_counts()\n",
    "emotion_freq.head(40) # label statistics"
   ]
  },
  {
   "cell_type": "code",
   "execution_count": 125,
   "metadata": {},
   "outputs": [
    {
     "data": {
      "text/plain": [
       "87652"
      ]
     },
     "execution_count": 125,
     "metadata": {},
     "output_type": "execute_result"
    }
   ],
   "source": [
    "emotion_freq.iloc[2:].sum()"
   ]
  },
  {
   "cell_type": "code",
   "execution_count": 126,
   "metadata": {},
   "outputs": [
    {
     "data": {
      "text/plain": [
       "num_labels\n",
       "1    421357\n",
       "0     55195\n",
       "2      5473\n",
       "3         3\n",
       "Name: count, dtype: int64"
      ]
     },
     "execution_count": 126,
     "metadata": {},
     "output_type": "execute_result"
    }
   ],
   "source": [
    "filtered_df.num_labels.value_counts() # number of labels per text"
   ]
  },
  {
   "cell_type": "code",
   "execution_count": 132,
   "metadata": {},
   "outputs": [
    {
     "data": {
      "text/plain": [
       "source                                               filtered_labels  \n",
       "data/babylm_data/babylm_100M/aochildes.train         (curiosity,)         4910\n",
       "                                                     (confusion,)         1272\n",
       "                                                     (admiration,)         728\n",
       "                                                     (disapproval,)        619\n",
       "                                                     (approval,)           468\n",
       "data/babylm_data/babylm_100M/bnc_spoken.train        (curiosity,)         1958\n",
       "                                                     (approval,)          1625\n",
       "                                                     (confusion,)         1370\n",
       "                                                     (disapproval,)        961\n",
       "                                                     (admiration,)         881\n",
       "data/babylm_data/babylm_100M/cbt.train               (admiration,)        2140\n",
       "                                                     (sadness,)           1223\n",
       "                                                     (joy,)               1213\n",
       "                                                     (curiosity,)          620\n",
       "                                                     (fear,)               604\n",
       "data/babylm_data/babylm_100M/children_stories.train  (admiration,)        1877\n",
       "                                                     (sadness,)           1186\n",
       "                                                     (joy,)                962\n",
       "                                                     (curiosity,)          677\n",
       "                                                     (fear,)               579\n",
       "data/babylm_data/babylm_100M/gutenberg.train         (admiration,)        1488\n",
       "                                                     (sadness,)            591\n",
       "                                                     (approval,)           581\n",
       "                                                     (joy,)                439\n",
       "                                                     (curiosity,)          276\n",
       "data/babylm_data/babylm_100M/open_subtitles.train    (curiosity,)         2326\n",
       "                                                     (admiration,)        1400\n",
       "                                                     (approval,)          1019\n",
       "                                                     (disapproval,)        775\n",
       "                                                     (sadness,)            765\n",
       "data/babylm_data/babylm_100M/qed.train               (approval,)          1369\n",
       "                                                     (curiosity,)         1310\n",
       "                                                     (admiration,)        1254\n",
       "                                                     (confusion,)          553\n",
       "                                                     (disapproval,)        550\n",
       "data/babylm_data/babylm_100M/simple_wikipedia.train  (sadness,)           1582\n",
       "                                                     (admiration,)         847\n",
       "                                                     (disappointment,)     163\n",
       "                                                     (approval,)           106\n",
       "                                                     (confusion,)           92\n",
       "data/babylm_data/babylm_100M/switchboard.train       (approval,)          1199\n",
       "                                                     (confusion,)         1099\n",
       "                                                     (admiration,)         987\n",
       "                                                     (curiosity,)          942\n",
       "                                                     (disapproval,)        940\n",
       "data/babylm_data/babylm_100M/wikipedia.train         (admiration,)         682\n",
       "                                                     (disappointment,)     351\n",
       "                                                     (sadness,)            317\n",
       "                                                     (confusion,)           90\n",
       "                                                     (approval,)            74\n",
       "Name: count, dtype: int64"
      ]
     },
     "execution_count": 132,
     "metadata": {},
     "output_type": "execute_result"
    }
   ],
   "source": [
    "# drop if neutral or no emotion\n",
    "tmp_df = filtered_df[~filtered_df.filtered_labels.apply(lambda x: \"neutral\" in x or not x)]\n",
    "tmp_df.groupby(\"source\").filtered_labels.value_counts().groupby(level=0).head(5)"
   ]
  },
  {
   "cell_type": "code",
   "execution_count": 135,
   "metadata": {},
   "outputs": [
    {
     "data": {
      "text/plain": [
       "array([\"What I'm hoping is that you will tell him to stand down on this and let this go.\",\n",
       "       'So if we hope for the future to be different, the only place we have to stand is now.',\n",
       "       \"and, uh, we've had General Motors for years and have always had real good luck with them.\",\n",
       "       \"`` If Rumania comes in, as I have strong hopes now of her doing, you will see the end in five months instead of five years, '' said Susan.\",\n",
       "       'I will offer them freely whatever good gifts Providence permits me to distribute, and will tell them to be thankful for what they have, and humbly hopeful for more; and surely, if they are not absolute fools, they will condescend to be happy, and will allow me to be a happy Year.',\n",
       "       \"I mean we hope we're doing the right thing, and as I say the response we're getting seems to indicate that, but we have not erm followed through each of  we have a large number of participants every year, you see, in the order of about erm a hundred and fifty each year, so very difficult for you to try and follow through the fate of each of them.\",\n",
       "       'I thought I could at least lend some support in there.',\n",
       "       'well i hope i have enough room at my house for all of these dinosaurs.',\n",
       "       \"Uh, I believe that it will contribute to something that we would at this point call national health care, whether it's subsidized by the government and and operated by private insurers, uh,\",\n",
       "       \"Err - I hope you didn't think I was a 35-year-old woman.\"],\n",
       "      dtype=object)"
      ]
     },
     "execution_count": 135,
     "metadata": {},
     "output_type": "execute_result"
    }
   ],
   "source": [
    "# get samples with specific label\n",
    "emo = \"optimism\"\n",
    "filtered_df.loc[filtered_df.filtered_labels.apply(lambda x: emo in x), \"text\"].sample(10).values"
   ]
  },
  {
   "cell_type": "code",
   "execution_count": null,
   "metadata": {},
   "outputs": [],
   "source": []
  }
 ],
 "metadata": {
  "kernelspec": {
   "display_name": "base",
   "language": "python",
   "name": "python3"
  },
  "language_info": {
   "codemirror_mode": {
    "name": "ipython",
    "version": 3
   },
   "file_extension": ".py",
   "mimetype": "text/x-python",
   "name": "python",
   "nbconvert_exporter": "python",
   "pygments_lexer": "ipython3",
   "version": "3.11.6"
  }
 },
 "nbformat": 4,
 "nbformat_minor": 2
}
