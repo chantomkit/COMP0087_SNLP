{
 "cells": [
  {
   "cell_type": "code",
   "execution_count": 1,
   "metadata": {},
   "outputs": [],
   "source": [
    "import json\n",
    "import re\n",
    "\n",
    "# Load the JSON file\n",
    "with open('emotion_alpaca_v4.json', 'r') as file:\n",
    "    data = json.load(file)"
   ]
  },
  {
   "cell_type": "code",
   "execution_count": 2,
   "metadata": {},
   "outputs": [
    {
     "name": "stdout",
     "output_type": "stream",
     "text": [
      "20890\n"
     ]
    }
   ],
   "source": [
    "print(len(data))"
   ]
  },
  {
   "cell_type": "code",
   "execution_count": 3,
   "metadata": {},
   "outputs": [],
   "source": [
    "import utils\n",
    "import os\n",
    "\n",
    "emotion_data = utils.jload(os.path.join(\"./\", \"emotion_alpaca_v4.json\"))"
   ]
  },
  {
   "cell_type": "code",
   "execution_count": 4,
   "metadata": {},
   "outputs": [
    {
     "data": {
      "text/plain": [
       "20890"
      ]
     },
     "execution_count": 4,
     "metadata": {},
     "output_type": "execute_result"
    }
   ],
   "source": [
    "len(emotion_data)"
   ]
  },
  {
   "cell_type": "code",
   "execution_count": 5,
   "metadata": {},
   "outputs": [
    {
     "name": "stdout",
     "output_type": "stream",
     "text": [
      "Data cleaning completed. Cleaned data saved to 'emotion_alpaca_v4_cleaned.json'.\n"
     ]
    }
   ],
   "source": [
    "def clean_output(output):\n",
    "    # Remove any sentences before \"Rewritten\" and after it until the colon (\":\")\n",
    "    output = re.sub(r'^.*?(?:Rewritten).*?:\\s*', '', output, flags=re.IGNORECASE | re.DOTALL)\n",
    "    \n",
    "    # Remove any remaining leading/trailing whitespace\n",
    "    output = output.strip()\n",
    "    \n",
    "    return output\n",
    "\n",
    "# Clean the 'rewritten_output' field of each instance\n",
    "for instance in data:\n",
    "    rewritten_output = instance['rewritten_output']\n",
    "    cleaned_output = clean_output(rewritten_output)\n",
    "    instance['rewritten_output'] = cleaned_output\n",
    "\n",
    "# Save the cleaned data back to a new JSON file\n",
    "with open('emotion_alpaca_v4_cleaned.json', 'w') as file:\n",
    "    json.dump(data, file, indent=2)\n",
    "\n",
    "print(\"Data cleaning completed. Cleaned data saved to 'emotion_alpaca_v4_cleaned.json'.\")"
   ]
  },
  {
   "cell_type": "code",
   "execution_count": null,
   "metadata": {},
   "outputs": [],
   "source": []
  }
 ],
 "metadata": {
  "kernelspec": {
   "display_name": "nlp",
   "language": "python",
   "name": "python3"
  },
  "language_info": {
   "codemirror_mode": {
    "name": "ipython",
    "version": 3
   },
   "file_extension": ".py",
   "mimetype": "text/x-python",
   "name": "python",
   "nbconvert_exporter": "python",
   "pygments_lexer": "ipython3",
   "version": "3.11.8"
  }
 },
 "nbformat": 4,
 "nbformat_minor": 2
}
