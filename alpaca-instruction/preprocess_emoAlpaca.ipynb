{
 "cells": [
  {
   "cell_type": "code",
   "execution_count": 1,
   "metadata": {},
   "outputs": [],
   "source": [
    "import json\n",
    "\n",
    "# Load the JSON data from the file\n",
    "with open('emotion_alpaca.json') as file:\n",
    "    data = json.load(file)"
   ]
  },
  {
   "cell_type": "code",
   "execution_count": 2,
   "metadata": {},
   "outputs": [
    {
     "data": {
      "text/plain": [
       "{'instruction': 'Give three tips for staying healthy.',\n",
       " 'input': '',\n",
       " 'emotion': 'gratitude',\n",
       " 'original_output': '1. Eat a balanced and nutritious diet: Make sure your meals are inclusive of a variety of fruits and vegetables, lean protein, whole grains, and healthy fats. This helps to provide your body with the essential nutrients to function at its best and can help prevent chronic diseases.\\n\\n2. Engage in regular physical activity: Exercise is crucial for maintaining strong bones, muscles, and cardiovascular health. Aim for at least 150 minutes of moderate aerobic exercise or 75 minutes of vigorous exercise each week.\\n\\n3. Get enough sleep: Getting enough quality sleep is crucial for physical and mental well-being. It helps to regulate mood, improve cognitive function, and supports healthy growth and immune function. Aim for 7-9 hours of sleep each night.',\n",
       " 'rewritten_output': \"[Rewritten Output (Grateful Tone)]\\n1. Tip 1: Express gratitude for the abundance of nutritious foods in your diet: A balanced meal filled with a variety of colorful fruits and vegetables, lean protein sources, whole grains, and healthy fats not only keeps your body fueled, but also shows appreciation for the resources that provide these essential nutrients.\\n\\n2. Tip 2: Embrace the joy of movement: Regular physical activity, such as walking, cycling, or dancing, is a wonderful way to express gratitude for the ability to move your body. Aim for 150 minutes of moderate aerobic exercise or 75 minutes of vigorous exercise each week to strengthen bones, muscles, and cardiovascular health.\\n\\n3. Tip 3: Cultivate a practice of restful sleep: A good night's sleep is a precious gift. Aim for 7-9 hours of quality rest each night to support physical and mental well-being, regulate mood, and improve cognitive function. By expressing gratitude for the opportunity to rest and rejuvenate, you'll wake up feeling refreshed and ready to face the day.\"}"
      ]
     },
     "execution_count": 2,
     "metadata": {},
     "output_type": "execute_result"
    }
   ],
   "source": [
    "data[0]"
   ]
  },
  {
   "cell_type": "code",
   "execution_count": 3,
   "metadata": {},
   "outputs": [],
   "source": [
    "import re\n",
    "\n",
    "\n",
    "# Define the regex pattern to match the phrases\n",
    "pattern = r'^\\[?Rewritten Output(?:\\s*\\([^)]+\\))?\\]?\\s*:?\\n?'"
   ]
  },
  {
   "cell_type": "code",
   "execution_count": 7,
   "metadata": {},
   "outputs": [],
   "source": [
    "# Perform data cleaning operations\n",
    "cleaned_data = []\n",
    "for item in data:\n",
    "    cleaned_item = {}\n",
    "    cleaned_item['instruction'] = item['instruction']\n",
    "    cleaned_item['input'] = item['input']\n",
    "    \n",
    "    # Remove the phrases from rewritten_output using regex\n",
    "    cleaned_item['output'] = re.sub(pattern, '', item['rewritten_output'], flags=re.IGNORECASE).strip()\n",
    "    \n",
    "    # Check if rewritten_output is empty or whitespace\n",
    "    if not cleaned_item['output'] or cleaned_item['output'].isspace():\n",
    "        continue\n",
    "    \n",
    "    cleaned_data.append(cleaned_item)"
   ]
  },
  {
   "cell_type": "code",
   "execution_count": 8,
   "metadata": {},
   "outputs": [],
   "source": [
    "with open('cleaned_emotion_alpaca.json', 'w') as file:\n",
    "    json.dump(cleaned_data, file, indent=4)"
   ]
  },
  {
   "cell_type": "code",
   "execution_count": 9,
   "metadata": {},
   "outputs": [
    {
     "data": {
      "text/plain": [
       "10390"
      ]
     },
     "execution_count": 9,
     "metadata": {},
     "output_type": "execute_result"
    }
   ],
   "source": [
    "len(cleaned_data)"
   ]
  },
  {
   "cell_type": "code",
   "execution_count": 10,
   "metadata": {},
   "outputs": [
    {
     "name": "stdout",
     "output_type": "stream",
     "text": [
      "Saved chunk 1 to emotion_alpaca_1.json\n",
      "Saved chunk 2 to emotion_alpaca_2.json\n",
      "Saved chunk 3 to emotion_alpaca_3.json\n",
      "Saved chunk 4 to emotion_alpaca_4.json\n",
      "Saved chunk 5 to emotion_alpaca_5.json\n"
     ]
    }
   ],
   "source": [
    "import math\n",
    "\n",
    "# Calculate the number of items per chunk\n",
    "num_chunks = 5\n",
    "chunk_size = math.ceil(len(cleaned_data) / num_chunks)\n",
    "\n",
    "for i in range(num_chunks):\n",
    "    start_index = i * chunk_size\n",
    "    end_index = min((i + 1) * chunk_size, len(cleaned_data))\n",
    "    chunk = cleaned_data[start_index:end_index]\n",
    "    \n",
    "    # Save the chunk to a JSON file\n",
    "    chunk_filename = f'emotion_alpaca_{i+1}.json'\n",
    "    with open(chunk_filename, 'w') as file:\n",
    "        json.dump(chunk, file, indent=4)\n",
    "    \n",
    "    print(f\"Saved chunk {i+1} to {chunk_filename}\")"
   ]
  },
  {
   "cell_type": "markdown",
   "metadata": {},
   "source": [
    "<h1>REGEN.JSON"
   ]
  },
  {
   "cell_type": "code",
   "execution_count": 11,
   "metadata": {},
   "outputs": [],
   "source": [
    "import json\n",
    "\n",
    "# Load the JSON data from the file\n",
    "with open('regen.json') as file:\n",
    "    data = json.load(file)"
   ]
  },
  {
   "cell_type": "code",
   "execution_count": 12,
   "metadata": {},
   "outputs": [
    {
     "data": {
      "text/plain": [
       "2006"
      ]
     },
     "execution_count": 12,
     "metadata": {},
     "output_type": "execute_result"
    }
   ],
   "source": [
    "len(data)"
   ]
  },
  {
   "cell_type": "code",
   "execution_count": null,
   "metadata": {},
   "outputs": [],
   "source": []
  }
 ],
 "metadata": {
  "kernelspec": {
   "display_name": "nlp",
   "language": "python",
   "name": "python3"
  },
  "language_info": {
   "codemirror_mode": {
    "name": "ipython",
    "version": 3
   },
   "file_extension": ".py",
   "mimetype": "text/x-python",
   "name": "python",
   "nbconvert_exporter": "python",
   "pygments_lexer": "ipython3",
   "version": "3.9.18"
  }
 },
 "nbformat": 4,
 "nbformat_minor": 2
}
